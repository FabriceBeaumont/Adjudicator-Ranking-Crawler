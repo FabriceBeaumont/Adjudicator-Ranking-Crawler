{
 "cells": [
  {
   "cell_type": "markdown",
   "metadata": {},
   "source": [
    "# Imports"
   ]
  },
  {
   "cell_type": "code",
   "execution_count": 14,
   "metadata": {},
   "outputs": [
    {
     "name": "stderr",
     "output_type": "stream",
     "text": [
      "Exception ignored in: <function tqdm.__del__ at 0x7f7e58101120>\n",
      "Traceback (most recent call last):\n",
      "  File \"/home/fabrice/anaconda3/lib/python3.10/site-packages/tqdm/std.py\", line 1145, in __del__\n",
      "    self.close()\n",
      "  File \"/home/fabrice/anaconda3/lib/python3.10/site-packages/tqdm/notebook.py\", line 283, in close\n",
      "    self.disp(bar_style='danger', check_delay=False)\n",
      "AttributeError: 'tqdm_notebook' object has no attribute 'disp'\n"
     ]
    }
   ],
   "source": [
    "from typing import List, Dict, Tuple, Set\n",
    "\n",
    "import requests\n",
    "from bs4 import BeautifulSoup\n",
    "from pathlib import Path\n",
    "\n",
    "from datetime import date\n",
    "import pandas as pd\n",
    "import os\n",
    "import numpy as np\n",
    "\n",
    "from tqdm import tqdm # https://github.com/tqdm/tqdm#ipython-jupyter-integration\n",
    "# For retries.\n",
    "from requests.adapters import HTTPAdapter\n",
    "from urllib3.util.retry import Retry\n",
    "\n",
    "import time\n",
    "from collections import deque\n",
    "\n",
    "# Local imports.\n",
    "import constants as c"
   ]
  },
  {
   "cell_type": "markdown",
   "metadata": {},
   "source": [
    "# Function definitions"
   ]
  },
  {
   "cell_type": "code",
   "execution_count": 81,
   "metadata": {},
   "outputs": [],
   "source": [
    "class WebCrawler():\n",
    "\n",
    "    def __init__(self, url: str, bad_link_list_path: str = None, good_link_list_path: str = None):\n",
    "        self.base_url: str = url\n",
    "        # If no good and bad link list path is given, assume that they do not exist.\n",
    "        # Initialize the directory and two empty npy-files for these lists.\n",
    "        if bad_link_list_path is None:\n",
    "            dir_path: str = f\"{c.DIR_RESULTS}/{c.get_site_name_from_url(self.base_url)}\"\n",
    "            if not os.path.exists(dir_path):\n",
    "                os.mkdir(dir_path)\n",
    "            bad_link_list_path = f\"{dir_path}/bad_link_list.npy\"\n",
    "            np.save(bad_link_list_path, [])\n",
    "            \n",
    "        if good_link_list_path is None:\n",
    "            dir_path: str = f\"{c.DIR_RESULTS}/{c.get_site_name_from_url(self.base_url)}\"\n",
    "            if not os.path.exists(dir_path):\n",
    "                os.mkdir(dir_path)\n",
    "            good_link_list_path = f\"{dir_path}/good_link_list.npy\"\n",
    "            np.save(good_link_list_path, [])\n",
    "\n",
    "        self.bad_link_list_path: str    = bad_link_list_path\n",
    "        self.good_link_list_path: str   = good_link_list_path\n",
    "        self.discarded_links: List[str] = np.load(self.bad_link_list_path, allow_pickle=True).tolist()\n",
    "        self.accepted_links: List[str]  = np.load(self.good_link_list_path, allow_pickle=True).tolist()\n",
    "\n",
    "    def find_local_anchors(self, soup) -> List[str]:\n",
    "        \"\"\" Reads the soup and returns all hyperreferences which build on the start anchor. \"\"\"\n",
    "        local_anchors: str[str] = set()\n",
    "        \n",
    "        # Iterate through the soup and find all hyperreferences (html tag <\"a href\">)\n",
    "        for link in soup.find_all(\"a\"):\n",
    "            local_link: str = link.attrs[\"href\"] if \"href\" in link.attrs else \"\"\n",
    "\n",
    "            # Strip the anchor of the base url.\n",
    "            if local_link.startswith(self.base_url):\n",
    "                anchor = local_link[len(self.base_url) :]\n",
    "\n",
    "                # If not collected already, add it to the others.\n",
    "                if anchor not in local_anchors:\n",
    "                    local_anchors.add(anchor)\n",
    "\n",
    "        return local_anchors\n",
    "\n",
    "    def crawl_href_links(\n",
    "            self, \n",
    "            url: str, \n",
    "            website_contains_content_all: str = [], \n",
    "            url_shall_contain_all: List[str] = [], \n",
    "            url_shall_contain_some: List[str] = [],\n",
    "            url_must_not_contain_any: List[str] = [],\n",
    "            forbidden_url_prefixes: List[str] = [], \n",
    "            forbidden_url_postfixes: List[str] = [], \n",
    "            reconnection_trys: int = 3,\n",
    "            verbose: bool = False\n",
    "        ) -> Tuple[List[str], List[str]]:\n",
    "        \"\"\" Crawls the urls and collects all links in it.\n",
    "            Use 'content_keyword' to demand that the links point to websites containing this keyword.\n",
    "            Use 'url_shall_contain' or 'url_must_not_contain' to demant that the links contain or do not contain the keyword in their url.\n",
    "            Use 'forbidden_url_prefixes' or 'forbidden_url_postfixes' to exclude urls with specific starts or endings.\n",
    "\n",
    "            This function also maintains the lists of accepted and discarded links of the crawler class.            \n",
    "            It returns the newly found accepted links, and the entire list of accepted links.\n",
    "\n",
    "            Example usage:\n",
    "            - Pass a tournament site and find all TopTurnier competition sites on it.\n",
    "            - Pass a website listing dance clubs and find all websites to dance clubs on it.\n",
    "        \"\"\"\n",
    "        def url_checker(u: str) -> bool:\n",
    "            \"\"\" Test the given url, if it fulfills the set url critera. \n",
    "                Returns the decision.\n",
    "            \"\"\"\n",
    "            \n",
    "            contains_some_desired   = True\n",
    "            if len(url_shall_contain_some) > 0:\n",
    "                contains_some_desired = any([s in u for s in url_shall_contain_some])\n",
    "            \n",
    "            contains_all_desired    = all([s in u for s in url_shall_contain_all])\n",
    "            contains_none_forbidden = not any([s in u for s in url_must_not_contain_any])\n",
    "            allowed_url_prefix      = not u.startswith(tuple(forbidden_url_prefixes))\n",
    "            allowed_url_postfix     = not u.endswith(tuple(forbidden_url_postfixes))\n",
    "            return contains_all_desired and contains_some_desired and contains_none_forbidden and allowed_url_prefix and allowed_url_postfix\n",
    "\n",
    "        new_links_ctr: int = 0\n",
    "        new_good_links_list: List[str] = []\n",
    "        \n",
    "        reconnection_ctr: int = reconnection_trys\n",
    "        # In case the host rejects to many calls, set up retries.\n",
    "        session = requests.Session()\n",
    "        retry = Retry(connect=3, backoff_factor=1.0)\n",
    "        adapter = HTTPAdapter(max_retries=retry)\n",
    "        session.mount(\"https://\", adapter)\n",
    "\n",
    "        while not (reconnection_ctr < 0):\n",
    "            try:                \n",
    "                # Extract the source code.\n",
    "                source_code = session.get(url)\n",
    "                # Read the source code.\n",
    "                soup = BeautifulSoup(source_code.text, \"html.parser\")\n",
    "\n",
    "                # Iterate through all links on this website. \n",
    "                # Collect links that point at sites which contain the 'key_word'. \n",
    "                links = list(set(soup.find_all(\"a\")))\n",
    "                for link in links:\n",
    "                    save_link: bool = False\n",
    "                    if \"href\" in link.attrs:\n",
    "                        # Ignore download-links.\n",
    "                        if link.attrs.get(\"class\") == 'download-link':\n",
    "                            continue\n",
    "                        \n",
    "                        # Extract the links.\n",
    "                        linked_url: str = link.attrs[\"href\"]\n",
    "                        if verbose: print(f\"\\rLink: '{linked_url}'\", end=\" \"*150)\n",
    "                        # Construct the links, add the current url if necessary.\n",
    "                        if not linked_url.startswith(\"http\"):\n",
    "                            linked_url = f\"{url}{linked_url}\"\n",
    "\n",
    "                        # Check the url for the desired features.\n",
    "                        save_link = url_checker(linked_url)\n",
    "                        \n",
    "                        # Before expensively checking for website content, test if the link is already known.\n",
    "                        # Thus if the 'good_links_list' or 'bad_links_list' are set, use them to prevent unnecessary processing.\n",
    "                        # Ignore links that have already been processed (possibly earlyer).\n",
    "                        if linked_url in self.discarded_links or linked_url in self.accepted_links:\n",
    "                            if verbose: print(f\" => Already known\", end=\" \"*150)\n",
    "                            continue\n",
    "\n",
    "                        # If restrains to the website content are made, check them now.\n",
    "                        # Therefore first crawl content of the linked website.\n",
    "                        if len(website_contains_content_all) > 0:\n",
    "                            try:\n",
    "                                source_code = session.get(linked_url)                    \n",
    "                                link_soup = BeautifulSoup(source_code.text, \"html.parser\")\n",
    "\n",
    "                                # At this point it is already assumed that the link shall be saved. Negate this, if a content keyword is missing.\n",
    "                                if not all([s in str(link_soup) for s in website_contains_content_all]):\n",
    "                                    save_link = False\n",
    "                                    if verbose: print(f\" => Undesired content\", end=\" \"*150)\n",
    "                                else:\n",
    "                                    if verbose: print(f\" => Desired content\", end=\" \"*150)\n",
    "                                    \n",
    "                            except Exception as e:\n",
    "                                self.discarded_links.append(linked_url)\n",
    "                                print(f\"Error: On site '{url}', could not process link '{linked_url}'\\n>>> {e}\")\n",
    "                                time.sleep(1)\n",
    "\n",
    "                        # Save the link.\n",
    "                        if save_link:\n",
    "                            self.accepted_links.append(linked_url)\n",
    "                            new_good_links_list.append(linked_url)\n",
    "                            new_links_ctr += 1\n",
    "                        else: \n",
    "                            self.discarded_links.append(linked_url)\n",
    "                        \n",
    "                # Update the connection counter such that the while loop ends after this succesful connection.\n",
    "                reconnection_ctr = -2\n",
    "\n",
    "            except Exception as e:\n",
    "                print(f\"Error: Could not completely process site '{url}'\\n>>>{e}\")\n",
    "                time.sleep(1)\n",
    "                # Decrement the connection counter and try once more.\n",
    "                reconnection_ctr -= 1\n",
    "                    \n",
    "            if verbose: print()\n",
    "\n",
    "        # Update the list of known good and bad links.\n",
    "        np.save(self.good_link_list_path, self.accepted_links, allow_pickle=True)\n",
    "        np.save(self.bad_link_list_path, self.discarded_links, allow_pickle=True)\n",
    "        return new_good_links_list, self.accepted_links\n",
    "\n",
    "    def crawl_all_anchor_sites(\n",
    "            self, \n",
    "            start_anchor: str = \"/\", \n",
    "            reconnection_trys: int = 3,\n",
    "            link_depth: int = 3\n",
    "        ) -> List[str]:\n",
    "        \"\"\" Returns a list of all URLs found by following links on the given base url and subsites, anchored on it.\n",
    "            For example to crawl for any links (whithout a suffixes like '.jpg' or '.pdf').\n",
    "\n",
    "        Args:\n",
    "            start_anchor (str, optional): URL anchor to start constructing new subsites. Defaults to \"/\".\n",
    "            recusrion_depth (int, optional): Depth on how many URLs will be followed in order to find target sites. Defaults to 5.\n",
    "            verbose (bool, optional): If True - print more statements will be printed to the console. Defaults to False.\n",
    "\n",
    "        Returns:\n",
    "            List[str]: A list of found URLs.\n",
    "        \"\"\"\n",
    "        # Initial print to offset '\\r'.\n",
    "        print()\n",
    "        \n",
    "        # Organize all anchors (all local URLs) in a queue.\n",
    "        search_anchors = deque()\n",
    "        search_anchors.append((start_anchor, 0))\n",
    "        \n",
    "        # Assemble the first url to search.\n",
    "        # All urls will be build from the base url. This does not allow to jump to other websites during the recursive crawl, \n",
    "        # but allows to find links to them.\n",
    "        url_depth_dict: Dict[str, int] = {self.base_url + start_anchor: 1}\n",
    "        new_urls: List[str] = []\n",
    "\n",
    "        # In case the host rejects to many calls, set up retries.\n",
    "        session = requests.Session()\n",
    "        retry = Retry(connect=3, backoff_factor=1.0)\n",
    "        adapter = HTTPAdapter(max_retries=retry)\n",
    "        session.mount(\"https://\", adapter)\n",
    "\n",
    "        reconnection_ctr: int = reconnection_trys\n",
    "        start_time = time.time()\n",
    "        # While the queue is not empty and the connection holds, crawl for urls.\n",
    "        while len(search_anchors) > 0 and reconnection_ctr > 0:\n",
    "            # Fetch search anchors.\n",
    "            search_anchor, depth = search_anchors.pop()\n",
    "            # Do not continue, if the reached link has been discoverd by clicking through 'link_depth' many links.\n",
    "            if depth > link_depth:\n",
    "                continue\n",
    "            try:\n",
    "                # Extract the source code.\n",
    "                source_code = session.get(self.base_url + search_anchor)\n",
    "                # Read the source code.\n",
    "                soup = BeautifulSoup(source_code.text, \"html.parser\")\n",
    "                # Extract anchors from the source code.\n",
    "                anchors: List[str] = self.find_local_anchors(soup)\n",
    "\n",
    "                # Store unknown local anchors to feed the queue and the list of resulting urls.\n",
    "                if len(anchors) == 0:\n",
    "                    continue\n",
    "            \n",
    "                # Iterate through all anchors, construct the url and add it to the search list.\n",
    "                for anchor in anchors:\n",
    "                    # Assemble the current url.\n",
    "                    tmp_url: str = self.base_url + anchor\n",
    "\n",
    "                    # For the next search iteration, only use anchors, which do not link to a file - and thus do not have a suffix.\n",
    "                    # Like for example '.html', '.pdf',...\n",
    "                    # Also do not search already known URLs twice.\n",
    "                    if Path(anchor).suffix != \"\" or tmp_url in url_depth_dict.keys():\n",
    "                        continue\n",
    "                    else:\n",
    "                        search_anchors.appendleft((anchor, depth + 1))\n",
    "\n",
    "                    url_depth_dict[tmp_url] = depth + 1\n",
    "                    new_urls.append(tmp_url)\n",
    "\n",
    "                print(f\"\\rUrls found: {len(url_depth_dict)}\\tPending: {len(search_anchors)}\\tCurrent anchor: {search_anchor}\", end=\" \"*50)\n",
    "            except Exception as e:\n",
    "                print(e)\n",
    "                print(f\"Error while searching in '{self.base_url + search_anchor}':\\n{e}\")\n",
    "                time.sleep(2)\n",
    "                reconnection_ctr -= 1\n",
    "\n",
    "        runtime = time.time() - start_time\n",
    "        print(f\"\\nFound {len(new_urls)} new subsites in {runtime: 0.2f} sec\\t({runtime / max(1, len(new_urls)): 0.2f} sec per url)\")\n",
    "        print(f\"Number of known subsites in total {len(url_depth_dict)}\")\n",
    "        \n",
    "        return list(url_depth_dict.keys())\n"
   ]
  },
  {
   "cell_type": "markdown",
   "metadata": {},
   "source": [
    "# Usage"
   ]
  },
  {
   "cell_type": "markdown",
   "metadata": {},
   "source": [
    "## 1. Crawl for club names\n",
    "Given a site that contains links to clubs, crawl links that may lead to them. These are links that do not contain the original site name in the url."
   ]
  },
  {
   "cell_type": "code",
   "execution_count": 68,
   "metadata": {},
   "outputs": [],
   "source": [
    "# Crawl for club names using the club finder table.\n",
    "find_clubs = pd.read_csv(f\"{c.DIR_RESULTS}/{c.FilenameList.FIND_CLUBS}\")\n",
    "# for i, row in find_clubs.iterrows():\n",
    "row = find_clubs.iloc[0]\n",
    "site = row.iloc[0]\n",
    "federal_state = row.iloc[1]\n",
    "crawl_date = row.iloc[2]\n",
    "wc = WebCrawler(site)"
   ]
  },
  {
   "cell_type": "code",
   "execution_count": 56,
   "metadata": {},
   "outputs": [
    {
     "name": "stdout",
     "output_type": "stream",
     "text": [
      "Saved 174 valid links (174 new ones) from site 'https://tnw.de/verband/vereine/'\n"
     ]
    }
   ],
   "source": [
    "# Since we are looking for links to other club sites, these urls must not contain the site name of the current url.\n",
    "new_club_sites, old_club_sites = wc.crawl_href_links(\n",
    "    urls=[site], \n",
    "    url_must_not_contain_any=[c.get_site_name_from_url(site)], \n",
    "    forbidden_url_prefixes=c.ClubsDf.BAD_LINK_PREFIXES, \n",
    "    forbidden_url_postfixes=c.ClubsDf.BAD_LINK_POSTFIXES\n",
    ")\n",
    "print(f\"Saved {len(old_club_sites)} valid links ({len(new_club_sites)} new ones) from site '{site}'\")"
   ]
  },
  {
   "cell_type": "markdown",
   "metadata": {},
   "source": [
    "## 2. Go through the crawled club names\n",
    "Try to find a collection of tournaments, if found, save the site to the clubs list and the original site."
   ]
  },
  {
   "cell_type": "code",
   "execution_count": 82,
   "metadata": {},
   "outputs": [],
   "source": [
    "club_site = 'https://www.tanzsportkreis-sankt-augustin.de/'\n",
    "# old_club_sites[0]\n",
    "wc = WebCrawler(club_site)"
   ]
  },
  {
   "cell_type": "code",
   "execution_count": 85,
   "metadata": {},
   "outputs": [
    {
     "name": "stdout",
     "output_type": "stream",
     "text": [
      "Link: ?s=                                                                                                                                                                                                                => Already known                                                                                                                                                                                                     \n"
     ]
    }
   ],
   "source": [
    "new_links, all_links = wc.crawl_href_links(\n",
    "    url=club_site,\n",
    "    url_shall_contain_some=['urnier', 'rgebnisse', 'ompetition', 'esults'],\n",
    "    forbidden_url_prefixes=c.ClubsDf.BAD_LINK_PREFIXES,\n",
    "    forbidden_url_postfixes=c.ClubsDf.BAD_LINK_POSTFIXES,\n",
    "    verbose=True\n",
    ")"
   ]
  },
  {
   "cell_type": "code",
   "execution_count": 86,
   "metadata": {},
   "outputs": [
    {
     "data": {
      "text/plain": [
       "['https://www.tanzsportkreis-sankt-augustin.de/2023/12/04/adventliche-tanzparty-mit-pokal-turnier-und-show/',\n",
       " 'https://www.tanzsportkreis-sankt-augustin.de/2023/12/13/adventliche-tanzparty-mit-pokal-turnier-und-show-2/',\n",
       " 'https://www.tanzsportkreis-sankt-augustin.de/unser-club/turnierpaare/',\n",
       " 'https://www.tanzsportkreis-sankt-augustin.de/veranstaltungen/competition/',\n",
       " 'https://www.tanzsportkreis-sankt-augustin.de/veranstaltungen/turnierergebnisse/',\n",
       " 'https://www.tanzsportkreis-sankt-augustin.de/event/tsk-turnierwochenende-lm-nrw/']"
      ]
     },
     "execution_count": 86,
     "metadata": {},
     "output_type": "execute_result"
    }
   ],
   "source": [
    "new_links"
   ]
  },
  {
   "cell_type": "code",
   "execution_count": 87,
   "metadata": {},
   "outputs": [
    {
     "data": {
      "text/plain": [
       "['https://www.tanzsportkreis-sankt-augustin.de/2023/12/04/adventliche-tanzparty-mit-pokal-turnier-und-show/',\n",
       " 'https://www.tanzsportkreis-sankt-augustin.de/2023/12/13/adventliche-tanzparty-mit-pokal-turnier-und-show-2/',\n",
       " 'https://www.tanzsportkreis-sankt-augustin.de/unser-club/turnierpaare/',\n",
       " 'https://www.tanzsportkreis-sankt-augustin.de/veranstaltungen/competition/',\n",
       " 'https://www.tanzsportkreis-sankt-augustin.de/veranstaltungen/turnierergebnisse/',\n",
       " 'https://www.tanzsportkreis-sankt-augustin.de/event/tsk-turnierwochenende-lm-nrw/']"
      ]
     },
     "execution_count": 87,
     "metadata": {},
     "output_type": "execute_result"
    }
   ],
   "source": [
    "all_links"
   ]
  },
  {
   "cell_type": "markdown",
   "metadata": {},
   "source": [
    "## 3. Next, identify the tournament sites and crawl for the individual competitions\n",
    "Here we only crawl for results from the software `TopTurnier`. Thus the *tournament sites* and the *competition sites* can be identified by the key content:\n",
    "\n",
    "    `<meta name=\"GENERATOR\" content=\"TopTurnier\">`\n",
    "\n",
    "A competition site is found, on top of the content keyword its url ends with the anchor `\\index.hmt`."
   ]
  },
  {
   "cell_type": "code",
   "execution_count": 72,
   "metadata": {},
   "outputs": [
    {
     "name": "stdout",
     "output_type": "stream",
     "text": [
      "Link: http://s654605630.online.de/kontakt/datenschutz/          -tanz-treff-3/                            led.jpg          d content           => Undesired content           => Undesired content           => Undesired content           => Undesired content           => Undesired content           => Undesired content           => Undesired content           => Undesired content           => Undesired content           => Undesired content           => Undesired content           => Undesired content           => Undesired content           => Undesired content           => Undesired content           => Undesired content           => Undesired content           => Undesired content           => Undesired content           => Undesired content           => Undesired content           => Undesired content           => Undesired content           => Undesired content           => Undesired content           => Undesired content           => Undesired content           => Undesired content           => Undesired content           => Undesired content           => Undesired content           => Undesired content           => Undesired content           => Undesired content           => Undesired content           => Undesired content           => Undesired content           => Undesired content           => Undesired content           => Undesired content           => Undesired content           => Undesired content           => Undesired content           => Undesired content           => Undesired content           => Undesired content           => Undesired content           => Undesired content           => Undesired content           => Undesired content           => Undesired content          \n",
      "[]\n",
      "Link: https://www.tanzsportkreis-sankt-augustin.de/2023/12/04/adventliche-tanzparty-mit-pokal-turnier-und-show/                      y known          ired content           => Undesired content           => Undesired content           => Undesired content           => Undesired content           => Undesired content           => Undesired content          \n",
      "[]\n",
      "Link: ?s=          anzsportkreis-sankt-augustin.de/portfolio-item/winkler-simon/           => Already known                          d content           => Undesired content           => Undesired content           => Undesired content           => Undesired content           => Undesired content           => Undesired content           => Undesired content           => Undesired content           => Undesired content           => Undesired content           => Undesired content           => Undesired content           => Undesired content           => Undesired content           => Undesired content           => Undesired content           => Undesired content           => Undesired content           => Undesired content           => Undesired content           => Undesired content           => Undesired content           => Undesired content           => Undesired content           => Undesired content           => Undesired content           => Undesired content           => Undesired content           => Undesired content          \n",
      "[]\n",
      "Link: http://s654605630.online.de/kontakt/datenschutz/           => Already known               => Already known                     83b57fab:0x58bed84a8f4ae2a!2sAm+Kreuzeck+2B,+53757+Sankt+Augustin!3b1!8m2!3d50.7667963!4d7.1971388!4m8!1m0!1m5!1m1!1s0x47bee71383b57fab:0x58bed84a8f4ae2a!2m2!1d7.1971388!2d50.7667963!3e2           => Undesired content           => Undesired content           => Undesired content           => Undesired content           => Undesired content           => Undesired content           => Undesired content           => Undesired content           => Undesired content           => Undesired content           => Undesired content           => Undesired content           => Undesired content          \n",
      "[]\n",
      "Link: #2014          30.online.de/kontakt/datenschutz/           => Already known               => Already known                           desired content           => Undesired content           => Undesired content           => Undesired content           => Undesired content           => Undesired content           => Undesired content           => Undesired content           => Undesired content           => Desired content           => Undesired content           => Undesired content           => Undesired content           => Undesired content           => Undesired content           => Undesired content          \n",
      "['https://ergebnisse.tanzsportkreis-sankt-augustin.de/2022/22-08-07_TSK_Sommerturniere_sen', 'https://ergebnisse.tanzsportkreis-sankt-augustin.de/2023/23-12-16_17 TSK CFP', 'https://ergebnisse.tanzsportkreis-sankt-augustin.de/2015/TSK_220215/', 'https://ergebnisse.tanzsportkreis-sankt-augustin.de/2018/TSK_271018/', 'https://ergebnisse.tanzsportkreis-sankt-augustin.de/2023/23-08-12_TSK_Sommerturniere/', 'https://ergebnisse.tanzsportkreis-sankt-augustin.de/2016/TSK_291016/', 'https://ergebnisse.tanzsportkreis-sankt-augustin.de/2014/TSK_220214/', 'https://ergebnisse.tanzsportkreis-sankt-augustin.de/2021/TSK_111221/', 'https://ergebnisse.tanzsportkreis-sankt-augustin.de/2023/23-09-16_TSK_SOLO Turniere und LM NRW', 'https://ergebnisse.tanzsportkreis-sankt-augustin.de/2022/22-03-19_TSK_TnwPokal', 'https://ergebnisse.tanzsportkreis-sankt-augustin.de/2014/TSK_230214/', 'https://ergebnisse.tanzsportkreis-sankt-augustin.de/2015/TSK_281115/']\n",
      "Link: https://www.tanzsportkreis-sankt-augustin.de/event/ttt-tsk-tanz-treff-2/           => Already known          rtag%20LM%20NRW&details=Wir+freuen+uns%2C+in+unserem+Clubhaus+in+folgenden+Klassen+die+%3Cstrong%3ELandesmeisterschaften+NRW+2024%3C%2Fstrong%3E+durchf%C3%BChren+zu+k%C3%B6nnen%3A%0A%0AHGR+D+und+C+Standard%0A%0AMAS+II+A+und+S+Latein%0A%0AMAS+III+A+und+S+Latein%0A%0A%26nbsp%3B%0A%0Aweitere+Informationen+folgen...&location=Halle%201%20&%202&trp=false&ctz=Europe/Berlin&sprop=website:https://www.tanzsportkreis-sankt-augustin.de           => Undesired content           => Undesired content          \n",
      "['https://ergebnisse.tanzsportkreis-sankt-augustin.de/2022/22-08-07_TSK_Sommerturniere_sen', 'https://ergebnisse.tanzsportkreis-sankt-augustin.de/2023/23-12-16_17 TSK CFP', 'https://ergebnisse.tanzsportkreis-sankt-augustin.de/2015/TSK_220215/', 'https://ergebnisse.tanzsportkreis-sankt-augustin.de/2018/TSK_271018/', 'https://ergebnisse.tanzsportkreis-sankt-augustin.de/2023/23-08-12_TSK_Sommerturniere/', 'https://ergebnisse.tanzsportkreis-sankt-augustin.de/2016/TSK_291016/', 'https://ergebnisse.tanzsportkreis-sankt-augustin.de/2014/TSK_220214/', 'https://ergebnisse.tanzsportkreis-sankt-augustin.de/2021/TSK_111221/', 'https://ergebnisse.tanzsportkreis-sankt-augustin.de/2023/23-09-16_TSK_SOLO Turniere und LM NRW', 'https://ergebnisse.tanzsportkreis-sankt-augustin.de/2022/22-03-19_TSK_TnwPokal', 'https://ergebnisse.tanzsportkreis-sankt-augustin.de/2014/TSK_230214/', 'https://ergebnisse.tanzsportkreis-sankt-augustin.de/2015/TSK_281115/']\n"
     ]
    }
   ],
   "source": [
    "# Crawl competition links from a tournament link (give in url_hints.csv)\n",
    "for u in all_links:\n",
    "    new_tournament_links, all_tournament_links = wc.crawl_href_links(\n",
    "        urls=[u],\n",
    "        website_contains_content_all=[c.FindTournamentsDf.KEY_CONTENT],\n",
    "        forbidden_url_prefixes=c.FindTournamentsDf.BAD_LINK_PREFIXES,\n",
    "        forbidden_url_postfixes=c.FindTournamentsDf.BAD_LINK_POSTFIXES,\n",
    "        verbose=True    \n",
    "    )\n",
    "    print(all_tournament_links)\n"
   ]
  },
  {
   "cell_type": "code",
   "execution_count": 73,
   "metadata": {},
   "outputs": [
    {
     "data": {
      "text/plain": [
       "['https://ergebnisse.tanzsportkreis-sankt-augustin.de/2022/22-08-07_TSK_Sommerturniere_sen',\n",
       " 'https://ergebnisse.tanzsportkreis-sankt-augustin.de/2023/23-12-16_17 TSK CFP',\n",
       " 'https://ergebnisse.tanzsportkreis-sankt-augustin.de/2015/TSK_220215/',\n",
       " 'https://ergebnisse.tanzsportkreis-sankt-augustin.de/2018/TSK_271018/',\n",
       " 'https://ergebnisse.tanzsportkreis-sankt-augustin.de/2023/23-08-12_TSK_Sommerturniere/',\n",
       " 'https://ergebnisse.tanzsportkreis-sankt-augustin.de/2016/TSK_291016/',\n",
       " 'https://ergebnisse.tanzsportkreis-sankt-augustin.de/2014/TSK_220214/',\n",
       " 'https://ergebnisse.tanzsportkreis-sankt-augustin.de/2021/TSK_111221/',\n",
       " 'https://ergebnisse.tanzsportkreis-sankt-augustin.de/2023/23-09-16_TSK_SOLO Turniere und LM NRW',\n",
       " 'https://ergebnisse.tanzsportkreis-sankt-augustin.de/2022/22-03-19_TSK_TnwPokal',\n",
       " 'https://ergebnisse.tanzsportkreis-sankt-augustin.de/2014/TSK_230214/',\n",
       " 'https://ergebnisse.tanzsportkreis-sankt-augustin.de/2015/TSK_281115/']"
      ]
     },
     "execution_count": 73,
     "metadata": {},
     "output_type": "execute_result"
    }
   ],
   "source": [
    "all_tournament_links"
   ]
  },
  {
   "cell_type": "code",
   "execution_count": null,
   "metadata": {},
   "outputs": [],
   "source": [
    "    # comp_links = []\n",
    "    # for tournament_link in tmp_tournament_links:\n",
    "    #     if tournament_link.endswith(c.CompetitionsDf.KEY_URL_ANCHOR):\n",
    "    #         comp_links.append(tournament_link)\n",
    "    #         continue\n",
    "    #     else:\n",
    "    #         wc_comp = WebCrawler(tournament_link)\n",
    "    #         potential_competition_links = wc.crawl_all_anchor_sites()\n",
    "    #         competition_links = [comp_link for comp_link in potential_competition_links if comp_link.endswith(c.CompetitionsDf.KEY_URL_ANCHOR)]\n",
    "    #         print(f\"Found competition sites in {tournament_link}:\\n{competition_links}\")"
   ]
  },
  {
   "cell_type": "code",
   "execution_count": null,
   "metadata": {},
   "outputs": [
    {
     "name": "stdout",
     "output_type": "stream",
     "text": [
      "Link: #2014          30.online.de/kontakt/datenschutz/          en/turnierergebnisse/           content                    ontent          desired content           => Undesired content           => Undesired content           => Undesired content           => Undesired content           => Undesired content           => Undesired content           => Undesired content           => Undesired content           => Undesired content           => Undesired content           => Undesired content           => Undesired content           => Undesired content           => Undesired content           => Undesired content           => Undesired content           => Undesired content           => Undesired content           => Undesired content           => Undesired content           => Undesired content           => Undesired content           => Undesired content           => Undesired content           => Undesired content           => Undesired content           => Undesired content           => Undesired content           => Undesired content           => Undesired content           => Undesired content           => Undesired content           => Undesired content           => Undesired content           => Undesired content           => Undesired content           => Undesired content           => Undesired content           => Undesired content           => Undesired content           => Undesired content           => Undesired content           => Undesired content           => Undesired content           => Undesired content           => Undesired content           => Undesired content           => Undesired content           => Undesired content           => Undesired content           => Undesired content           => Undesired content           => Undesired content           => Undesired content           => Undesired content           => Undesired content          \n"
     ]
    },
    {
     "data": {
      "text/plain": [
       "['https://ergebnisse.tanzsportkreis-sankt-augustin.de/2022/22-08-07_TSK_Sommerturniere_sen',\n",
       " 'https://ergebnisse.tanzsportkreis-sankt-augustin.de/2023/23-12-16_17 TSK CFP',\n",
       " 'https://ergebnisse.tanzsportkreis-sankt-augustin.de/2015/TSK_220215/',\n",
       " 'https://ergebnisse.tanzsportkreis-sankt-augustin.de/2018/TSK_271018/',\n",
       " 'https://ergebnisse.tanzsportkreis-sankt-augustin.de/2023/23-08-12_TSK_Sommerturniere/',\n",
       " 'https://ergebnisse.tanzsportkreis-sankt-augustin.de/2016/TSK_291016/',\n",
       " 'https://ergebnisse.tanzsportkreis-sankt-augustin.de/2014/TSK_220214/',\n",
       " 'https://ergebnisse.tanzsportkreis-sankt-augustin.de/2021/TSK_111221/',\n",
       " 'https://ergebnisse.tanzsportkreis-sankt-augustin.de/2023/23-09-16_TSK_SOLO Turniere und LM NRW',\n",
       " 'https://ergebnisse.tanzsportkreis-sankt-augustin.de/2022/22-03-19_TSK_TnwPokal',\n",
       " 'https://ergebnisse.tanzsportkreis-sankt-augustin.de/2014/TSK_230214/',\n",
       " 'https://ergebnisse.tanzsportkreis-sankt-augustin.de/2015/TSK_281115/']"
      ]
     },
     "metadata": {},
     "output_type": "display_data"
    }
   ],
   "source": [
    "# Crawl competition links from a tournament link (give in url_hints.csv)\n",
    "tournament_list_link = 'https://www.tanzsportkreis-sankt-augustin.de/veranstaltungen/turnierergebnisse/'\n",
    "wc = WebCrawler(tournament_list_link)\n",
    "new_tournament_links, all_tournament_links = wc.crawl_href_links([tournament_list_link], website_contains_content_all=[c.FindTournamentsDf.KEY_CONTENT], verbose=True)\n",
    "all_tournament_links"
   ]
  },
  {
   "cell_type": "code",
   "execution_count": null,
   "metadata": {},
   "outputs": [],
   "source": [
    "# TODO: For all these tournaments - decide if tournament or competition. If competition: Save with base url to competition dataframe.\n",
    "# If tournament, crawl all competitions and save to competition dataframe with tournament link as base."
   ]
  },
  {
   "cell_type": "markdown",
   "metadata": {},
   "source": [
    "## Test the already finished features"
   ]
  },
  {
   "cell_type": "code",
   "execution_count": null,
   "metadata": {},
   "outputs": [
    {
     "data": {
      "text/html": [
       "<div>\n",
       "<style scoped>\n",
       "    .dataframe tbody tr th:only-of-type {\n",
       "        vertical-align: middle;\n",
       "    }\n",
       "\n",
       "    .dataframe tbody tr th {\n",
       "        vertical-align: top;\n",
       "    }\n",
       "\n",
       "    .dataframe thead th {\n",
       "        text-align: right;\n",
       "    }\n",
       "</style>\n",
       "<table border=\"1\" class=\"dataframe\">\n",
       "  <thead>\n",
       "    <tr style=\"text-align: right;\">\n",
       "      <th></th>\n",
       "      <th>Url</th>\n",
       "      <th>Scope</th>\n",
       "      <th>Federal state</th>\n",
       "      <th>Crawl date</th>\n",
       "    </tr>\n",
       "  </thead>\n",
       "  <tbody>\n",
       "    <tr>\n",
       "      <th>0</th>\n",
       "      <td>https://www.tanzsportkreis-sankt-augustin.de/v...</td>\n",
       "      <td>Local</td>\n",
       "      <td>Nordrhein-Westfalen</td>\n",
       "      <td>2023-12-29</td>\n",
       "    </tr>\n",
       "    <tr>\n",
       "      <th>1</th>\n",
       "      <td>https://ttcrotgoldkoeln.de/turniere/</td>\n",
       "      <td>Local</td>\n",
       "      <td>Nordrhein-Westfalen</td>\n",
       "      <td>2023-12-29</td>\n",
       "    </tr>\n",
       "    <tr>\n",
       "      <th>2</th>\n",
       "      <td>https://www.tscbruehl.de/index.php/service/tur...</td>\n",
       "      <td>Local</td>\n",
       "      <td>Nordrhein-Westfalen</td>\n",
       "      <td>2023-12-29</td>\n",
       "    </tr>\n",
       "    <tr>\n",
       "      <th>3</th>\n",
       "      <td>https://askania-tsc.de/turnierergebnisse/</td>\n",
       "      <td>Local</td>\n",
       "      <td>Nordrhein-Westfalen</td>\n",
       "      <td>2023-12-29</td>\n",
       "    </tr>\n",
       "    <tr>\n",
       "      <th>4</th>\n",
       "      <td>https://ltv-berlin.de/de/sport/leistungssport/...</td>\n",
       "      <td>Regional</td>\n",
       "      <td>Berlin</td>\n",
       "      <td>2023-12-29</td>\n",
       "    </tr>\n",
       "    <tr>\n",
       "      <th>5</th>\n",
       "      <td>https://tnw.de/sport/standard-latein/turnierer...</td>\n",
       "      <td>Regional</td>\n",
       "      <td>Nordrhein-Westfalen</td>\n",
       "      <td>2023-12-29</td>\n",
       "    </tr>\n",
       "    <tr>\n",
       "      <th>6</th>\n",
       "      <td>https://www.tbw.de/home/service/ergebnis-archiv</td>\n",
       "      <td>Regional</td>\n",
       "      <td>Baden-Wuerttemberg</td>\n",
       "      <td>2023-12-29</td>\n",
       "    </tr>\n",
       "    <tr>\n",
       "      <th>7</th>\n",
       "      <td>https://ltvb.de/sport/leistungssport/ergebniss...</td>\n",
       "      <td>Regional</td>\n",
       "      <td>Bayern</td>\n",
       "      <td>2023-12-29</td>\n",
       "    </tr>\n",
       "    <tr>\n",
       "      <th>8</th>\n",
       "      <td>https://www.hatv.de/index.php/sport/sport-stan...</td>\n",
       "      <td>Regional</td>\n",
       "      <td>Hamburg</td>\n",
       "      <td>2023-12-29</td>\n",
       "    </tr>\n",
       "    <tr>\n",
       "      <th>9</th>\n",
       "      <td>https://htv.de/veranstaltungen/meisterschaften...</td>\n",
       "      <td>Regional</td>\n",
       "      <td>Hessen</td>\n",
       "      <td>2023-12-29</td>\n",
       "    </tr>\n",
       "    <tr>\n",
       "      <th>10</th>\n",
       "      <td>https://www.trp-tanzen.org/index.php/ergebniss...</td>\n",
       "      <td>Regional</td>\n",
       "      <td>Rheinland-Pfalz</td>\n",
       "      <td>2023-12-29</td>\n",
       "    </tr>\n",
       "    <tr>\n",
       "      <th>11</th>\n",
       "      <td>https://www.tanzen-slt.de/public/sport/turnier...</td>\n",
       "      <td>Regional</td>\n",
       "      <td>Saarland</td>\n",
       "      <td>2023-12-29</td>\n",
       "    </tr>\n",
       "    <tr>\n",
       "      <th>12</th>\n",
       "      <td>https://www.faszination-tanzen.de/sportwelten-...</td>\n",
       "      <td>Regional</td>\n",
       "      <td>Sachsen</td>\n",
       "      <td>2023-12-29</td>\n",
       "    </tr>\n",
       "    <tr>\n",
       "      <th>13</th>\n",
       "      <td>https://www.ttsv-tanzen.de/turnierergebnisse/</td>\n",
       "      <td>Regional</td>\n",
       "      <td>Thüringen</td>\n",
       "      <td>2023-12-29</td>\n",
       "    </tr>\n",
       "    <tr>\n",
       "      <th>14</th>\n",
       "      <td>https://https://www.tanzsport.de/de/sportwelt/...</td>\n",
       "      <td>National</td>\n",
       "      <td>DTV</td>\n",
       "      <td>2023-12-29</td>\n",
       "    </tr>\n",
       "  </tbody>\n",
       "</table>\n",
       "</div>"
      ],
      "text/plain": [
       "                                                  Url     Scope  \\\n",
       "0   https://www.tanzsportkreis-sankt-augustin.de/v...     Local   \n",
       "1                https://ttcrotgoldkoeln.de/turniere/     Local   \n",
       "2   https://www.tscbruehl.de/index.php/service/tur...     Local   \n",
       "3           https://askania-tsc.de/turnierergebnisse/     Local   \n",
       "4   https://ltv-berlin.de/de/sport/leistungssport/...  Regional   \n",
       "5   https://tnw.de/sport/standard-latein/turnierer...  Regional   \n",
       "6     https://www.tbw.de/home/service/ergebnis-archiv  Regional   \n",
       "7   https://ltvb.de/sport/leistungssport/ergebniss...  Regional   \n",
       "8   https://www.hatv.de/index.php/sport/sport-stan...  Regional   \n",
       "9   https://htv.de/veranstaltungen/meisterschaften...  Regional   \n",
       "10  https://www.trp-tanzen.org/index.php/ergebniss...  Regional   \n",
       "11  https://www.tanzen-slt.de/public/sport/turnier...  Regional   \n",
       "12  https://www.faszination-tanzen.de/sportwelten-...  Regional   \n",
       "13      https://www.ttsv-tanzen.de/turnierergebnisse/  Regional   \n",
       "14  https://https://www.tanzsport.de/de/sportwelt/...  National   \n",
       "\n",
       "          Federal state  Crawl date  \n",
       "0   Nordrhein-Westfalen  2023-12-29  \n",
       "1   Nordrhein-Westfalen  2023-12-29  \n",
       "2   Nordrhein-Westfalen  2023-12-29  \n",
       "3   Nordrhein-Westfalen  2023-12-29  \n",
       "4                Berlin  2023-12-29  \n",
       "5   Nordrhein-Westfalen  2023-12-29  \n",
       "6    Baden-Wuerttemberg  2023-12-29  \n",
       "7                Bayern  2023-12-29  \n",
       "8               Hamburg  2023-12-29  \n",
       "9                Hessen  2023-12-29  \n",
       "10      Rheinland-Pfalz  2023-12-29  \n",
       "11             Saarland  2023-12-29  \n",
       "12              Sachsen  2023-12-29  \n",
       "13            Thüringen  2023-12-29  \n",
       "14                  DTV  2023-12-29  "
      ]
     },
     "execution_count": 11,
     "metadata": {},
     "output_type": "execute_result"
    }
   ],
   "source": [
    "url_hints = c.UrlHints()\n",
    "url_hints.df"
   ]
  },
  {
   "cell_type": "code",
   "execution_count": null,
   "metadata": {},
   "outputs": [],
   "source": [
    "# Given a club website, crawl for all subsites.\n",
    "# These subsites are then tested, if they link to tournament sites. If this is the case, save them in the 'url_hints\" list.\n",
    "wc = WebCrawler('https://www.tanzsportkreis-sankt-augustin.de/', \"results/tanzsportkreis-sankt-augustin/known_hits.npy\", \"results/tanzsportkreis-sankt-augustin/negatives.npy\")\n",
    "# club_subsites = wc.crawl_links_to_subsites()\n",
    "# club_subsites"
   ]
  },
  {
   "cell_type": "code",
   "execution_count": null,
   "metadata": {},
   "outputs": [],
   "source": [
    "club_tournament_site = url_hints.df[url_hints.cURL][0]\n",
    "wc_competition_finder = WebCrawler(club_tournament_site)\n",
    "# TODO: PEN AND PAPER WORKFLOW AND USE CASE"
   ]
  },
  {
   "cell_type": "markdown",
   "metadata": {},
   "source": [
    "## Use the `UrlHints` table to collect promising URLs to search for competition sites"
   ]
  },
  {
   "cell_type": "code",
   "execution_count": null,
   "metadata": {},
   "outputs": [
    {
     "name": "stderr",
     "output_type": "stream",
     "text": [
      "Processing URLs:   0%|          | 0/1 [00:00<?, ?URL/s]"
     ]
    },
    {
     "name": "stdout",
     "output_type": "stream",
     "text": [
      "Error: On site https://tnw.de/verband/vereine/, could not process link 'https://www.gruen-weiss-aachen.de'\n",
      "'in <string>' requires string as left operand, not list\n",
      "Error: On site https://tnw.de/verband/vereine/, could not process link 'https://tnw.de/verband/vereine//http://www.tanzen-hamm.de/'\n",
      "'in <string>' requires string as left operand, not list\n",
      "Error: On site https://tnw.de/verband/vereine/, could not process link 'https://tnw.de/verband/vereine//tel:+492037381669'\n",
      "'in <string>' requires string as left operand, not list\n",
      "Error: On site https://tnw.de/verband/vereine/, could not process link 'https://tnw.de/verband/vereine//http://die-residenz.dance/'\n",
      "'in <string>' requires string as left operand, not list\n",
      "Error: On site https://tnw.de/verband/vereine/, could not process link 'https://tnw.de/category/sport/standard-latein/'\n",
      "'in <string>' requires string as left operand, not list\n",
      "Error: On site https://tnw.de/verband/vereine/, could not process link 'https://tnw.de/verband/vereine//http://www.tsa-menden.de/'\n",
      "'in <string>' requires string as left operand, not list\n",
      "Error: On site https://tnw.de/verband/vereine/, could not process link 'https://tnw.de/verband/vereine//http://www.vivabrasil-ev.de'\n",
      "'in <string>' requires string as left operand, not list\n",
      "Error: On site https://tnw.de/verband/vereine/, could not process link 'https://tnw.de/verband/vereine//http://www.kin-top-foerderungszentrum.de/'\n",
      "'in <string>' requires string as left operand, not list\n"
     ]
    },
    {
     "name": "stderr",
     "output_type": "stream",
     "text": [
      "Processing URLs:   0%|          | 0/1 [00:26<?, ?URL/s]\n"
     ]
    },
    {
     "ename": "KeyboardInterrupt",
     "evalue": "",
     "output_type": "error",
     "traceback": [
      "\u001b[0;31m---------------------------------------------------------------------------\u001b[0m",
      "\u001b[0;31mKeyboardInterrupt\u001b[0m                         Traceback (most recent call last)",
      "Cell \u001b[0;32mIn[14], line 2\u001b[0m\n\u001b[1;32m      1\u001b[0m wc_clubsites \u001b[38;5;241m=\u001b[39m WebCrawler(url_hints\u001b[38;5;241m.\u001b[39mget_club_hint_df()[url_hints\u001b[38;5;241m.\u001b[39mcURL][\u001b[38;5;241m0\u001b[39m])\n\u001b[0;32m----> 2\u001b[0m club_site_candidates \u001b[38;5;241m=\u001b[39m \u001b[43mwc_clubsites\u001b[49m\u001b[38;5;241;43m.\u001b[39;49m\u001b[43mfind_links_to_websites\u001b[49m\u001b[43m(\u001b[49m\u001b[43m[\u001b[49m\u001b[43mwc_clubsites\u001b[49m\u001b[38;5;241;43m.\u001b[39;49m\u001b[43mbase_url\u001b[49m\u001b[43m]\u001b[49m\u001b[43m)\u001b[49m\n\u001b[1;32m      3\u001b[0m club_site_candidates\n",
      "Cell \u001b[0;32mIn[8], line 116\u001b[0m, in \u001b[0;36mWebCrawler.find_links_to_websites\u001b[0;34m(self, urls, content_keyword, url_shall_contain, forbidden_url_prefixes, forbidden_url_postfixes, reconnection_trys)\u001b[0m\n\u001b[1;32m    114\u001b[0m \u001b[38;5;28;01mif\u001b[39;00m valid \u001b[38;5;129;01mand\u001b[39;00m \u001b[38;5;129;01mnot\u001b[39;00m known:\n\u001b[1;32m    115\u001b[0m     \u001b[38;5;28;01mtry\u001b[39;00m:\n\u001b[0;32m--> 116\u001b[0m         source_code \u001b[38;5;241m=\u001b[39m \u001b[43msession\u001b[49m\u001b[38;5;241;43m.\u001b[39;49m\u001b[43mget\u001b[49m\u001b[43m(\u001b[49m\u001b[43mlocal_link\u001b[49m\u001b[43m)\u001b[49m                    \n\u001b[1;32m    117\u001b[0m         link_soup \u001b[38;5;241m=\u001b[39m BeautifulSoup(source_code\u001b[38;5;241m.\u001b[39mtext, \u001b[38;5;124m\"\u001b[39m\u001b[38;5;124mhtml.parser\u001b[39m\u001b[38;5;124m\"\u001b[39m)\n\u001b[1;32m    119\u001b[0m         \u001b[38;5;66;03m# If the link is valid, unknown and all content keywords are present in the html, save it.\u001b[39;00m\n",
      "File \u001b[0;32m~/anaconda3/lib/python3.10/site-packages/requests/sessions.py:602\u001b[0m, in \u001b[0;36mSession.get\u001b[0;34m(self, url, **kwargs)\u001b[0m\n\u001b[1;32m    594\u001b[0m \u001b[38;5;250m\u001b[39m\u001b[38;5;124mr\u001b[39m\u001b[38;5;124;03m\"\"\"Sends a GET request. Returns :class:`Response` object.\u001b[39;00m\n\u001b[1;32m    595\u001b[0m \n\u001b[1;32m    596\u001b[0m \u001b[38;5;124;03m:param url: URL for the new :class:`Request` object.\u001b[39;00m\n\u001b[1;32m    597\u001b[0m \u001b[38;5;124;03m:param \\*\\*kwargs: Optional arguments that ``request`` takes.\u001b[39;00m\n\u001b[1;32m    598\u001b[0m \u001b[38;5;124;03m:rtype: requests.Response\u001b[39;00m\n\u001b[1;32m    599\u001b[0m \u001b[38;5;124;03m\"\"\"\u001b[39;00m\n\u001b[1;32m    601\u001b[0m kwargs\u001b[38;5;241m.\u001b[39msetdefault(\u001b[38;5;124m\"\u001b[39m\u001b[38;5;124mallow_redirects\u001b[39m\u001b[38;5;124m\"\u001b[39m, \u001b[38;5;28;01mTrue\u001b[39;00m)\n\u001b[0;32m--> 602\u001b[0m \u001b[38;5;28;01mreturn\u001b[39;00m \u001b[38;5;28;43mself\u001b[39;49m\u001b[38;5;241;43m.\u001b[39;49m\u001b[43mrequest\u001b[49m\u001b[43m(\u001b[49m\u001b[38;5;124;43m\"\u001b[39;49m\u001b[38;5;124;43mGET\u001b[39;49m\u001b[38;5;124;43m\"\u001b[39;49m\u001b[43m,\u001b[49m\u001b[43m \u001b[49m\u001b[43murl\u001b[49m\u001b[43m,\u001b[49m\u001b[43m \u001b[49m\u001b[38;5;241;43m*\u001b[39;49m\u001b[38;5;241;43m*\u001b[39;49m\u001b[43mkwargs\u001b[49m\u001b[43m)\u001b[49m\n",
      "File \u001b[0;32m~/anaconda3/lib/python3.10/site-packages/requests/sessions.py:589\u001b[0m, in \u001b[0;36mSession.request\u001b[0;34m(self, method, url, params, data, headers, cookies, files, auth, timeout, allow_redirects, proxies, hooks, stream, verify, cert, json)\u001b[0m\n\u001b[1;32m    584\u001b[0m send_kwargs \u001b[38;5;241m=\u001b[39m {\n\u001b[1;32m    585\u001b[0m     \u001b[38;5;124m\"\u001b[39m\u001b[38;5;124mtimeout\u001b[39m\u001b[38;5;124m\"\u001b[39m: timeout,\n\u001b[1;32m    586\u001b[0m     \u001b[38;5;124m\"\u001b[39m\u001b[38;5;124mallow_redirects\u001b[39m\u001b[38;5;124m\"\u001b[39m: allow_redirects,\n\u001b[1;32m    587\u001b[0m }\n\u001b[1;32m    588\u001b[0m send_kwargs\u001b[38;5;241m.\u001b[39mupdate(settings)\n\u001b[0;32m--> 589\u001b[0m resp \u001b[38;5;241m=\u001b[39m \u001b[38;5;28;43mself\u001b[39;49m\u001b[38;5;241;43m.\u001b[39;49m\u001b[43msend\u001b[49m\u001b[43m(\u001b[49m\u001b[43mprep\u001b[49m\u001b[43m,\u001b[49m\u001b[43m \u001b[49m\u001b[38;5;241;43m*\u001b[39;49m\u001b[38;5;241;43m*\u001b[39;49m\u001b[43msend_kwargs\u001b[49m\u001b[43m)\u001b[49m\n\u001b[1;32m    591\u001b[0m \u001b[38;5;28;01mreturn\u001b[39;00m resp\n",
      "File \u001b[0;32m~/anaconda3/lib/python3.10/site-packages/requests/sessions.py:703\u001b[0m, in \u001b[0;36mSession.send\u001b[0;34m(self, request, **kwargs)\u001b[0m\n\u001b[1;32m    700\u001b[0m start \u001b[38;5;241m=\u001b[39m preferred_clock()\n\u001b[1;32m    702\u001b[0m \u001b[38;5;66;03m# Send the request\u001b[39;00m\n\u001b[0;32m--> 703\u001b[0m r \u001b[38;5;241m=\u001b[39m \u001b[43madapter\u001b[49m\u001b[38;5;241;43m.\u001b[39;49m\u001b[43msend\u001b[49m\u001b[43m(\u001b[49m\u001b[43mrequest\u001b[49m\u001b[43m,\u001b[49m\u001b[43m \u001b[49m\u001b[38;5;241;43m*\u001b[39;49m\u001b[38;5;241;43m*\u001b[39;49m\u001b[43mkwargs\u001b[49m\u001b[43m)\u001b[49m\n\u001b[1;32m    705\u001b[0m \u001b[38;5;66;03m# Total elapsed time of the request (approximately)\u001b[39;00m\n\u001b[1;32m    706\u001b[0m elapsed \u001b[38;5;241m=\u001b[39m preferred_clock() \u001b[38;5;241m-\u001b[39m start\n",
      "File \u001b[0;32m~/anaconda3/lib/python3.10/site-packages/requests/adapters.py:486\u001b[0m, in \u001b[0;36mHTTPAdapter.send\u001b[0;34m(self, request, stream, timeout, verify, cert, proxies)\u001b[0m\n\u001b[1;32m    483\u001b[0m     timeout \u001b[38;5;241m=\u001b[39m TimeoutSauce(connect\u001b[38;5;241m=\u001b[39mtimeout, read\u001b[38;5;241m=\u001b[39mtimeout)\n\u001b[1;32m    485\u001b[0m \u001b[38;5;28;01mtry\u001b[39;00m:\n\u001b[0;32m--> 486\u001b[0m     resp \u001b[38;5;241m=\u001b[39m \u001b[43mconn\u001b[49m\u001b[38;5;241;43m.\u001b[39;49m\u001b[43murlopen\u001b[49m\u001b[43m(\u001b[49m\n\u001b[1;32m    487\u001b[0m \u001b[43m        \u001b[49m\u001b[43mmethod\u001b[49m\u001b[38;5;241;43m=\u001b[39;49m\u001b[43mrequest\u001b[49m\u001b[38;5;241;43m.\u001b[39;49m\u001b[43mmethod\u001b[49m\u001b[43m,\u001b[49m\n\u001b[1;32m    488\u001b[0m \u001b[43m        \u001b[49m\u001b[43murl\u001b[49m\u001b[38;5;241;43m=\u001b[39;49m\u001b[43murl\u001b[49m\u001b[43m,\u001b[49m\n\u001b[1;32m    489\u001b[0m \u001b[43m        \u001b[49m\u001b[43mbody\u001b[49m\u001b[38;5;241;43m=\u001b[39;49m\u001b[43mrequest\u001b[49m\u001b[38;5;241;43m.\u001b[39;49m\u001b[43mbody\u001b[49m\u001b[43m,\u001b[49m\n\u001b[1;32m    490\u001b[0m \u001b[43m        \u001b[49m\u001b[43mheaders\u001b[49m\u001b[38;5;241;43m=\u001b[39;49m\u001b[43mrequest\u001b[49m\u001b[38;5;241;43m.\u001b[39;49m\u001b[43mheaders\u001b[49m\u001b[43m,\u001b[49m\n\u001b[1;32m    491\u001b[0m \u001b[43m        \u001b[49m\u001b[43mredirect\u001b[49m\u001b[38;5;241;43m=\u001b[39;49m\u001b[38;5;28;43;01mFalse\u001b[39;49;00m\u001b[43m,\u001b[49m\n\u001b[1;32m    492\u001b[0m \u001b[43m        \u001b[49m\u001b[43massert_same_host\u001b[49m\u001b[38;5;241;43m=\u001b[39;49m\u001b[38;5;28;43;01mFalse\u001b[39;49;00m\u001b[43m,\u001b[49m\n\u001b[1;32m    493\u001b[0m \u001b[43m        \u001b[49m\u001b[43mpreload_content\u001b[49m\u001b[38;5;241;43m=\u001b[39;49m\u001b[38;5;28;43;01mFalse\u001b[39;49;00m\u001b[43m,\u001b[49m\n\u001b[1;32m    494\u001b[0m \u001b[43m        \u001b[49m\u001b[43mdecode_content\u001b[49m\u001b[38;5;241;43m=\u001b[39;49m\u001b[38;5;28;43;01mFalse\u001b[39;49;00m\u001b[43m,\u001b[49m\n\u001b[1;32m    495\u001b[0m \u001b[43m        \u001b[49m\u001b[43mretries\u001b[49m\u001b[38;5;241;43m=\u001b[39;49m\u001b[38;5;28;43mself\u001b[39;49m\u001b[38;5;241;43m.\u001b[39;49m\u001b[43mmax_retries\u001b[49m\u001b[43m,\u001b[49m\n\u001b[1;32m    496\u001b[0m \u001b[43m        \u001b[49m\u001b[43mtimeout\u001b[49m\u001b[38;5;241;43m=\u001b[39;49m\u001b[43mtimeout\u001b[49m\u001b[43m,\u001b[49m\n\u001b[1;32m    497\u001b[0m \u001b[43m        \u001b[49m\u001b[43mchunked\u001b[49m\u001b[38;5;241;43m=\u001b[39;49m\u001b[43mchunked\u001b[49m\u001b[43m,\u001b[49m\n\u001b[1;32m    498\u001b[0m \u001b[43m    \u001b[49m\u001b[43m)\u001b[49m\n\u001b[1;32m    500\u001b[0m \u001b[38;5;28;01mexcept\u001b[39;00m (ProtocolError, \u001b[38;5;167;01mOSError\u001b[39;00m) \u001b[38;5;28;01mas\u001b[39;00m err:\n\u001b[1;32m    501\u001b[0m     \u001b[38;5;28;01mraise\u001b[39;00m \u001b[38;5;167;01mConnectionError\u001b[39;00m(err, request\u001b[38;5;241m=\u001b[39mrequest)\n",
      "File \u001b[0;32m~/anaconda3/lib/python3.10/site-packages/urllib3/connectionpool.py:715\u001b[0m, in \u001b[0;36mHTTPConnectionPool.urlopen\u001b[0;34m(self, method, url, body, headers, retries, redirect, assert_same_host, timeout, pool_timeout, release_conn, chunked, body_pos, **response_kw)\u001b[0m\n\u001b[1;32m    712\u001b[0m     \u001b[38;5;28mself\u001b[39m\u001b[38;5;241m.\u001b[39m_prepare_proxy(conn)\n\u001b[1;32m    714\u001b[0m \u001b[38;5;66;03m# Make the request on the httplib connection object.\u001b[39;00m\n\u001b[0;32m--> 715\u001b[0m httplib_response \u001b[38;5;241m=\u001b[39m \u001b[38;5;28;43mself\u001b[39;49m\u001b[38;5;241;43m.\u001b[39;49m\u001b[43m_make_request\u001b[49m\u001b[43m(\u001b[49m\n\u001b[1;32m    716\u001b[0m \u001b[43m    \u001b[49m\u001b[43mconn\u001b[49m\u001b[43m,\u001b[49m\n\u001b[1;32m    717\u001b[0m \u001b[43m    \u001b[49m\u001b[43mmethod\u001b[49m\u001b[43m,\u001b[49m\n\u001b[1;32m    718\u001b[0m \u001b[43m    \u001b[49m\u001b[43murl\u001b[49m\u001b[43m,\u001b[49m\n\u001b[1;32m    719\u001b[0m \u001b[43m    \u001b[49m\u001b[43mtimeout\u001b[49m\u001b[38;5;241;43m=\u001b[39;49m\u001b[43mtimeout_obj\u001b[49m\u001b[43m,\u001b[49m\n\u001b[1;32m    720\u001b[0m \u001b[43m    \u001b[49m\u001b[43mbody\u001b[49m\u001b[38;5;241;43m=\u001b[39;49m\u001b[43mbody\u001b[49m\u001b[43m,\u001b[49m\n\u001b[1;32m    721\u001b[0m \u001b[43m    \u001b[49m\u001b[43mheaders\u001b[49m\u001b[38;5;241;43m=\u001b[39;49m\u001b[43mheaders\u001b[49m\u001b[43m,\u001b[49m\n\u001b[1;32m    722\u001b[0m \u001b[43m    \u001b[49m\u001b[43mchunked\u001b[49m\u001b[38;5;241;43m=\u001b[39;49m\u001b[43mchunked\u001b[49m\u001b[43m,\u001b[49m\n\u001b[1;32m    723\u001b[0m \u001b[43m\u001b[49m\u001b[43m)\u001b[49m\n\u001b[1;32m    725\u001b[0m \u001b[38;5;66;03m# If we're going to release the connection in ``finally:``, then\u001b[39;00m\n\u001b[1;32m    726\u001b[0m \u001b[38;5;66;03m# the response doesn't need to know about the connection. Otherwise\u001b[39;00m\n\u001b[1;32m    727\u001b[0m \u001b[38;5;66;03m# it will also try to release it and we'll have a double-release\u001b[39;00m\n\u001b[1;32m    728\u001b[0m \u001b[38;5;66;03m# mess.\u001b[39;00m\n\u001b[1;32m    729\u001b[0m response_conn \u001b[38;5;241m=\u001b[39m conn \u001b[38;5;28;01mif\u001b[39;00m \u001b[38;5;129;01mnot\u001b[39;00m release_conn \u001b[38;5;28;01melse\u001b[39;00m \u001b[38;5;28;01mNone\u001b[39;00m\n",
      "File \u001b[0;32m~/anaconda3/lib/python3.10/site-packages/urllib3/connectionpool.py:467\u001b[0m, in \u001b[0;36mHTTPConnectionPool._make_request\u001b[0;34m(self, conn, method, url, timeout, chunked, **httplib_request_kw)\u001b[0m\n\u001b[1;32m    462\u001b[0m             httplib_response \u001b[38;5;241m=\u001b[39m conn\u001b[38;5;241m.\u001b[39mgetresponse()\n\u001b[1;32m    463\u001b[0m         \u001b[38;5;28;01mexcept\u001b[39;00m \u001b[38;5;167;01mBaseException\u001b[39;00m \u001b[38;5;28;01mas\u001b[39;00m e:\n\u001b[1;32m    464\u001b[0m             \u001b[38;5;66;03m# Remove the TypeError from the exception chain in\u001b[39;00m\n\u001b[1;32m    465\u001b[0m             \u001b[38;5;66;03m# Python 3 (including for exceptions like SystemExit).\u001b[39;00m\n\u001b[1;32m    466\u001b[0m             \u001b[38;5;66;03m# Otherwise it looks like a bug in the code.\u001b[39;00m\n\u001b[0;32m--> 467\u001b[0m             \u001b[43msix\u001b[49m\u001b[38;5;241;43m.\u001b[39;49m\u001b[43mraise_from\u001b[49m\u001b[43m(\u001b[49m\u001b[43me\u001b[49m\u001b[43m,\u001b[49m\u001b[43m \u001b[49m\u001b[38;5;28;43;01mNone\u001b[39;49;00m\u001b[43m)\u001b[49m\n\u001b[1;32m    468\u001b[0m \u001b[38;5;28;01mexcept\u001b[39;00m (SocketTimeout, BaseSSLError, SocketError) \u001b[38;5;28;01mas\u001b[39;00m e:\n\u001b[1;32m    469\u001b[0m     \u001b[38;5;28mself\u001b[39m\u001b[38;5;241m.\u001b[39m_raise_timeout(err\u001b[38;5;241m=\u001b[39me, url\u001b[38;5;241m=\u001b[39murl, timeout_value\u001b[38;5;241m=\u001b[39mread_timeout)\n",
      "File \u001b[0;32m<string>:3\u001b[0m, in \u001b[0;36mraise_from\u001b[0;34m(value, from_value)\u001b[0m\n",
      "File \u001b[0;32m~/anaconda3/lib/python3.10/site-packages/urllib3/connectionpool.py:462\u001b[0m, in \u001b[0;36mHTTPConnectionPool._make_request\u001b[0;34m(self, conn, method, url, timeout, chunked, **httplib_request_kw)\u001b[0m\n\u001b[1;32m    459\u001b[0m \u001b[38;5;28;01mexcept\u001b[39;00m \u001b[38;5;167;01mTypeError\u001b[39;00m:\n\u001b[1;32m    460\u001b[0m     \u001b[38;5;66;03m# Python 3\u001b[39;00m\n\u001b[1;32m    461\u001b[0m     \u001b[38;5;28;01mtry\u001b[39;00m:\n\u001b[0;32m--> 462\u001b[0m         httplib_response \u001b[38;5;241m=\u001b[39m \u001b[43mconn\u001b[49m\u001b[38;5;241;43m.\u001b[39;49m\u001b[43mgetresponse\u001b[49m\u001b[43m(\u001b[49m\u001b[43m)\u001b[49m\n\u001b[1;32m    463\u001b[0m     \u001b[38;5;28;01mexcept\u001b[39;00m \u001b[38;5;167;01mBaseException\u001b[39;00m \u001b[38;5;28;01mas\u001b[39;00m e:\n\u001b[1;32m    464\u001b[0m         \u001b[38;5;66;03m# Remove the TypeError from the exception chain in\u001b[39;00m\n\u001b[1;32m    465\u001b[0m         \u001b[38;5;66;03m# Python 3 (including for exceptions like SystemExit).\u001b[39;00m\n\u001b[1;32m    466\u001b[0m         \u001b[38;5;66;03m# Otherwise it looks like a bug in the code.\u001b[39;00m\n\u001b[1;32m    467\u001b[0m         six\u001b[38;5;241m.\u001b[39mraise_from(e, \u001b[38;5;28;01mNone\u001b[39;00m)\n",
      "File \u001b[0;32m~/anaconda3/lib/python3.10/http/client.py:1375\u001b[0m, in \u001b[0;36mHTTPConnection.getresponse\u001b[0;34m(self)\u001b[0m\n\u001b[1;32m   1373\u001b[0m \u001b[38;5;28;01mtry\u001b[39;00m:\n\u001b[1;32m   1374\u001b[0m     \u001b[38;5;28;01mtry\u001b[39;00m:\n\u001b[0;32m-> 1375\u001b[0m         \u001b[43mresponse\u001b[49m\u001b[38;5;241;43m.\u001b[39;49m\u001b[43mbegin\u001b[49m\u001b[43m(\u001b[49m\u001b[43m)\u001b[49m\n\u001b[1;32m   1376\u001b[0m     \u001b[38;5;28;01mexcept\u001b[39;00m \u001b[38;5;167;01mConnectionError\u001b[39;00m:\n\u001b[1;32m   1377\u001b[0m         \u001b[38;5;28mself\u001b[39m\u001b[38;5;241m.\u001b[39mclose()\n",
      "File \u001b[0;32m~/anaconda3/lib/python3.10/http/client.py:318\u001b[0m, in \u001b[0;36mHTTPResponse.begin\u001b[0;34m(self)\u001b[0m\n\u001b[1;32m    316\u001b[0m \u001b[38;5;66;03m# read until we get a non-100 response\u001b[39;00m\n\u001b[1;32m    317\u001b[0m \u001b[38;5;28;01mwhile\u001b[39;00m \u001b[38;5;28;01mTrue\u001b[39;00m:\n\u001b[0;32m--> 318\u001b[0m     version, status, reason \u001b[38;5;241m=\u001b[39m \u001b[38;5;28;43mself\u001b[39;49m\u001b[38;5;241;43m.\u001b[39;49m\u001b[43m_read_status\u001b[49m\u001b[43m(\u001b[49m\u001b[43m)\u001b[49m\n\u001b[1;32m    319\u001b[0m     \u001b[38;5;28;01mif\u001b[39;00m status \u001b[38;5;241m!=\u001b[39m CONTINUE:\n\u001b[1;32m    320\u001b[0m         \u001b[38;5;28;01mbreak\u001b[39;00m\n",
      "File \u001b[0;32m~/anaconda3/lib/python3.10/http/client.py:279\u001b[0m, in \u001b[0;36mHTTPResponse._read_status\u001b[0;34m(self)\u001b[0m\n\u001b[1;32m    278\u001b[0m \u001b[38;5;28;01mdef\u001b[39;00m \u001b[38;5;21m_read_status\u001b[39m(\u001b[38;5;28mself\u001b[39m):\n\u001b[0;32m--> 279\u001b[0m     line \u001b[38;5;241m=\u001b[39m \u001b[38;5;28mstr\u001b[39m(\u001b[38;5;28;43mself\u001b[39;49m\u001b[38;5;241;43m.\u001b[39;49m\u001b[43mfp\u001b[49m\u001b[38;5;241;43m.\u001b[39;49m\u001b[43mreadline\u001b[49m\u001b[43m(\u001b[49m\u001b[43m_MAXLINE\u001b[49m\u001b[43m \u001b[49m\u001b[38;5;241;43m+\u001b[39;49m\u001b[43m \u001b[49m\u001b[38;5;241;43m1\u001b[39;49m\u001b[43m)\u001b[49m, \u001b[38;5;124m\"\u001b[39m\u001b[38;5;124miso-8859-1\u001b[39m\u001b[38;5;124m\"\u001b[39m)\n\u001b[1;32m    280\u001b[0m     \u001b[38;5;28;01mif\u001b[39;00m \u001b[38;5;28mlen\u001b[39m(line) \u001b[38;5;241m>\u001b[39m _MAXLINE:\n\u001b[1;32m    281\u001b[0m         \u001b[38;5;28;01mraise\u001b[39;00m LineTooLong(\u001b[38;5;124m\"\u001b[39m\u001b[38;5;124mstatus line\u001b[39m\u001b[38;5;124m\"\u001b[39m)\n",
      "File \u001b[0;32m~/anaconda3/lib/python3.10/socket.py:705\u001b[0m, in \u001b[0;36mSocketIO.readinto\u001b[0;34m(self, b)\u001b[0m\n\u001b[1;32m    703\u001b[0m \u001b[38;5;28;01mwhile\u001b[39;00m \u001b[38;5;28;01mTrue\u001b[39;00m:\n\u001b[1;32m    704\u001b[0m     \u001b[38;5;28;01mtry\u001b[39;00m:\n\u001b[0;32m--> 705\u001b[0m         \u001b[38;5;28;01mreturn\u001b[39;00m \u001b[38;5;28;43mself\u001b[39;49m\u001b[38;5;241;43m.\u001b[39;49m\u001b[43m_sock\u001b[49m\u001b[38;5;241;43m.\u001b[39;49m\u001b[43mrecv_into\u001b[49m\u001b[43m(\u001b[49m\u001b[43mb\u001b[49m\u001b[43m)\u001b[49m\n\u001b[1;32m    706\u001b[0m     \u001b[38;5;28;01mexcept\u001b[39;00m timeout:\n\u001b[1;32m    707\u001b[0m         \u001b[38;5;28mself\u001b[39m\u001b[38;5;241m.\u001b[39m_timeout_occurred \u001b[38;5;241m=\u001b[39m \u001b[38;5;28;01mTrue\u001b[39;00m\n",
      "File \u001b[0;32m~/anaconda3/lib/python3.10/ssl.py:1307\u001b[0m, in \u001b[0;36mSSLSocket.recv_into\u001b[0;34m(self, buffer, nbytes, flags)\u001b[0m\n\u001b[1;32m   1303\u001b[0m     \u001b[38;5;28;01mif\u001b[39;00m flags \u001b[38;5;241m!=\u001b[39m \u001b[38;5;241m0\u001b[39m:\n\u001b[1;32m   1304\u001b[0m         \u001b[38;5;28;01mraise\u001b[39;00m \u001b[38;5;167;01mValueError\u001b[39;00m(\n\u001b[1;32m   1305\u001b[0m           \u001b[38;5;124m\"\u001b[39m\u001b[38;5;124mnon-zero flags not allowed in calls to recv_into() on \u001b[39m\u001b[38;5;132;01m%s\u001b[39;00m\u001b[38;5;124m\"\u001b[39m \u001b[38;5;241m%\u001b[39m\n\u001b[1;32m   1306\u001b[0m           \u001b[38;5;28mself\u001b[39m\u001b[38;5;241m.\u001b[39m\u001b[38;5;18m__class__\u001b[39m)\n\u001b[0;32m-> 1307\u001b[0m     \u001b[38;5;28;01mreturn\u001b[39;00m \u001b[38;5;28;43mself\u001b[39;49m\u001b[38;5;241;43m.\u001b[39;49m\u001b[43mread\u001b[49m\u001b[43m(\u001b[49m\u001b[43mnbytes\u001b[49m\u001b[43m,\u001b[49m\u001b[43m \u001b[49m\u001b[43mbuffer\u001b[49m\u001b[43m)\u001b[49m\n\u001b[1;32m   1308\u001b[0m \u001b[38;5;28;01melse\u001b[39;00m:\n\u001b[1;32m   1309\u001b[0m     \u001b[38;5;28;01mreturn\u001b[39;00m \u001b[38;5;28msuper\u001b[39m()\u001b[38;5;241m.\u001b[39mrecv_into(buffer, nbytes, flags)\n",
      "File \u001b[0;32m~/anaconda3/lib/python3.10/ssl.py:1163\u001b[0m, in \u001b[0;36mSSLSocket.read\u001b[0;34m(self, len, buffer)\u001b[0m\n\u001b[1;32m   1161\u001b[0m \u001b[38;5;28;01mtry\u001b[39;00m:\n\u001b[1;32m   1162\u001b[0m     \u001b[38;5;28;01mif\u001b[39;00m buffer \u001b[38;5;129;01mis\u001b[39;00m \u001b[38;5;129;01mnot\u001b[39;00m \u001b[38;5;28;01mNone\u001b[39;00m:\n\u001b[0;32m-> 1163\u001b[0m         \u001b[38;5;28;01mreturn\u001b[39;00m \u001b[38;5;28;43mself\u001b[39;49m\u001b[38;5;241;43m.\u001b[39;49m\u001b[43m_sslobj\u001b[49m\u001b[38;5;241;43m.\u001b[39;49m\u001b[43mread\u001b[49m\u001b[43m(\u001b[49m\u001b[38;5;28;43mlen\u001b[39;49m\u001b[43m,\u001b[49m\u001b[43m \u001b[49m\u001b[43mbuffer\u001b[49m\u001b[43m)\u001b[49m\n\u001b[1;32m   1164\u001b[0m     \u001b[38;5;28;01melse\u001b[39;00m:\n\u001b[1;32m   1165\u001b[0m         \u001b[38;5;28;01mreturn\u001b[39;00m \u001b[38;5;28mself\u001b[39m\u001b[38;5;241m.\u001b[39m_sslobj\u001b[38;5;241m.\u001b[39mread(\u001b[38;5;28mlen\u001b[39m)\n",
      "\u001b[0;31mKeyboardInterrupt\u001b[0m: "
     ]
    }
   ],
   "source": [
    "wc_clubsites = WebCrawler(url_hints.get_club_hint_df()[url_hints.cURL][0])\n",
    "club_site_candidates = wc_clubsites.crawl_href_links([wc_clubsites.base_url])\n",
    "club_site_candidates"
   ]
  },
  {
   "cell_type": "code",
   "execution_count": null,
   "metadata": {},
   "outputs": [
    {
     "data": {
      "text/plain": [
       "['https://www.tanzsportkreis-sankt-augustin.de/veranstaltungen/turnierergebnisse/',\n",
       " 'https://ttcrotgoldkoeln.de/turniere/',\n",
       " 'https://www.tscbruehl.de/index.php/service/turnierergebnisse',\n",
       " 'https://askania-tsc.de/turnierergebnisse/']"
      ]
     },
     "execution_count": 13,
     "metadata": {},
     "output_type": "execute_result"
    }
   ],
   "source": [
    "url_hints.get_local_urls_list()"
   ]
  },
  {
   "cell_type": "code",
   "execution_count": null,
   "metadata": {},
   "outputs": [
    {
     "data": {
      "text/plain": [
       "['https://ltv-berlin.de/de/sport/leistungssport/ergebnisse',\n",
       " 'https://tnw.de/sport/standard-latein/turnierergebnisse/',\n",
       " 'https://www.tbw.de/home/service/ergebnis-archiv',\n",
       " 'https://ltvb.de/sport/leistungssport/ergebnisse/?currentyear=2023',\n",
       " 'https://www.hatv.de/index.php/sport/sport-standard-latein/sport-standard-latein-ergebnisse-hatv',\n",
       " 'https://htv.de/veranstaltungen/meisterschaften/ergebnisarchiv/',\n",
       " 'https://www.trp-tanzen.org/index.php/ergebnisse.html',\n",
       " 'https://www.tanzen-slt.de/public/sport/turnierergebnisse/landesmeisterschaften.html',\n",
       " 'https://www.faszination-tanzen.de/sportwelten-standard-latein.html',\n",
       " 'https://www.ttsv-tanzen.de/turnierergebnisse/']"
      ]
     },
     "execution_count": 14,
     "metadata": {},
     "output_type": "execute_result"
    }
   ],
   "source": [
    "url_hints.get_regional_urls_list()"
   ]
  },
  {
   "cell_type": "code",
   "execution_count": null,
   "metadata": {},
   "outputs": [
    {
     "data": {
      "text/plain": [
       "['https://https://www.tanzsport.de/de/sportwelt/ergebnisse']"
      ]
     },
     "execution_count": 15,
     "metadata": {},
     "output_type": "execute_result"
    }
   ],
   "source": [
    "url_hints.get_national_urls_list()"
   ]
  },
  {
   "cell_type": "code",
   "execution_count": null,
   "metadata": {},
   "outputs": [
    {
     "name": "stdout",
     "output_type": "stream",
     "text": [
      "Site (1/1, 100%)>>Links (70/70, 69%)->https://www.tanzsportkreis-sankt-augustin.de/veranstaltungen/competiti...\t(Found 0 new)"
     ]
    },
    {
     "data": {
      "text/plain": [
       "[]"
      ]
     },
     "execution_count": 17,
     "metadata": {},
     "output_type": "execute_result"
    }
   ],
   "source": [
    "crawl_competiton_links_from_tournament_link(url_hints.get_local_urls_list()[0])"
   ]
  },
  {
   "cell_type": "markdown",
   "metadata": {},
   "source": [
    "### Append to the `Url_hints` table by crawling for local club sites.\n",
    "Note that the `regional` and `national` will probably stay complete as it is (if the structure of federal states does not change)."
   ]
  },
  {
   "cell_type": "code",
   "execution_count": null,
   "metadata": {},
   "outputs": [
    {
     "data": {
      "text/html": [
       "<div>\n",
       "<style scoped>\n",
       "    .dataframe tbody tr th:only-of-type {\n",
       "        vertical-align: middle;\n",
       "    }\n",
       "\n",
       "    .dataframe tbody tr th {\n",
       "        vertical-align: top;\n",
       "    }\n",
       "\n",
       "    .dataframe thead th {\n",
       "        text-align: right;\n",
       "    }\n",
       "</style>\n",
       "<table border=\"1\" class=\"dataframe\">\n",
       "  <thead>\n",
       "    <tr style=\"text-align: right;\">\n",
       "      <th></th>\n",
       "      <th>Url</th>\n",
       "      <th>Federal state</th>\n",
       "      <th>Crawl date</th>\n",
       "    </tr>\n",
       "  </thead>\n",
       "  <tbody>\n",
       "    <tr>\n",
       "      <th>0</th>\n",
       "      <td>https://tnw.de/verband/vereine/</td>\n",
       "      <td>Nordrhein-Westfalen</td>\n",
       "      <td>2023-12-29</td>\n",
       "    </tr>\n",
       "    <tr>\n",
       "      <th>1</th>\n",
       "      <td>https://www.tbw.de/home/verband/vereine?tx_pii...</td>\n",
       "      <td>Baden-Wuerttemberg</td>\n",
       "      <td>2023-12-29</td>\n",
       "    </tr>\n",
       "    <tr>\n",
       "      <th>2</th>\n",
       "      <td>https://ltv-berlin.de/de/verband/vereine/verei...</td>\n",
       "      <td>Berlin</td>\n",
       "      <td>2023-12-29</td>\n",
       "    </tr>\n",
       "    <tr>\n",
       "      <th>3</th>\n",
       "      <td>https://tanzsport-brandenburg.de/?page_id=392</td>\n",
       "      <td>Brandenburg</td>\n",
       "      <td>2023-12-29</td>\n",
       "    </tr>\n",
       "    <tr>\n",
       "      <th>4</th>\n",
       "      <td>https://ltvbremen.de/verband/vereine</td>\n",
       "      <td>Bremen</td>\n",
       "      <td>2023-12-29</td>\n",
       "    </tr>\n",
       "    <tr>\n",
       "      <th>5</th>\n",
       "      <td>https://www.hatv.de/index.php/verband/verband-...</td>\n",
       "      <td>Hamburg</td>\n",
       "      <td>2023-12-29</td>\n",
       "    </tr>\n",
       "    <tr>\n",
       "      <th>6</th>\n",
       "      <td>https://htv.de/vereine/</td>\n",
       "      <td>Hessen</td>\n",
       "      <td>2023-12-29</td>\n",
       "    </tr>\n",
       "    <tr>\n",
       "      <th>7</th>\n",
       "      <td>https://www.tanzsport-mv.de/der-verband/</td>\n",
       "      <td>Mecklenburg-Vorpommern</td>\n",
       "      <td>2023-12-29</td>\n",
       "    </tr>\n",
       "    <tr>\n",
       "      <th>8</th>\n",
       "      <td>https://www.tanzen-slt.de/public/verband/die-v...</td>\n",
       "      <td>Sachsen-Anhalt</td>\n",
       "      <td>2023-12-29</td>\n",
       "    </tr>\n",
       "    <tr>\n",
       "      <th>9</th>\n",
       "      <td>https://www.faszination-tanzen.de/vereine-im-l...</td>\n",
       "      <td>Sachsen</td>\n",
       "      <td>2023-12-29</td>\n",
       "    </tr>\n",
       "    <tr>\n",
       "      <th>10</th>\n",
       "      <td>https://www.ltvsa.de/verband/vereine</td>\n",
       "      <td>Sachsen-Anhalt</td>\n",
       "      <td>2023-12-29</td>\n",
       "    </tr>\n",
       "    <tr>\n",
       "      <th>11</th>\n",
       "      <td>https://www.tanzen-in-sh.de/verband/vereine</td>\n",
       "      <td>Schleswig-Holstein</td>\n",
       "      <td>2023-12-19</td>\n",
       "    </tr>\n",
       "    <tr>\n",
       "      <th>12</th>\n",
       "      <td>https://www.ttsv-tanzen.de/vereine-in-thueringen/</td>\n",
       "      <td>Thüringen</td>\n",
       "      <td>2023-12-19</td>\n",
       "    </tr>\n",
       "    <tr>\n",
       "      <th>13</th>\n",
       "      <td>https://www.tanzsport.de/de/service/vereinssuche</td>\n",
       "      <td>DTV</td>\n",
       "      <td>2023-12-29</td>\n",
       "    </tr>\n",
       "  </tbody>\n",
       "</table>\n",
       "</div>"
      ],
      "text/plain": [
       "                                                  Url           Federal state  \\\n",
       "0                     https://tnw.de/verband/vereine/     Nordrhein-Westfalen   \n",
       "1   https://www.tbw.de/home/verband/vereine?tx_pii...      Baden-Wuerttemberg   \n",
       "2   https://ltv-berlin.de/de/verband/vereine/verei...                  Berlin   \n",
       "3       https://tanzsport-brandenburg.de/?page_id=392             Brandenburg   \n",
       "4                https://ltvbremen.de/verband/vereine                  Bremen   \n",
       "5   https://www.hatv.de/index.php/verband/verband-...                 Hamburg   \n",
       "6                             https://htv.de/vereine/                  Hessen   \n",
       "7            https://www.tanzsport-mv.de/der-verband/  Mecklenburg-Vorpommern   \n",
       "8   https://www.tanzen-slt.de/public/verband/die-v...          Sachsen-Anhalt   \n",
       "9   https://www.faszination-tanzen.de/vereine-im-l...                 Sachsen   \n",
       "10               https://www.ltvsa.de/verband/vereine          Sachsen-Anhalt   \n",
       "11        https://www.tanzen-in-sh.de/verband/vereine      Schleswig-Holstein   \n",
       "12  https://www.ttsv-tanzen.de/vereine-in-thueringen/               Thüringen   \n",
       "13   https://www.tanzsport.de/de/service/vereinssuche                     DTV   \n",
       "\n",
       "    Crawl date  \n",
       "0   2023-12-29  \n",
       "1   2023-12-29  \n",
       "2   2023-12-29  \n",
       "3   2023-12-29  \n",
       "4   2023-12-29  \n",
       "5   2023-12-29  \n",
       "6   2023-12-29  \n",
       "7   2023-12-29  \n",
       "8   2023-12-29  \n",
       "9   2023-12-29  \n",
       "10  2023-12-29  \n",
       "11  2023-12-19  \n",
       "12  2023-12-19  \n",
       "13  2023-12-29  "
      ]
     },
     "execution_count": 9,
     "metadata": {},
     "output_type": "execute_result"
    }
   ],
   "source": [
    "club_hints = url_hints.get_club_hint_df()\n",
    "club_hints\n",
    "\n",
    "# TODO: Load the club hints and crawl for new websites\n",
    "\n",
    "\n",
    "# TODO: add a method to manually ad a new url and its corresponding federal state\n",
    "\n",
    "# for url in url_nationals:\n",
    "#     crawl_links_to_keyword_sites(\n",
    "#         base_url=url, \n",
    "#         content_keyword=c.C_crawler.KEY_CONTENT, \n",
    "#         bad_link_prefixes=c.C_crawler.BAD_LINK_PREFIXES, \n",
    "#         bad_link_postfixes=c.C_crawler.BAD_LINK_POSTFIXES\n",
    "#     )"
   ]
  }
 ],
 "metadata": {
  "kernelspec": {
   "display_name": "base",
   "language": "python",
   "name": "python3"
  },
  "language_info": {
   "codemirror_mode": {
    "name": "ipython",
    "version": 3
   },
   "file_extension": ".py",
   "mimetype": "text/x-python",
   "name": "python",
   "nbconvert_exporter": "python",
   "pygments_lexer": "ipython3",
   "version": "3.10.13"
  }
 },
 "nbformat": 4,
 "nbformat_minor": 2
}
