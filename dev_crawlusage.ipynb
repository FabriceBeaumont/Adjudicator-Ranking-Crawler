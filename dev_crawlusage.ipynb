{
 "cells": [
  {
   "cell_type": "markdown",
   "metadata": {},
   "source": [
    "# Imports"
   ]
  },
  {
   "cell_type": "code",
   "execution_count": 1,
   "metadata": {},
   "outputs": [],
   "source": [
    "from typing import List, Dict, Tuple, Set\n",
    "\n",
    "import requests\n",
    "from bs4 import BeautifulSoup\n",
    "from pathlib import Path\n",
    "\n",
    "from datetime import date\n",
    "import pandas as pd\n",
    "import os\n",
    "import numpy as np\n",
    "\n",
    "from tqdm import tqdm # https://github.com/tqdm/tqdm#ipython-jupyter-integration\n",
    "# For retries.\n",
    "from requests.adapters import HTTPAdapter\n",
    "from urllib3.util.retry import Retry\n",
    "\n",
    "import time\n",
    "from collections import deque\n",
    "\n",
    "# Local imports.\n",
    "import constants as c\n",
    "import web_crawler as wc"
   ]
  },
  {
   "cell_type": "markdown",
   "metadata": {},
   "source": [
    "# Developoment"
   ]
  },
  {
   "cell_type": "markdown",
   "metadata": {},
   "source": [
    "## Dev: Webcrawler"
   ]
  },
  {
   "cell_type": "code",
   "execution_count": 6,
   "metadata": {},
   "outputs": [
    {
     "data": {
      "text/html": [
       "<div>\n",
       "<style scoped>\n",
       "    .dataframe tbody tr th:only-of-type {\n",
       "        vertical-align: middle;\n",
       "    }\n",
       "\n",
       "    .dataframe tbody tr th {\n",
       "        vertical-align: top;\n",
       "    }\n",
       "\n",
       "    .dataframe thead th {\n",
       "        text-align: right;\n",
       "    }\n",
       "</style>\n",
       "<table border=\"1\" class=\"dataframe\">\n",
       "  <thead>\n",
       "    <tr style=\"text-align: right;\">\n",
       "      <th></th>\n",
       "      <th>Url</th>\n",
       "      <th>Federal state</th>\n",
       "      <th>Origin</th>\n",
       "      <th>Found competitions</th>\n",
       "      <th>Crawl date</th>\n",
       "    </tr>\n",
       "  </thead>\n",
       "  <tbody>\n",
       "    <tr>\n",
       "      <th>0</th>\n",
       "      <td>http://artofdance.koeln</td>\n",
       "      <td>Nordrhein-Westfalen</td>\n",
       "      <td>https://tnw.de/verband/vereine/</td>\n",
       "      <td>False</td>\n",
       "      <td>January 04, 2024</td>\n",
       "    </tr>\n",
       "    <tr>\n",
       "      <th>1</th>\n",
       "      <td>http://die-residenz.dance/</td>\n",
       "      <td>Nordrhein-Westfalen</td>\n",
       "      <td>https://tnw.de/verband/vereine/</td>\n",
       "      <td>False</td>\n",
       "      <td>January 04, 2024</td>\n",
       "    </tr>\n",
       "    <tr>\n",
       "      <th>2</th>\n",
       "      <td>http://gg-herford.de</td>\n",
       "      <td>Nordrhein-Westfalen</td>\n",
       "      <td>https://tnw.de/verband/vereine/</td>\n",
       "      <td>False</td>\n",
       "      <td>January 04, 2024</td>\n",
       "    </tr>\n",
       "    <tr>\n",
       "      <th>3</th>\n",
       "      <td>http://kgfreudenthal.de</td>\n",
       "      <td>Nordrhein-Westfalen</td>\n",
       "      <td>https://tnw.de/verband/vereine/</td>\n",
       "      <td>False</td>\n",
       "      <td>January 04, 2024</td>\n",
       "    </tr>\n",
       "    <tr>\n",
       "      <th>4</th>\n",
       "      <td>http://kükengarde.de/</td>\n",
       "      <td>Nordrhein-Westfalen</td>\n",
       "      <td>https://tnw.de/verband/vereine/</td>\n",
       "      <td>False</td>\n",
       "      <td>January 04, 2024</td>\n",
       "    </tr>\n",
       "    <tr>\n",
       "      <th>...</th>\n",
       "      <td>...</td>\n",
       "      <td>...</td>\n",
       "      <td>...</td>\n",
       "      <td>...</td>\n",
       "      <td>...</td>\n",
       "    </tr>\n",
       "    <tr>\n",
       "      <th>691</th>\n",
       "      <td>https://www.vfl-pinneberg.de/de/sportarten-a-z...</td>\n",
       "      <td>Schleswig-Holstein</td>\n",
       "      <td>https://www.tanzen-in-sh.de/verband/vereine</td>\n",
       "      <td>False</td>\n",
       "      <td>January 04, 2024</td>\n",
       "    </tr>\n",
       "    <tr>\n",
       "      <th>692</th>\n",
       "      <td>http://www.facebook.de/ttsv.tanzen</td>\n",
       "      <td>Thüringen</td>\n",
       "      <td>https://www.ttsv-tanzen.de/vereine-in-thueringen/</td>\n",
       "      <td>False</td>\n",
       "      <td>January 04, 2024</td>\n",
       "    </tr>\n",
       "    <tr>\n",
       "      <th>693</th>\n",
       "      <td>http://www.rrc-eisenach.de</td>\n",
       "      <td>Thüringen</td>\n",
       "      <td>https://www.ttsv-tanzen.de/vereine-in-thueringen/</td>\n",
       "      <td>False</td>\n",
       "      <td>January 04, 2024</td>\n",
       "    </tr>\n",
       "    <tr>\n",
       "      <th>694</th>\n",
       "      <td>https://catchthemes.com/</td>\n",
       "      <td>Thüringen</td>\n",
       "      <td>https://www.ttsv-tanzen.de/vereine-in-thueringen/</td>\n",
       "      <td>False</td>\n",
       "      <td>January 04, 2024</td>\n",
       "    </tr>\n",
       "    <tr>\n",
       "      <th>695</th>\n",
       "      <td>https://de.wordpress.org/</td>\n",
       "      <td>Thüringen</td>\n",
       "      <td>https://www.ttsv-tanzen.de/vereine-in-thueringen/</td>\n",
       "      <td>False</td>\n",
       "      <td>January 04, 2024</td>\n",
       "    </tr>\n",
       "  </tbody>\n",
       "</table>\n",
       "<p>696 rows × 5 columns</p>\n",
       "</div>"
      ],
      "text/plain": [
       "                                                   Url        Federal state  \\\n",
       "0                              http://artofdance.koeln  Nordrhein-Westfalen   \n",
       "1                           http://die-residenz.dance/  Nordrhein-Westfalen   \n",
       "2                                 http://gg-herford.de  Nordrhein-Westfalen   \n",
       "3                              http://kgfreudenthal.de  Nordrhein-Westfalen   \n",
       "4                                http://kükengarde.de/  Nordrhein-Westfalen   \n",
       "..                                                 ...                  ...   \n",
       "691  https://www.vfl-pinneberg.de/de/sportarten-a-z...   Schleswig-Holstein   \n",
       "692                 http://www.facebook.de/ttsv.tanzen            Thüringen   \n",
       "693                         http://www.rrc-eisenach.de            Thüringen   \n",
       "694                           https://catchthemes.com/            Thüringen   \n",
       "695                          https://de.wordpress.org/            Thüringen   \n",
       "\n",
       "                                                Origin  Found competitions  \\\n",
       "0                      https://tnw.de/verband/vereine/               False   \n",
       "1                      https://tnw.de/verband/vereine/               False   \n",
       "2                      https://tnw.de/verband/vereine/               False   \n",
       "3                      https://tnw.de/verband/vereine/               False   \n",
       "4                      https://tnw.de/verband/vereine/               False   \n",
       "..                                                 ...                 ...   \n",
       "691        https://www.tanzen-in-sh.de/verband/vereine               False   \n",
       "692  https://www.ttsv-tanzen.de/vereine-in-thueringen/               False   \n",
       "693  https://www.ttsv-tanzen.de/vereine-in-thueringen/               False   \n",
       "694  https://www.ttsv-tanzen.de/vereine-in-thueringen/               False   \n",
       "695  https://www.ttsv-tanzen.de/vereine-in-thueringen/               False   \n",
       "\n",
       "           Crawl date  \n",
       "0    January 04, 2024  \n",
       "1    January 04, 2024  \n",
       "2    January 04, 2024  \n",
       "3    January 04, 2024  \n",
       "4    January 04, 2024  \n",
       "..                ...  \n",
       "691  January 04, 2024  \n",
       "692  January 04, 2024  \n",
       "693  January 04, 2024  \n",
       "694  January 04, 2024  \n",
       "695  January 04, 2024  \n",
       "\n",
       "[696 rows x 5 columns]"
      ]
     },
     "execution_count": 6,
     "metadata": {},
     "output_type": "execute_result"
    }
   ],
   "source": [
    "clubs = c.ClubsTable()\n",
    "target_df = clubs.df\n",
    "target_df"
   ]
  },
  {
   "cell_type": "code",
   "execution_count": 13,
   "metadata": {},
   "outputs": [
    {
     "ename": "TypeError",
     "evalue": "only list-like objects are allowed to be passed to isin(), you passed a `NoneType`",
     "output_type": "error",
     "traceback": [
      "\u001b[0;31m---------------------------------------------------------------------------\u001b[0m",
      "\u001b[0;31mTypeError\u001b[0m                                 Traceback (most recent call last)",
      "Cell \u001b[0;32mIn[13], line 2\u001b[0m\n\u001b[1;32m      1\u001b[0m target_df \u001b[38;5;241m=\u001b[39m clubs\u001b[38;5;241m.\u001b[39mdf\u001b[38;5;241m.\u001b[39mloc[\n\u001b[0;32m----> 2\u001b[0m     (\u001b[43mclubs\u001b[49m\u001b[38;5;241;43m.\u001b[39;49m\u001b[43mdf\u001b[49m\u001b[43m[\u001b[49m\u001b[43mc\u001b[49m\u001b[38;5;241;43m.\u001b[39;49m\u001b[43mClubsTable\u001b[49m\u001b[38;5;241;43m.\u001b[39;49m\u001b[43mcFEDERAL_STATE\u001b[49m\u001b[43m]\u001b[49m\u001b[38;5;241;43m.\u001b[39;49m\u001b[43misin\u001b[49m\u001b[43m(\u001b[49m\u001b[38;5;28;43;01mNone\u001b[39;49;00m\u001b[43m)\u001b[49m) \u001b[38;5;241m&\u001b[39m \n\u001b[1;32m      3\u001b[0m     (clubs\u001b[38;5;241m.\u001b[39mdf[c\u001b[38;5;241m.\u001b[39mClubsTable\u001b[38;5;241m.\u001b[39mcFOUND_COMPS] \u001b[38;5;241m==\u001b[39m \u001b[38;5;28;01mFalse\u001b[39;00m)\n\u001b[1;32m      4\u001b[0m     ]\n\u001b[1;32m      5\u001b[0m target_df\n",
      "File \u001b[0;32m~/anaconda3/lib/python3.10/site-packages/pandas/core/series.py:5346\u001b[0m, in \u001b[0;36mSeries.isin\u001b[0;34m(self, values)\u001b[0m\n\u001b[1;32m   5273\u001b[0m \u001b[38;5;28;01mdef\u001b[39;00m \u001b[38;5;21misin\u001b[39m(\u001b[38;5;28mself\u001b[39m, values) \u001b[38;5;241m-\u001b[39m\u001b[38;5;241m>\u001b[39m Series:\n\u001b[1;32m   5274\u001b[0m \u001b[38;5;250m    \u001b[39m\u001b[38;5;124;03m\"\"\"\u001b[39;00m\n\u001b[1;32m   5275\u001b[0m \u001b[38;5;124;03m    Whether elements in Series are contained in `values`.\u001b[39;00m\n\u001b[1;32m   5276\u001b[0m \n\u001b[0;32m   (...)\u001b[0m\n\u001b[1;32m   5344\u001b[0m \u001b[38;5;124;03m    dtype: bool\u001b[39;00m\n\u001b[1;32m   5345\u001b[0m \u001b[38;5;124;03m    \"\"\"\u001b[39;00m\n\u001b[0;32m-> 5346\u001b[0m     result \u001b[38;5;241m=\u001b[39m \u001b[43malgorithms\u001b[49m\u001b[38;5;241;43m.\u001b[39;49m\u001b[43misin\u001b[49m\u001b[43m(\u001b[49m\u001b[38;5;28;43mself\u001b[39;49m\u001b[38;5;241;43m.\u001b[39;49m\u001b[43m_values\u001b[49m\u001b[43m,\u001b[49m\u001b[43m \u001b[49m\u001b[43mvalues\u001b[49m\u001b[43m)\u001b[49m\n\u001b[1;32m   5347\u001b[0m     \u001b[38;5;28;01mreturn\u001b[39;00m \u001b[38;5;28mself\u001b[39m\u001b[38;5;241m.\u001b[39m_constructor(result, index\u001b[38;5;241m=\u001b[39m\u001b[38;5;28mself\u001b[39m\u001b[38;5;241m.\u001b[39mindex, copy\u001b[38;5;241m=\u001b[39m\u001b[38;5;28;01mFalse\u001b[39;00m)\u001b[38;5;241m.\u001b[39m__finalize__(\n\u001b[1;32m   5348\u001b[0m         \u001b[38;5;28mself\u001b[39m, method\u001b[38;5;241m=\u001b[39m\u001b[38;5;124m\"\u001b[39m\u001b[38;5;124misin\u001b[39m\u001b[38;5;124m\"\u001b[39m\n\u001b[1;32m   5349\u001b[0m     )\n",
      "File \u001b[0;32m~/anaconda3/lib/python3.10/site-packages/pandas/core/algorithms.py:477\u001b[0m, in \u001b[0;36misin\u001b[0;34m(comps, values)\u001b[0m\n\u001b[1;32m    472\u001b[0m     \u001b[38;5;28;01mraise\u001b[39;00m \u001b[38;5;167;01mTypeError\u001b[39;00m(\n\u001b[1;32m    473\u001b[0m         \u001b[38;5;124m\"\u001b[39m\u001b[38;5;124monly list-like objects are allowed to be passed \u001b[39m\u001b[38;5;124m\"\u001b[39m\n\u001b[1;32m    474\u001b[0m         \u001b[38;5;124mf\u001b[39m\u001b[38;5;124m\"\u001b[39m\u001b[38;5;124mto isin(), you passed a `\u001b[39m\u001b[38;5;132;01m{\u001b[39;00m\u001b[38;5;28mtype\u001b[39m(comps)\u001b[38;5;241m.\u001b[39m\u001b[38;5;18m__name__\u001b[39m\u001b[38;5;132;01m}\u001b[39;00m\u001b[38;5;124m`\u001b[39m\u001b[38;5;124m\"\u001b[39m\n\u001b[1;32m    475\u001b[0m     )\n\u001b[1;32m    476\u001b[0m \u001b[38;5;28;01mif\u001b[39;00m \u001b[38;5;129;01mnot\u001b[39;00m is_list_like(values):\n\u001b[0;32m--> 477\u001b[0m     \u001b[38;5;28;01mraise\u001b[39;00m \u001b[38;5;167;01mTypeError\u001b[39;00m(\n\u001b[1;32m    478\u001b[0m         \u001b[38;5;124m\"\u001b[39m\u001b[38;5;124monly list-like objects are allowed to be passed \u001b[39m\u001b[38;5;124m\"\u001b[39m\n\u001b[1;32m    479\u001b[0m         \u001b[38;5;124mf\u001b[39m\u001b[38;5;124m\"\u001b[39m\u001b[38;5;124mto isin(), you passed a `\u001b[39m\u001b[38;5;132;01m{\u001b[39;00m\u001b[38;5;28mtype\u001b[39m(values)\u001b[38;5;241m.\u001b[39m\u001b[38;5;18m__name__\u001b[39m\u001b[38;5;132;01m}\u001b[39;00m\u001b[38;5;124m`\u001b[39m\u001b[38;5;124m\"\u001b[39m\n\u001b[1;32m    480\u001b[0m     )\n\u001b[1;32m    482\u001b[0m \u001b[38;5;28;01mif\u001b[39;00m \u001b[38;5;129;01mnot\u001b[39;00m \u001b[38;5;28misinstance\u001b[39m(values, (ABCIndex, ABCSeries, ABCExtensionArray, np\u001b[38;5;241m.\u001b[39mndarray)):\n\u001b[1;32m    483\u001b[0m     orig_values \u001b[38;5;241m=\u001b[39m \u001b[38;5;28mlist\u001b[39m(values)\n",
      "\u001b[0;31mTypeError\u001b[0m: only list-like objects are allowed to be passed to isin(), you passed a `NoneType`"
     ]
    }
   ],
   "source": [
    "target_df = clubs.df.loc[\n",
    "    (clubs.df[c.ClubsTable.cFEDERAL_STATE].isin(None)) & \n",
    "    (clubs.df[c.ClubsTable.cFOUND_COMPS] == False)\n",
    "    ]\n",
    "target_df"
   ]
  },
  {
   "cell_type": "code",
   "execution_count": 16,
   "metadata": {},
   "outputs": [
    {
     "data": {
      "text/plain": [
       "True"
      ]
     },
     "execution_count": 16,
     "metadata": {},
     "output_type": "execute_result"
    }
   ],
   "source": [
    "not any([s in 'asdasdassd' for s in []])"
   ]
  },
  {
   "cell_type": "code",
   "execution_count": 54,
   "metadata": {},
   "outputs": [
    {
     "data": {
      "text/plain": [
       "'<!DOCTYPE html>\\n<html dir=\"ltr\" lang=\"de-DE\"\\n\\tprefix=\"og: https://ogp.me/ns#\"  class=\"html_stretched responsive av-preloader-disabled av-default-lightbox  html_header_top html_logo_left html_main_nav_header html_menu_right html_custom html_header_sticky html_header_shrinking_disabled html_mobile_menu_tablet html_header_searchicon html_content_align_center html_header_unstick_top_disabled html_header_stretch_disabled html_minimal_header html_minimal_header_shadow html_av-submenu-hidden html_av-submenu-display-click html_av-overlay-side html_av-overlay-side-classic html_av-submenu-clone html_entry_id_12 av-no-preview html_text_menu_active \">\\n<head>\\n<meta charset=\"UTF-8\" />\\n<meta name=\"robots\" content=\"index, follow\" />\\n\\n\\n<!-- mobile setting -->\\n<meta name=\"viewport\" content=\"width=device-width, initial-scale=1, maximum-scale=1\">\\n\\n<!-- Scripts/CSS and wp_head hook -->\\n<title>TSK Sankt Augustin e.V. – Tanzen Tanzen Tanzen</title>\\n\\n\\t\\t<!-- All in One SEO 4.3.6.1 - aioseo.com -->\\n\\t\\t<meta name=\"description\" content=\"Tanzen Tanzen Tanzen\" />\\n\\t\\t<meta name=\"robots\" content=\"max-image-preview:large\" />\\n\\t\\t<link rel=\"canonical\" href=\"https://www.tanzsportkreis-sankt-augustin.de/\" />\\n\\t\\t<meta name=\"generator\" content=\"All in One SEO (AIOSEO) 4.3.6.1 \" />\\n\\t\\t<meta property=\"og:locale\" content=\"de_DE\" />\\n\\t\\t<meta property=\"og:site_name\" content=\"TSK Sankt Augustin e.V. – Tanzen Tanzen Tanzen\" />\\n\\t\\t<meta property=\"og:type\" content=\"website\" />\\n\\t\\t<meta property=\"og:title\" content=\"TSK Sankt Augustin e.V. – Tanzen Tanzen Tanzen\" />\\n\\t\\t<meta property=\"og:description\" content=\"Tanzen Tanzen Tanzen\" />\\n\\t\\t<meta property=\"og:url\" content=\"https://www.tanzsportkreis-sankt-augustin.de/\" />\\n\\t\\t<meta name=\"twitter:card\" content=\"summary\" />\\n\\t\\t<meta name=\"twitter:title\" content=\"TSK Sankt Augustin e.V. – Tanzen Tanzen Tanzen\" />\\n\\t\\t<meta name=\"twitter:description\" content=\"Tanzen Tanzen Tanzen\" />\\n\\t\\t<script type=\"application/ld+json\" class=\"aioseo-schema\">\\n\\t\\t\\t{\"@context\":\"https:\\\\/\\\\/schema.org\",\"@graph\":[{\"@type\":\"BreadcrumbList\",\"@id\":\"https:\\\\/\\\\/www.tanzsportkreis-sankt-augustin.de\\\\/#breadcrumblist\",\"itemListElement\":[{\"@type\":\"ListItem\",\"@id\":\"https:\\\\/\\\\/www.tanzsportkreis-sankt-augustin.de\\\\/#listItem\",\"position\":1,\"item\":{\"@type\":\"WebPage\",\"@id\":\"https:\\\\/\\\\/www.tanzsportkreis-sankt-augustin.de\\\\/\",\"name\":\"Home\",\"description\":\"Tanzen Tanzen Tanzen\",\"url\":\"https:\\\\/\\\\/www.tanzsportkreis-sankt-augustin.de\\\\/\"}}]},{\"@type\":\"Organization\",\"@id\":\"https:\\\\/\\\\/www.tanzsportkreis-sankt-augustin.de\\\\/#organization\",\"name\":\"TSK Sankt Augustin e.V.\",\"url\":\"https:\\\\/\\\\/www.tanzsportkreis-sankt-augustin.de\\\\/\",\"logo\":{\"@type\":\"ImageObject\",\"url\":\"https:\\\\/\\\\/www.tanzsportkreis-sankt-augustin.de\\\\/wp-content\\\\/uploads\\\\/2020\\\\/07\\\\/Logo_Wappen_2020.png\",\"@id\":\"https:\\\\/\\\\/www.tanzsportkreis-sankt-augustin.de\\\\/#organizationLogo\",\"width\":825,\"height\":995},\"image\":{\"@id\":\"https:\\\\/\\\\/www.tanzsportkreis-sankt-augustin.de\\\\/#organizationLogo\"}},{\"@type\":\"WebPage\",\"@id\":\"https:\\\\/\\\\/www.tanzsportkreis-sankt-augustin.de\\\\/#webpage\",\"url\":\"https:\\\\/\\\\/www.tanzsportkreis-sankt-augustin.de\\\\/\",\"name\":\"TSK Sankt Augustin e.V. \\\\u2013 Tanzen Tanzen Tanzen\",\"description\":\"Tanzen Tanzen Tanzen\",\"inLanguage\":\"de-DE\",\"isPartOf\":{\"@id\":\"https:\\\\/\\\\/www.tanzsportkreis-sankt-augustin.de\\\\/#website\"},\"breadcrumb\":{\"@id\":\"https:\\\\/\\\\/www.tanzsportkreis-sankt-augustin.de\\\\/#breadcrumblist\"},\"datePublished\":\"2015-05-15T13:08:42+02:00\",\"dateModified\":\"2023-12-31T19:08:40+01:00\"},{\"@type\":\"WebSite\",\"@id\":\"https:\\\\/\\\\/www.tanzsportkreis-sankt-augustin.de\\\\/#website\",\"url\":\"https:\\\\/\\\\/www.tanzsportkreis-sankt-augustin.de\\\\/\",\"name\":\"TSK Sankt Augustin e.V.\",\"description\":\"Tanzen Tanzen Tanzen\",\"inLanguage\":\"de-DE\",\"publisher\":{\"@id\":\"https:\\\\/\\\\/www.tanzsportkreis-sankt-augustin.de\\\\/#organization\"},\"potentialAction\":{\"@type\":\"SearchAction\",\"target\":{\"@type\":\"EntryPoint\",\"urlTemplate\":\"https:\\\\/\\\\/www.tanzsportkreis-sankt-augustin.de\\\\/?s={search_term_string}\"},\"query-input\":\"required name=search_term_string\"}}]}\\n\\t\\t</script>\\n\\t\\t<!-- All in One SEO -->\\n\\n<meta name=\"dlm-version\" content=\"4.7.78\"><link rel=\\'dns-prefetch\\' href=\\'//www.tanzsportkreis-sankt-augustin.de\\' />\\n<link rel=\\'dns-prefetch\\' href=\\'//s.w.org\\' />\\n<link rel=\"alternate\" type=\"application/rss+xml\" title=\"TSK Sankt Augustin e.V. &raquo; Feed\" href=\"https://www.tanzsportkreis-sankt-augustin.de/feed/\" />\\n<link rel=\"alternate\" type=\"application/rss+xml\" title=\"TSK Sankt Augustin e.V. &raquo; Kommentar-Feed\" href=\"https://www.tanzsportkreis-sankt-augustin.de/comments/feed/\" />\\n<link rel=\"alternate\" type=\"text/calendar\" title=\"TSK Sankt Augustin e.V. &raquo; iCal Feed\" href=\"https://www.tanzsportkreis-sankt-augustin.de/events-calender/?ical=1\" />\\n\\t\\t<!-- This site uses the Google Analytics by MonsterInsights plugin v8.14.1 - Using Analytics tracking - https://www.monsterinsights.com/ -->\\n\\t\\t\\t\\t\\t\\t\\t<script src=\"//www.googletagmanager.com/gtag/js?id=G-R4JQNJ07FT\"  data-cfasync=\"false\" data-wpfc-render=\"false\" type=\"text/javascript\" async></script>\\n\\t\\t\\t<script data-cfasync=\"false\" data-wpfc-render=\"false\" type=\"text/javascript\">\\n\\t\\t\\t\\tvar mi_version = \\'8.14.1\\';\\n\\t\\t\\t\\tvar mi_track_user = true;\\n\\t\\t\\t\\tvar mi_no_track_reason = \\'\\';\\n\\t\\t\\t\\t\\n\\t\\t\\t\\t\\t\\t\\t\\tvar disableStrs = [\\n\\t\\t\\t\\t\\t\\t\\t\\t\\t\\t\\'ga-disable-G-R4JQNJ07FT\\',\\n\\t\\t\\t\\t\\t\\t\\t\\t\\t\\t\\t\\t\\t\\t];\\n\\n\\t\\t\\t\\t/* Function to detect opted out users */\\n\\t\\t\\t\\tfunction __gtagTrackerIsOptedOut() {\\n\\t\\t\\t\\t\\tfor (var index = 0; index < disableStrs.length; index++) {\\n\\t\\t\\t\\t\\t\\tif (document.cookie.indexOf(disableStrs[index] + \\'=true\\') > -1) {\\n\\t\\t\\t\\t\\t\\t\\treturn true;\\n\\t\\t\\t\\t\\t\\t}\\n\\t\\t\\t\\t\\t}\\n\\n\\t\\t\\t\\t\\treturn false;\\n\\t\\t\\t\\t}\\n\\n\\t\\t\\t\\t/* Disable tracking if the opt-out cookie exists. */\\n\\t\\t\\t\\tif (__gtagTrackerIsOptedOut()) {\\n\\t\\t\\t\\t\\tfor (var index = 0; index < disableStrs.length; index++) {\\n\\t\\t\\t\\t\\t\\twindow[disableStrs[index]] = true;\\n\\t\\t\\t\\t\\t}\\n\\t\\t\\t\\t}\\n\\n\\t\\t\\t\\t/* Opt-out function */\\n\\t\\t\\t\\tfunction __gtagTrackerOptout() {\\n\\t\\t\\t\\t\\tfor (var index = 0; index < disableStrs.length; index++) {\\n\\t\\t\\t\\t\\t\\tdocument.cookie = disableStrs[index] + \\'=true; expires=Thu, 31 Dec 2099 23:59:59 UTC; path=/\\';\\n\\t\\t\\t\\t\\t\\twindow[disableStrs[index]] = true;\\n\\t\\t\\t\\t\\t}\\n\\t\\t\\t\\t}\\n\\n\\t\\t\\t\\tif (\\'undefined\\' === typeof gaOptout) {\\n\\t\\t\\t\\t\\tfunction gaOptout() {\\n\\t\\t\\t\\t\\t\\t__gtagTrackerOptout();\\n\\t\\t\\t\\t\\t}\\n\\t\\t\\t\\t}\\n\\t\\t\\t\\t\\t\\t\\t\\twindow.dataLayer = window.dataLayer || [];\\n\\n\\t\\t\\t\\twindow.MonsterInsightsDualTracker = {\\n\\t\\t\\t\\t\\thelpers: {},\\n\\t\\t\\t\\t\\ttrackers: {},\\n\\t\\t\\t\\t};\\n\\t\\t\\t\\tif (mi_track_user) {\\n\\t\\t\\t\\t\\tfunction __gtagDataLayer() {\\n\\t\\t\\t\\t\\t\\tdataLayer.push(arguments);\\n\\t\\t\\t\\t\\t}\\n\\n\\t\\t\\t\\t\\tfunction __gtagTracker(type, name, parameters) {\\n\\t\\t\\t\\t\\t\\tif (!parameters) {\\n\\t\\t\\t\\t\\t\\t\\tparameters = {};\\n\\t\\t\\t\\t\\t\\t}\\n\\n\\t\\t\\t\\t\\t\\tif (parameters.send_to) {\\n\\t\\t\\t\\t\\t\\t\\t__gtagDataLayer.apply(null, arguments);\\n\\t\\t\\t\\t\\t\\t\\treturn;\\n\\t\\t\\t\\t\\t\\t}\\n\\n\\t\\t\\t\\t\\t\\tif (type === \\'event\\') {\\n\\t\\t\\t\\t\\t\\t\\t\\t\\t\\t\\t\\t\\t\\tparameters.send_to = monsterinsights_frontend.v4_id;\\n\\t\\t\\t\\t\\t\\t\\tvar hookName = name;\\n\\t\\t\\t\\t\\t\\t\\tif (typeof parameters[\\'event_category\\'] !== \\'undefined\\') {\\n\\t\\t\\t\\t\\t\\t\\t\\thookName = parameters[\\'event_category\\'] + \\':\\' + name;\\n\\t\\t\\t\\t\\t\\t\\t}\\n\\n\\t\\t\\t\\t\\t\\t\\tif (typeof MonsterInsightsDualTracker.trackers[hookName] !== \\'undefined\\') {\\n\\t\\t\\t\\t\\t\\t\\t\\tMonsterInsightsDualTracker.trackers[hookName](parameters);\\n\\t\\t\\t\\t\\t\\t\\t} else {\\n\\t\\t\\t\\t\\t\\t\\t\\t__gtagDataLayer(\\'event\\', name, parameters);\\n\\t\\t\\t\\t\\t\\t\\t}\\n\\t\\t\\t\\t\\t\\t\\t\\n\\t\\t\\t\\t\\t\\t\\t\\t\\t\\t\\t\\t\\t} else {\\n\\t\\t\\t\\t\\t\\t\\t__gtagDataLayer.apply(null, arguments);\\n\\t\\t\\t\\t\\t\\t}\\n\\t\\t\\t\\t\\t}\\n\\n\\t\\t\\t\\t\\t__gtagTracker(\\'js\\', new Date());\\n\\t\\t\\t\\t\\t__gtagTracker(\\'set\\', {\\n\\t\\t\\t\\t\\t\\t\\'developer_id.dZGIzZG\\': true,\\n\\t\\t\\t\\t\\t\\t\\t\\t\\t\\t\\t});\\n\\t\\t\\t\\t\\t\\t\\t\\t\\t\\t__gtagTracker(\\'config\\', \\'G-R4JQNJ07FT\\', {\"forceSSL\":\"true\",\"link_attribution\":\"true\"} );\\n\\t\\t\\t\\t\\t\\t\\t\\t\\t\\t\\t\\t\\t\\t\\twindow.gtag = __gtagTracker;\\t\\t\\t\\t\\t\\t\\t\\t\\t\\t(function () {\\n\\t\\t\\t\\t\\t\\t/* https://developers.google.com/analytics/devguides/collection/analyticsjs/ */\\n\\t\\t\\t\\t\\t\\t/* ga and __gaTracker compatibility shim. */\\n\\t\\t\\t\\t\\t\\tvar noopfn = function () {\\n\\t\\t\\t\\t\\t\\t\\treturn null;\\n\\t\\t\\t\\t\\t\\t};\\n\\t\\t\\t\\t\\t\\tvar newtracker = function () {\\n\\t\\t\\t\\t\\t\\t\\treturn new Tracker();\\n\\t\\t\\t\\t\\t\\t};\\n\\t\\t\\t\\t\\t\\tvar Tracker = function () {\\n\\t\\t\\t\\t\\t\\t\\treturn null;\\n\\t\\t\\t\\t\\t\\t};\\n\\t\\t\\t\\t\\t\\tvar p = Tracker.prototype;\\n\\t\\t\\t\\t\\t\\tp.get = noopfn;\\n\\t\\t\\t\\t\\t\\tp.set = noopfn;\\n\\t\\t\\t\\t\\t\\tp.send = function () {\\n\\t\\t\\t\\t\\t\\t\\tvar args = Array.prototype.slice.call(arguments);\\n\\t\\t\\t\\t\\t\\t\\targs.unshift(\\'send\\');\\n\\t\\t\\t\\t\\t\\t\\t__gaTracker.apply(null, args);\\n\\t\\t\\t\\t\\t\\t};\\n\\t\\t\\t\\t\\t\\tvar __gaTracker = function () {\\n\\t\\t\\t\\t\\t\\t\\tvar len = arguments.length;\\n\\t\\t\\t\\t\\t\\t\\tif (len === 0) {\\n\\t\\t\\t\\t\\t\\t\\t\\treturn;\\n\\t\\t\\t\\t\\t\\t\\t}\\n\\t\\t\\t\\t\\t\\t\\tvar f = arguments[len - 1];\\n\\t\\t\\t\\t\\t\\t\\tif (typeof f !== \\'object\\' || f === null || typeof f.hitCallback !== \\'function\\') {\\n\\t\\t\\t\\t\\t\\t\\t\\tif (\\'send\\' === arguments[0]) {\\n\\t\\t\\t\\t\\t\\t\\t\\t\\tvar hitConverted, hitObject = false, action;\\n\\t\\t\\t\\t\\t\\t\\t\\t\\tif (\\'event\\' === arguments[1]) {\\n\\t\\t\\t\\t\\t\\t\\t\\t\\t\\tif (\\'undefined\\' !== typeof arguments[3]) {\\n\\t\\t\\t\\t\\t\\t\\t\\t\\t\\t\\thitObject = {\\n\\t\\t\\t\\t\\t\\t\\t\\t\\t\\t\\t\\t\\'eventAction\\': arguments[3],\\n\\t\\t\\t\\t\\t\\t\\t\\t\\t\\t\\t\\t\\'eventCategory\\': arguments[2],\\n\\t\\t\\t\\t\\t\\t\\t\\t\\t\\t\\t\\t\\'eventLabel\\': arguments[4],\\n\\t\\t\\t\\t\\t\\t\\t\\t\\t\\t\\t\\t\\'value\\': arguments[5] ? arguments[5] : 1,\\n\\t\\t\\t\\t\\t\\t\\t\\t\\t\\t\\t}\\n\\t\\t\\t\\t\\t\\t\\t\\t\\t\\t}\\n\\t\\t\\t\\t\\t\\t\\t\\t\\t}\\n\\t\\t\\t\\t\\t\\t\\t\\t\\tif (\\'pageview\\' === arguments[1]) {\\n\\t\\t\\t\\t\\t\\t\\t\\t\\t\\tif (\\'undefined\\' !== typeof arguments[2]) {\\n\\t\\t\\t\\t\\t\\t\\t\\t\\t\\t\\thitObject = {\\n\\t\\t\\t\\t\\t\\t\\t\\t\\t\\t\\t\\t\\'eventAction\\': \\'page_view\\',\\n\\t\\t\\t\\t\\t\\t\\t\\t\\t\\t\\t\\t\\'page_path\\': arguments[2],\\n\\t\\t\\t\\t\\t\\t\\t\\t\\t\\t\\t}\\n\\t\\t\\t\\t\\t\\t\\t\\t\\t\\t}\\n\\t\\t\\t\\t\\t\\t\\t\\t\\t}\\n\\t\\t\\t\\t\\t\\t\\t\\t\\tif (typeof arguments[2] === \\'object\\') {\\n\\t\\t\\t\\t\\t\\t\\t\\t\\t\\thitObject = arguments[2];\\n\\t\\t\\t\\t\\t\\t\\t\\t\\t}\\n\\t\\t\\t\\t\\t\\t\\t\\t\\tif (typeof arguments[5] === \\'object\\') {\\n\\t\\t\\t\\t\\t\\t\\t\\t\\t\\tObject.assign(hitObject, arguments[5]);\\n\\t\\t\\t\\t\\t\\t\\t\\t\\t}\\n\\t\\t\\t\\t\\t\\t\\t\\t\\tif (\\'undefined\\' !== typeof arguments[1].hitType) {\\n\\t\\t\\t\\t\\t\\t\\t\\t\\t\\thitObject = arguments[1];\\n\\t\\t\\t\\t\\t\\t\\t\\t\\t\\tif (\\'pageview\\' === hitObject.hitType) {\\n\\t\\t\\t\\t\\t\\t\\t\\t\\t\\t\\thitObject.eventAction = \\'page_view\\';\\n\\t\\t\\t\\t\\t\\t\\t\\t\\t\\t}\\n\\t\\t\\t\\t\\t\\t\\t\\t\\t}\\n\\t\\t\\t\\t\\t\\t\\t\\t\\tif (hitObject) {\\n\\t\\t\\t\\t\\t\\t\\t\\t\\t\\taction = \\'timing\\' === arguments[1].hitType ? \\'timing_complete\\' : hitObject.eventAction;\\n\\t\\t\\t\\t\\t\\t\\t\\t\\t\\thitConverted = mapArgs(hitObject);\\n\\t\\t\\t\\t\\t\\t\\t\\t\\t\\t__gtagTracker(\\'event\\', action, hitConverted);\\n\\t\\t\\t\\t\\t\\t\\t\\t\\t}\\n\\t\\t\\t\\t\\t\\t\\t\\t}\\n\\t\\t\\t\\t\\t\\t\\t\\treturn;\\n\\t\\t\\t\\t\\t\\t\\t}\\n\\n\\t\\t\\t\\t\\t\\t\\tfunction mapArgs(args) {\\n\\t\\t\\t\\t\\t\\t\\t\\tvar arg, hit = {};\\n\\t\\t\\t\\t\\t\\t\\t\\tvar gaMap = {\\n\\t\\t\\t\\t\\t\\t\\t\\t\\t\\'eventCategory\\': \\'event_category\\',\\n\\t\\t\\t\\t\\t\\t\\t\\t\\t\\'eventAction\\': \\'event_action\\',\\n\\t\\t\\t\\t\\t\\t\\t\\t\\t\\'eventLabel\\': \\'event_label\\',\\n\\t\\t\\t\\t\\t\\t\\t\\t\\t\\'eventValue\\': \\'event_value\\',\\n\\t\\t\\t\\t\\t\\t\\t\\t\\t\\'nonInteraction\\': \\'non_interaction\\',\\n\\t\\t\\t\\t\\t\\t\\t\\t\\t\\'timingCategory\\': \\'event_category\\',\\n\\t\\t\\t\\t\\t\\t\\t\\t\\t\\'timingVar\\': \\'name\\',\\n\\t\\t\\t\\t\\t\\t\\t\\t\\t\\'timingValue\\': \\'value\\',\\n\\t\\t\\t\\t\\t\\t\\t\\t\\t\\'timingLabel\\': \\'event_label\\',\\n\\t\\t\\t\\t\\t\\t\\t\\t\\t\\'page\\': \\'page_path\\',\\n\\t\\t\\t\\t\\t\\t\\t\\t\\t\\'location\\': \\'page_location\\',\\n\\t\\t\\t\\t\\t\\t\\t\\t\\t\\'title\\': \\'page_title\\',\\n\\t\\t\\t\\t\\t\\t\\t\\t};\\n\\t\\t\\t\\t\\t\\t\\t\\tfor (arg in args) {\\n\\t\\t\\t\\t\\t\\t\\t\\t\\t\\t\\t\\t\\t\\t\\t\\t\\t\\tif (!(!args.hasOwnProperty(arg) || !gaMap.hasOwnProperty(arg))) {\\n\\t\\t\\t\\t\\t\\t\\t\\t\\t\\thit[gaMap[arg]] = args[arg];\\n\\t\\t\\t\\t\\t\\t\\t\\t\\t} else {\\n\\t\\t\\t\\t\\t\\t\\t\\t\\t\\thit[arg] = args[arg];\\n\\t\\t\\t\\t\\t\\t\\t\\t\\t}\\n\\t\\t\\t\\t\\t\\t\\t\\t}\\n\\t\\t\\t\\t\\t\\t\\t\\treturn hit;\\n\\t\\t\\t\\t\\t\\t\\t}\\n\\n\\t\\t\\t\\t\\t\\t\\ttry {\\n\\t\\t\\t\\t\\t\\t\\t\\tf.hitCallback();\\n\\t\\t\\t\\t\\t\\t\\t} catch (ex) {\\n\\t\\t\\t\\t\\t\\t\\t}\\n\\t\\t\\t\\t\\t\\t};\\n\\t\\t\\t\\t\\t\\t__gaTracker.create = newtracker;\\n\\t\\t\\t\\t\\t\\t__gaTracker.getByName = newtracker;\\n\\t\\t\\t\\t\\t\\t__gaTracker.getAll = function () {\\n\\t\\t\\t\\t\\t\\t\\treturn [];\\n\\t\\t\\t\\t\\t\\t};\\n\\t\\t\\t\\t\\t\\t__gaTracker.remove = noopfn;\\n\\t\\t\\t\\t\\t\\t__gaTracker.loaded = true;\\n\\t\\t\\t\\t\\t\\twindow[\\'__gaTracker\\'] = __gaTracker;\\n\\t\\t\\t\\t\\t})();\\n\\t\\t\\t\\t\\t\\t\\t\\t\\t} else {\\n\\t\\t\\t\\t\\t\\t\\t\\t\\t\\tconsole.log(\"\");\\n\\t\\t\\t\\t\\t(function () {\\n\\t\\t\\t\\t\\t\\tfunction __gtagTracker() {\\n\\t\\t\\t\\t\\t\\t\\treturn null;\\n\\t\\t\\t\\t\\t\\t}\\n\\n\\t\\t\\t\\t\\t\\twindow[\\'__gtagTracker\\'] = __gtagTracker;\\n\\t\\t\\t\\t\\t\\twindow[\\'gtag\\'] = __gtagTracker;\\n\\t\\t\\t\\t\\t})();\\n\\t\\t\\t\\t\\t\\t\\t\\t\\t}\\n\\t\\t\\t</script>\\n\\t\\t\\t\\t<!-- / Google Analytics by MonsterInsights -->\\n\\t\\t\\n<!-- google webfont font replacement -->\\n\\n\\t\\t\\t<script type=\\'text/javascript\\'>\\n\\t\\t\\tif(!document.cookie.match(/aviaPrivacyGoogleWebfontsDisabled/)){\\n\\t\\t\\t\\t(function() {\\n\\t\\t\\t\\t\\tvar f = document.createElement(\\'link\\');\\n\\t\\t\\t\\t\\t\\n\\t\\t\\t\\t\\tf.type \\t= \\'text/css\\';\\n\\t\\t\\t\\t\\tf.rel \\t= \\'stylesheet\\';\\n\\t\\t\\t\\t\\tf.href \\t= \\'//fonts.googleapis.com/css?family=Open+Sans:400,600\\';\\n\\t\\t\\t\\t\\tf.id \\t= \\'avia-google-webfont\\';\\n\\t\\t\\t\\t\\t\\n\\t\\t\\t\\t\\tdocument.getElementsByTagName(\\'head\\')[0].appendChild(f);\\n\\t\\t\\t\\t})();\\n\\t\\t\\t}\\n\\t\\t\\t</script>\\n\\t\\t\\t\\t\\t<script type=\"text/javascript\">\\n\\t\\t\\twindow._wpemojiSettings = {\"baseUrl\":\"https:\\\\/\\\\/s.w.org\\\\/images\\\\/core\\\\/emoji\\\\/13.1.0\\\\/72x72\\\\/\",\"ext\":\".png\",\"svgUrl\":\"https:\\\\/\\\\/s.w.org\\\\/images\\\\/core\\\\/emoji\\\\/13.1.0\\\\/svg\\\\/\",\"svgExt\":\".svg\",\"source\":{\"concatemoji\":\"https:\\\\/\\\\/www.tanzsportkreis-sankt-augustin.de\\\\/wp-includes\\\\/js\\\\/wp-emoji-release.min.js?ver=5.8.8\"}};\\n\\t\\t\\t!function(e,a,t){var n,r,o,i=a.createElement(\"canvas\"),p=i.getContext&&i.getContext(\"2d\");function s(e,t){var a=String.fromCharCode;p.clearRect(0,0,i.width,i.height),p.fillText(a.apply(this,e),0,0);e=i.toDataURL();return p.clearRect(0,0,i.width,i.height),p.fillText(a.apply(this,t),0,0),e===i.toDataURL()}function c(e){var t=a.createElement(\"script\");t.src=e,t.defer=t.type=\"text/javascript\",a.getElementsByTagName(\"head\")[0].appendChild(t)}for(o=Array(\"flag\",\"emoji\"),t.supports={everything:!0,everythingExceptFlag:!0},r=0;r<o.length;r++)t.supports[o[r]]=function(e){if(!p||!p.fillText)return!1;switch(p.textBaseline=\"top\",p.font=\"600 32px Arial\",e){case\"flag\":return s([127987,65039,8205,9895,65039],[127987,65039,8203,9895,65039])?!1:!s([55356,56826,55356,56819],[55356,56826,8203,55356,56819])&&!s([55356,57332,56128,56423,56128,56418,56128,56421,56128,56430,56128,56423,56128,56447],[55356,57332,8203,56128,56423,8203,56128,56418,8203,56128,56421,8203,56128,56430,8203,56128,56423,8203,56128,56447]);case\"emoji\":return!s([10084,65039,8205,55357,56613],[10084,65039,8203,55357,56613])}return!1}(o[r]),t.supports.everything=t.supports.everything&&t.supports[o[r]],\"flag\"!==o[r]&&(t.supports.everythingExceptFlag=t.supports.everythingExceptFlag&&t.supports[o[r]]);t.supports.everythingExceptFlag=t.supports.everythingExceptFlag&&!t.supports.flag,t.DOMReady=!1,t.readyCallback=function(){t.DOMReady=!0},t.supports.everything||(n=function(){t.readyCallback()},a.addEventListener?(a.addEventListener(\"DOMContentLoaded\",n,!1),e.addEventListener(\"load\",n,!1)):(e.attachEvent(\"onload\",n),a.attachEvent(\"onreadystatechange\",function(){\"complete\"===a.readyState&&t.readyCallback()})),(n=t.source||{}).concatemoji?c(n.concatemoji):n.wpemoji&&n.twemoji&&(c(n.twemoji),c(n.wpemoji)))}(window,document,window._wpemojiSettings);\\n\\t\\t</script>\\n\\t\\t<style type=\"text/css\">\\nimg.wp-smiley,\\nimg.emoji {\\n\\tdisplay: inline !important;\\n\\tborder: none !important;\\n\\tbox-shadow: none !important;\\n\\theight: 1em !important;\\n\\twidth: 1em !important;\\n\\tmargin: 0 .07em !important;\\n\\tvertical-align: -0.1em !important;\\n\\tbackground: none !important;\\n\\tpadding: 0 !important;\\n}\\n</style>\\n\\t<link rel=\\'stylesheet\\' id=\\'wp-block-library-css\\'  href=\\'https://www.tanzsportkreis-sankt-augustin.de/wp-includes/css/dist/block-library/style.min.css?ver=5.8.8\\' type=\\'text/css\\' media=\\'all\\' />\\n<link rel=\\'stylesheet\\' id=\\'awsm-ead-public-css\\'  href=\\'https://www.tanzsportkreis-sankt-augustin.de/wp-content/plugins/embed-any-document/css/embed-public.min.css?ver=2.7.2\\' type=\\'text/css\\' media=\\'all\\' />\\n<link rel=\\'stylesheet\\' id=\\'mediaelement-css\\'  href=\\'https://www.tanzsportkreis-sankt-augustin.de/wp-includes/js/mediaelement/mediaelementplayer-legacy.min.css?ver=4.2.16\\' type=\\'text/css\\' media=\\'all\\' />\\n<link rel=\\'stylesheet\\' id=\\'wp-mediaelement-css\\'  href=\\'https://www.tanzsportkreis-sankt-augustin.de/wp-includes/js/mediaelement/wp-mediaelement.min.css?ver=5.8.8\\' type=\\'text/css\\' media=\\'all\\' />\\n<link rel=\\'stylesheet\\' id=\\'avia-merged-styles-css\\'  href=\\'https://www.tanzsportkreis-sankt-augustin.de/wp-content/uploads/dynamic_avia/avia-merged-styles-4d00f63c6dd1fa5f9241afcae88b0ff5.css\\' type=\\'text/css\\' media=\\'all\\' />\\n<script type=\\'text/javascript\\' src=\\'https://www.tanzsportkreis-sankt-augustin.de/wp-includes/js/jquery/jquery.min.js?ver=3.6.0\\' id=\\'jquery-core-js\\'></script>\\n<script type=\\'text/javascript\\' src=\\'https://www.tanzsportkreis-sankt-augustin.de/wp-includes/js/jquery/jquery-migrate.min.js?ver=3.3.2\\' id=\\'jquery-migrate-js\\'></script>\\n<script type=\\'text/javascript\\' src=\\'https://www.tanzsportkreis-sankt-augustin.de/wp-content/plugins/google-analytics-for-wordpress/assets/js/frontend-gtag.min.js?ver=8.14.1\\' id=\\'monsterinsights-frontend-script-js\\'></script>\\n<script data-cfasync=\"false\" data-wpfc-render=\"false\" type=\"text/javascript\" id=\\'monsterinsights-frontend-script-js-extra\\'>/* <![CDATA[ */\\nvar monsterinsights_frontend = {\"js_events_tracking\":\"true\",\"download_extensions\":\"doc,pdf,ppt,zip,xls,docx,pptx,xlsx\",\"inbound_paths\":\"[{\\\\\"path\\\\\":\\\\\"\\\\\\\\\\\\/go\\\\\\\\\\\\/\\\\\",\\\\\"label\\\\\":\\\\\"affiliate\\\\\"},{\\\\\"path\\\\\":\\\\\"\\\\\\\\\\\\/recommend\\\\\\\\\\\\/\\\\\",\\\\\"label\\\\\":\\\\\"affiliate\\\\\"}]\",\"home_url\":\"https:\\\\/\\\\/www.tanzsportkreis-sankt-augustin.de\",\"hash_tracking\":\"false\",\"ua\":\"\",\"v4_id\":\"G-R4JQNJ07FT\"};/* ]]> */\\n</script>\\n<link rel=\"https://api.w.org/\" href=\"https://www.tanzsportkreis-sankt-augustin.de/wp-json/\" /><link rel=\"alternate\" type=\"application/json\" href=\"https://www.tanzsportkreis-sankt-augustin.de/wp-json/wp/v2/pages/12\" /><link rel=\"EditURI\" type=\"application/rsd+xml\" title=\"RSD\" href=\"https://www.tanzsportkreis-sankt-augustin.de/xmlrpc.php?rsd\" />\\n<link rel=\"wlwmanifest\" type=\"application/wlwmanifest+xml\" href=\"https://www.tanzsportkreis-sankt-augustin.de/wp-includes/wlwmanifest.xml\" /> \\n<meta name=\"generator\" content=\"WordPress 5.8.8\" />\\n<link rel=\\'shortlink\\' href=\\'https://www.tanzsportkreis-sankt-augustin.de/\\' />\\n<link rel=\"alternate\" type=\"application/json+oembed\" href=\"https://www.tanzsportkreis-sankt-augustin.de/wp-json/oembed/1.0/embed?url=https%3A%2F%2Fwww.tanzsportkreis-sankt-augustin.de%2F\" />\\n<link rel=\"alternate\" type=\"text/xml+oembed\" href=\"https://www.tanzsportkreis-sankt-augustin.de/wp-json/oembed/1.0/embed?url=https%3A%2F%2Fwww.tanzsportkreis-sankt-augustin.de%2F&#038;format=xml\" />\\n<meta name=\"tec-api-version\" content=\"v1\"><meta name=\"tec-api-origin\" content=\"https://www.tanzsportkreis-sankt-augustin.de\"><link rel=\"alternate\" href=\"https://www.tanzsportkreis-sankt-augustin.de/wp-json/tribe/events/v1/\" /><link rel=\"profile\" href=\"http://gmpg.org/xfn/11\" />\\n<link rel=\"alternate\" type=\"application/rss+xml\" title=\"TSK Sankt Augustin e.V. RSS2 Feed\" href=\"https://www.tanzsportkreis-sankt-augustin.de/feed/\" />\\n<link rel=\"pingback\" href=\"https://www.tanzsportkreis-sankt-augustin.de/xmlrpc.php\" />\\n\\n<style type=\\'text/css\\' media=\\'screen\\'>\\n #top #header_main > .container, #top #header_main > .container .main_menu  .av-main-nav > li > a, #top #header_main #menu-item-shop .cart_dropdown_link{ height:75px; line-height: 75px; }\\n .html_top_nav_header .av-logo-container{ height:75px;  }\\n .html_header_top.html_header_sticky #top #wrap_all #main{ padding-top:75px; } \\n</style>\\n<!--[if lt IE 9]><script src=\"https://www.tanzsportkreis-sankt-augustin.de/wp-content/themes/enfold/js/html5shiv.js\"></script><![endif]-->\\n<link rel=\"icon\" href=\"https://www.tanzsportkreis-sankt-augustin.de/wp-content/uploads/2020/04/favicon-32x32.png\" type=\"image/png\">\\n\\n<!-- To speed up the rendering and to display the site as fast as possible to the user we include some styles and scripts for above the fold content inline -->\\n<script type=\"text/javascript\">\\'use strict\\';var avia_is_mobile=!1;if(/Android|webOS|iPhone|iPad|iPod|BlackBerry|IEMobile|Opera Mini/i.test(navigator.userAgent)&&\\'ontouchstart\\' in document.documentElement){avia_is_mobile=!0;document.documentElement.className+=\\' avia_mobile \\'}\\nelse{document.documentElement.className+=\\' avia_desktop \\'};document.documentElement.className+=\\' js_active \\';(function(){var e=[\\'-webkit-\\',\\'-moz-\\',\\'-ms-\\',\\'\\'],n=\\'\\';for(var t in e){if(e[t]+\\'transform\\' in document.documentElement.style){document.documentElement.className+=\\' avia_transform \\';n=e[t]+\\'transform\\'};if(e[t]+\\'perspective\\' in document.documentElement.style)document.documentElement.className+=\\' avia_transform3d \\'};if(typeof document.getElementsByClassName==\\'function\\'&&typeof document.documentElement.getBoundingClientRect==\\'function\\'&&avia_is_mobile==!1){if(n&&window.innerHeight>0){setTimeout(function(){var e=0,o={},a=0,t=document.getElementsByClassName(\\'av-parallax\\'),i=window.pageYOffset||document.documentElement.scrollTop;for(e=0;e<t.length;e++){t[e].style.top=\\'0px\\';o=t[e].getBoundingClientRect();a=Math.ceil((window.innerHeight+i-o.top)*0.3);t[e].style[n]=\\'translate(0px, \\'+a+\\'px)\\';t[e].style.top=\\'auto\\';t[e].className+=\\' enabled-parallax \\'}},50)}}})();</script><style type=\\'text/css\\'>\\n@font-face {font-family: \\'entypo-fontello\\'; font-weight: normal; font-style: normal; font-display: auto;\\nsrc: url(\\'https://www.tanzsportkreis-sankt-augustin.de/wp-content/themes/enfold/config-templatebuilder/avia-template-builder/assets/fonts/entypo-fontello.eot\\');\\nsrc: url(\\'https://www.tanzsportkreis-sankt-augustin.de/wp-content/themes/enfold/config-templatebuilder/avia-template-builder/assets/fonts/entypo-fontello.eot?#iefix\\') format(\\'embedded-opentype\\'), \\nurl(\\'https://www.tanzsportkreis-sankt-augustin.de/wp-content/themes/enfold/config-templatebuilder/avia-template-builder/assets/fonts/entypo-fontello.woff\\') format(\\'woff\\'), \\nurl(\\'https://www.tanzsportkreis-sankt-augustin.de/wp-content/themes/enfold/config-templatebuilder/avia-template-builder/assets/fonts/entypo-fontello.ttf\\') format(\\'truetype\\'), \\nurl(\\'https://www.tanzsportkreis-sankt-augustin.de/wp-content/themes/enfold/config-templatebuilder/avia-template-builder/assets/fonts/entypo-fontello.svg#entypo-fontello\\') format(\\'svg\\');\\n} #top .avia-font-entypo-fontello, body .avia-font-entypo-fontello, html body [data-av_iconfont=\\'entypo-fontello\\']:before{ font-family: \\'entypo-fontello\\'; }\\n</style>\\n\\n<!--\\nDebugging Info for Theme support: \\n\\nTheme: Enfold\\nVersion: 4.5.6\\nInstalled: enfold\\nAviaFramework Version: 5.0\\nAviaBuilder Version: 0.9.5\\naviaElementManager Version: 1.0.1\\n- - - - - - - - - - -\\nChildTheme: Enfold Child\\nChildTheme Version: 1.0\\nChildTheme Installed: enfold\\n\\nML:268435456-PU:91-PLA:14\\nWP:5.8.8\\nCompress: CSS:all theme files - JS:all theme files\\nUpdates: disabled\\nPLAu:13\\n--><style id=\"wpforms-css-vars-root\">\\n\\t\\t\\t\\t:root {\\n\\t\\t\\t\\t\\t--wpforms-field-border-radius: 3px;\\n--wpforms-field-background-color: #ffffff;\\n--wpforms-field-border-color: rgba( 0, 0, 0, 0.25 );\\n--wpforms-field-text-color: rgba( 0, 0, 0, 0.7 );\\n--wpforms-label-color: rgba( 0, 0, 0, 0.85 );\\n--wpforms-label-sublabel-color: rgba( 0, 0, 0, 0.55 );\\n--wpforms-label-error-color: #d63637;\\n--wpforms-button-border-radius: 3px;\\n--wpforms-button-background-color: #066aab;\\n--wpforms-button-text-color: #ffffff;\\n--wpforms-field-size-input-height: 43px;\\n--wpforms-field-size-input-spacing: 15px;\\n--wpforms-field-size-font-size: 16px;\\n--wpforms-field-size-line-height: 19px;\\n--wpforms-field-size-padding-h: 14px;\\n--wpforms-field-size-checkbox-size: 16px;\\n--wpforms-field-size-sublabel-spacing: 5px;\\n--wpforms-field-size-icon-size: 1;\\n--wpforms-label-size-font-size: 16px;\\n--wpforms-label-size-line-height: 19px;\\n--wpforms-label-size-sublabel-font-size: 14px;\\n--wpforms-label-size-sublabel-line-height: 17px;\\n--wpforms-button-size-font-size: 17px;\\n--wpforms-button-size-height: 41px;\\n--wpforms-button-size-padding-h: 15px;\\n--wpforms-button-size-margin-top: 10px;\\n\\n\\t\\t\\t\\t}\\n\\t\\t\\t</style>\\n</head>\\n\\n\\n\\n\\n<body id=\"top\" class=\"home page-template-default page page-id-12 rtl_columns stretched open_sans tribe-no-js\" itemscope=\"itemscope\" itemtype=\"https://schema.org/WebPage\" >\\n\\n\\t\\n\\t<div id=\\'wrap_all\\'>\\n\\n\\t\\r\\n<header id=\\'header\\' class=\\'all_colors header_color light_bg_color  av_header_top av_logo_left av_main_nav_header av_menu_right av_custom av_header_sticky av_header_shrinking_disabled av_header_stretch_disabled av_mobile_menu_tablet av_header_searchicon av_header_unstick_top_disabled av_seperator_big_border av_minimal_header av_minimal_header_shadow av_bottom_nav_disabled \\'  role=\"banner\" itemscope=\"itemscope\" itemtype=\"https://schema.org/WPHeader\" >\\r\\n\\r\\n\\t\\t<div  id=\\'header_main\\' class=\\'container_wrap container_wrap_logo\\'>\\r\\n\\t\\r\\n        <div class=\\'container av-logo-container\\'><div class=\\'inner-container\\'><span class=\\'logo\\'><a href=\\'https://www.tanzsportkreis-sankt-augustin.de/\\'><img height=\\'100\\' width=\\'300\\' src=\\'https://www.tanzsportkreis-sankt-augustin.de/wp-content/uploads/2020/08/Logo_TextWappen_2020_Blocksatz-300x69.png\\' alt=\\'TSK Sankt Augustin e.V.\\' /></a></span><nav class=\\'main_menu\\' data-selectname=\\'Seite auswählen\\'  role=\"navigation\" itemscope=\"itemscope\" itemtype=\"https://schema.org/SiteNavigationElement\" ><div class=\"avia-menu av-main-nav-wrap\"><ul id=\"avia-menu\" class=\"menu av-main-nav\"><li id=\"menu-item-451\" class=\"menu-item menu-item-type-post_type menu-item-object-page menu-item-home current-menu-item page_item page-item-12 current_page_item menu-item-top-level menu-item-top-level-1\"><a href=\"https://www.tanzsportkreis-sankt-augustin.de/\" itemprop=\"url\"><span class=\"avia-bullet\"></span><span class=\"avia-menu-text\">Home</span><span class=\"avia-menu-fx\"><span class=\"avia-arrow-wrap\"><span class=\"avia-arrow\"></span></span></span></a></li>\\n<li id=\"menu-item-1623\" class=\"menu-item menu-item-type-post_type menu-item-object-page menu-item-top-level menu-item-top-level-2\"><a href=\"https://www.tanzsportkreis-sankt-augustin.de/aktuelles/\" itemprop=\"url\"><span class=\"avia-bullet\"></span><span class=\"avia-menu-text\">Aktuelles</span><span class=\"avia-menu-fx\"><span class=\"avia-arrow-wrap\"><span class=\"avia-arrow\"></span></span></span></a></li>\\n<li id=\"menu-item-1664\" class=\"menu-item menu-item-type-post_type menu-item-object-page menu-item-has-children menu-item-top-level menu-item-top-level-3\"><a href=\"https://www.tanzsportkreis-sankt-augustin.de/unser-club/\" itemprop=\"url\"><span class=\"avia-bullet\"></span><span class=\"avia-menu-text\">Unser Club</span><span class=\"avia-menu-fx\"><span class=\"avia-arrow-wrap\"><span class=\"avia-arrow\"></span></span></span></a>\\n\\n\\n<ul class=\"sub-menu\">\\n\\t<li id=\"menu-item-481\" class=\"menu-item menu-item-type-post_type menu-item-object-page\"><a href=\"https://www.tanzsportkreis-sankt-augustin.de/unser-club/vorstand/\" itemprop=\"url\"><span class=\"avia-bullet\"></span><span class=\"avia-menu-text\">Vorstand</span></a></li>\\n\\t<li id=\"menu-item-458\" class=\"menu-item menu-item-type-post_type menu-item-object-page\"><a href=\"https://www.tanzsportkreis-sankt-augustin.de/unser-club/trainer/\" itemprop=\"url\"><span class=\"avia-bullet\"></span><span class=\"avia-menu-text\">Trainer</span></a></li>\\n\\t<li id=\"menu-item-448\" class=\"menu-item menu-item-type-post_type menu-item-object-page\"><a href=\"https://www.tanzsportkreis-sankt-augustin.de/unser-club/turnierpaare/\" itemprop=\"url\"><span class=\"avia-bullet\"></span><span class=\"avia-menu-text\">Turnierpaare</span></a></li>\\n\\t<li id=\"menu-item-483\" class=\"menu-item menu-item-type-post_type menu-item-object-page\"><a href=\"https://www.tanzsportkreis-sankt-augustin.de/unser-club/bildergalerie/\" itemprop=\"url\"><span class=\"avia-bullet\"></span><span class=\"avia-menu-text\">Impressionen</span></a></li>\\n\\t<li id=\"menu-item-2243\" class=\"menu-item menu-item-type-post_type menu-item-object-page\"><a href=\"https://www.tanzsportkreis-sankt-augustin.de/unser-club/historie/\" itemprop=\"url\"><span class=\"avia-bullet\"></span><span class=\"avia-menu-text\">Historie</span></a></li>\\n\\t<li id=\"menu-item-683\" class=\"menu-item menu-item-type-post_type menu-item-object-page\"><a href=\"https://www.tanzsportkreis-sankt-augustin.de/unser-club/downloads/\" itemprop=\"url\"><span class=\"avia-bullet\"></span><span class=\"avia-menu-text\">Downloads</span></a></li>\\n</ul>\\n</li>\\n<li id=\"menu-item-1648\" class=\"menu-item menu-item-type-post_type menu-item-object-page menu-item-has-children menu-item-top-level menu-item-top-level-4\"><a href=\"https://www.tanzsportkreis-sankt-augustin.de/tanzen-im-tsk/\" itemprop=\"url\"><span class=\"avia-bullet\"></span><span class=\"avia-menu-text\">Tanzen im TSK</span><span class=\"avia-menu-fx\"><span class=\"avia-arrow-wrap\"><span class=\"avia-arrow\"></span></span></span></a>\\n\\n\\n<ul class=\"sub-menu\">\\n\\t<li id=\"menu-item-1630\" class=\"menu-item menu-item-type-post_type menu-item-object-page\"><a href=\"https://www.tanzsportkreis-sankt-augustin.de/tanzen-im-tsk/leistungssport/\" itemprop=\"url\"><span class=\"avia-bullet\"></span><span class=\"avia-menu-text\">Leistungssport</span></a></li>\\n\\t<li id=\"menu-item-1629\" class=\"menu-item menu-item-type-post_type menu-item-object-page\"><a href=\"https://www.tanzsportkreis-sankt-augustin.de/tanzen-im-tsk/breitensport/\" itemprop=\"url\"><span class=\"avia-bullet\"></span><span class=\"avia-menu-text\">Breitensport</span></a></li>\\n\\t<li id=\"menu-item-1628\" class=\"menu-item menu-item-type-post_type menu-item-object-page\"><a href=\"https://www.tanzsportkreis-sankt-augustin.de/tanzen-im-tsk/gesellschaftstanzen/\" itemprop=\"url\"><span class=\"avia-bullet\"></span><span class=\"avia-menu-text\">Gesellschaftstanzen</span></a></li>\\n\\t<li id=\"menu-item-1627\" class=\"menu-item menu-item-type-post_type menu-item-object-page\"><a href=\"https://www.tanzsportkreis-sankt-augustin.de/tanzen-im-tsk/linedance/\" itemprop=\"url\"><span class=\"avia-bullet\"></span><span class=\"avia-menu-text\">Line Dance</span></a></li>\\n\\t<li id=\"menu-item-2109\" class=\"menu-item menu-item-type-post_type menu-item-object-page\"><a href=\"https://www.tanzsportkreis-sankt-augustin.de/tanzen-im-tsk/kreativer-kindertanz/\" itemprop=\"url\"><span class=\"avia-bullet\"></span><span class=\"avia-menu-text\">Kreativer Kindertanz</span></a></li>\\n\\t<li id=\"menu-item-1626\" class=\"menu-item menu-item-type-post_type menu-item-object-page\"><a href=\"https://www.tanzsportkreis-sankt-augustin.de/tanzen-im-tsk/kids-teens/\" itemprop=\"url\"><span class=\"avia-bullet\"></span><span class=\"avia-menu-text\">Kids &#038; Teens</span></a></li>\\n\\t<li id=\"menu-item-1729\" class=\"menu-item menu-item-type-post_type menu-item-object-page\"><a href=\"https://www.tanzsportkreis-sankt-augustin.de/tanzen-im-tsk/tai-chi/\" itemprop=\"url\"><span class=\"avia-bullet\"></span><span class=\"avia-menu-text\">Tai Chi</span></a></li>\\n\\t<li id=\"menu-item-1728\" class=\"menu-item menu-item-type-post_type menu-item-object-page\"><a href=\"https://www.tanzsportkreis-sankt-augustin.de/tanzen-im-tsk/flamenco/\" itemprop=\"url\"><span class=\"avia-bullet\"></span><span class=\"avia-menu-text\">Flamenco</span></a></li>\\n\\t<li id=\"menu-item-1727\" class=\"menu-item menu-item-type-post_type menu-item-object-page\"><a href=\"https://www.tanzsportkreis-sankt-augustin.de/tanzen-im-tsk/stepptanz/\" itemprop=\"url\"><span class=\"avia-bullet\"></span><span class=\"avia-menu-text\">Stepptanz</span></a></li>\\n\\t<li id=\"menu-item-2077\" class=\"menu-item menu-item-type-post_type menu-item-object-page\"><a href=\"https://www.tanzsportkreis-sankt-augustin.de/tanzen-im-tsk/tanzen-fuer-parkinsonerkrankte/\" itemprop=\"url\"><span class=\"avia-bullet\"></span><span class=\"avia-menu-text\">Tanzen für Parkinsonerkrankte</span></a></li>\\n\\t<li id=\"menu-item-1972\" class=\"menu-item menu-item-type-post_type menu-item-object-page\"><a href=\"https://www.tanzsportkreis-sankt-augustin.de/tanzen-im-tsk/tanzpartner-suche/\" itemprop=\"url\"><span class=\"avia-bullet\"></span><span class=\"avia-menu-text\">Tanzpartner-Suche</span></a></li>\\n\\t<li id=\"menu-item-1967\" class=\"menu-item menu-item-type-post_type menu-item-object-page\"><a href=\"https://www.tanzsportkreis-sankt-augustin.de/tanzen-im-tsk/mitgliederbereich/\" itemprop=\"url\"><span class=\"avia-bullet\"></span><span class=\"avia-menu-text\">MITGLIEDERBEREICH</span></a></li>\\n</ul>\\n</li>\\n<li id=\"menu-item-2943\" class=\"menu-item menu-item-type-post_type menu-item-object-page menu-item-has-children menu-item-top-level menu-item-top-level-5\"><a href=\"https://www.tanzsportkreis-sankt-augustin.de/veranstaltungen/\" itemprop=\"url\"><span class=\"avia-bullet\"></span><span class=\"avia-menu-text\">Veranstaltungen</span><span class=\"avia-menu-fx\"><span class=\"avia-arrow-wrap\"><span class=\"avia-arrow\"></span></span></span></a>\\n\\n\\n<ul class=\"sub-menu\">\\n\\t<li id=\"menu-item-3838\" class=\"menu-item menu-item-type-post_type menu-item-object-page\"><a href=\"https://www.tanzsportkreis-sankt-augustin.de/veranstaltungen/ttt-tsk-tanz-treff/\" itemprop=\"url\"><span class=\"avia-bullet\"></span><span class=\"avia-menu-text\">TTT – TSK Tanz Treff</span></a></li>\\n\\t<li id=\"menu-item-5383\" class=\"menu-item menu-item-type-post_type menu-item-object-page\"><a href=\"https://www.tanzsportkreis-sankt-augustin.de/veranstaltungen/std-er-montags/\" itemprop=\"url\"><span class=\"avia-bullet\"></span><span class=\"avia-menu-text\">Standard Endrunden am Montag</span></a></li>\\n\\t<li id=\"menu-item-3640\" class=\"menu-item menu-item-type-post_type menu-item-object-page\"><a href=\"https://www.tanzsportkreis-sankt-augustin.de/veranstaltungen/endrunden/\" itemprop=\"url\"><span class=\"avia-bullet\"></span><span class=\"avia-menu-text\">TCT – TSK Competition Training</span></a></li>\\n\\t<li id=\"menu-item-4035\" class=\"menu-item menu-item-type-post_type menu-item-object-page\"><a href=\"https://www.tanzsportkreis-sankt-augustin.de/veranstaltungen/competition/\" itemprop=\"url\"><span class=\"avia-bullet\"></span><span class=\"avia-menu-text\">TURNIER IM TSK</span></a></li>\\n\\t<li id=\"menu-item-1624\" class=\"menu-item menu-item-type-post_type menu-item-object-page\"><a href=\"https://www.tanzsportkreis-sankt-augustin.de/veranstaltungen/workshops/\" itemprop=\"url\"><span class=\"avia-bullet\"></span><span class=\"avia-menu-text\">Workshops</span></a></li>\\n\\t<li id=\"menu-item-824\" class=\"menu-item menu-item-type-post_type menu-item-object-page\"><a href=\"https://www.tanzsportkreis-sankt-augustin.de/veranstaltungen/bildergalerie/\" itemprop=\"url\"><span class=\"avia-bullet\"></span><span class=\"avia-menu-text\">Bildergalerie</span></a></li>\\n\\t<li id=\"menu-item-482\" class=\"menu-item menu-item-type-post_type menu-item-object-page\"><a href=\"https://www.tanzsportkreis-sankt-augustin.de/veranstaltungen/helferstunden/\" itemprop=\"url\"><span class=\"avia-bullet\"></span><span class=\"avia-menu-text\">Helferstunden</span></a></li>\\n\\t<li id=\"menu-item-815\" class=\"menu-item menu-item-type-post_type menu-item-object-page\"><a href=\"https://www.tanzsportkreis-sankt-augustin.de/veranstaltungen/turnierergebnisse/\" itemprop=\"url\"><span class=\"avia-bullet\"></span><span class=\"avia-menu-text\">Turnierergebnisse</span></a></li>\\n</ul>\\n</li>\\n<li id=\"menu-item-1683\" class=\"menu-item menu-item-type-post_type menu-item-object-page menu-item-mega-parent  menu-item-top-level menu-item-top-level-6\"><a href=\"https://www.tanzsportkreis-sankt-augustin.de/hallenbelegung/\" itemprop=\"url\"><span class=\"avia-bullet\"></span><span class=\"avia-menu-text\">Hallenbelegung</span><span class=\"avia-menu-fx\"><span class=\"avia-arrow-wrap\"><span class=\"avia-arrow\"></span></span></span></a></li>\\n<li id=\"menu-item-452\" class=\"menu-item menu-item-type-post_type menu-item-object-page menu-item-has-children menu-item-top-level menu-item-top-level-7\"><a href=\"https://www.tanzsportkreis-sankt-augustin.de/kontakt/\" itemprop=\"url\"><span class=\"avia-bullet\"></span><span class=\"avia-menu-text\">Kontakt</span><span class=\"avia-menu-fx\"><span class=\"avia-arrow-wrap\"><span class=\"avia-arrow\"></span></span></span></a>\\n\\n\\n<ul class=\"sub-menu\">\\n\\t<li id=\"menu-item-2048\" class=\"menu-item menu-item-type-post_type menu-item-object-page\"><a href=\"https://www.tanzsportkreis-sankt-augustin.de/kontakt/impressum-2-0/\" itemprop=\"url\"><span class=\"avia-bullet\"></span><span class=\"avia-menu-text\">Impressum</span></a></li>\\n\\t<li id=\"menu-item-488\" class=\"menu-item menu-item-type-post_type menu-item-object-page\"><a href=\"https://www.tanzsportkreis-sankt-augustin.de/kontakt/datenschutz/\" itemprop=\"url\"><span class=\"avia-bullet\"></span><span class=\"avia-menu-text\">Datenschutz</span></a></li>\\n</ul>\\n</li>\\n<li id=\"menu-item-search\" class=\"noMobile menu-item menu-item-search-dropdown menu-item-avia-special\">\\n\\t\\t\\t\\t\\t\\t\\t<a href=\"?s=\" rel=\"nofollow\" data-avia-search-tooltip=\"\\n\\n&lt;form action=&quot;https://www.tanzsportkreis-sankt-augustin.de/&quot; id=&quot;searchform&quot; method=&quot;get&quot; class=&quot;&quot;&gt;\\n\\t&lt;div&gt;\\n\\t\\t&lt;input type=&quot;submit&quot; value=&quot;\\ue803&quot; id=&quot;searchsubmit&quot; class=&quot;button avia-font-entypo-fontello&quot; /&gt;\\n\\t\\t&lt;input type=&quot;text&quot; id=&quot;s&quot; name=&quot;s&quot; value=&quot;&quot; placeholder=\\'Suche\\' /&gt;\\n\\t\\t\\t&lt;/div&gt;\\n&lt;/form&gt;\" aria-hidden=\\'true\\' data-av_icon=\\'\\ue803\\' data-av_iconfont=\\'entypo-fontello\\'><span class=\"avia_hidden_link_text\">Suche</span></a>\\n\\t        \\t\\t   </li><li class=\"av-burger-menu-main menu-item-avia-special av-small-burger-icon\">\\n\\t        \\t\\t\\t<a href=\"#\">\\n\\t\\t\\t\\t\\t\\t\\t<span class=\"av-hamburger av-hamburger--spin av-js-hamburger\">\\n\\t\\t\\t\\t\\t        <span class=\"av-hamburger-box\">\\n\\t\\t\\t\\t\\t\\t          <span class=\"av-hamburger-inner\"></span>\\n\\t\\t\\t\\t\\t\\t          <strong>Menü</strong>\\n\\t\\t\\t\\t\\t        </span>\\n\\t\\t\\t\\t\\t\\t\\t</span>\\n\\t\\t\\t\\t\\t\\t</a>\\n\\t        \\t\\t   </li></ul></div></nav></div> </div> \\r\\n\\t\\t<!-- end container_wrap-->\\r\\n\\t\\t</div>\\r\\n\\t\\t<div class=\\'header_bg\\'></div>\\r\\n\\r\\n<!-- end header -->\\r\\n</header>\\r\\n\\t\\t\\n\\t<div id=\\'main\\' class=\\'all_colors\\' data-scroll-offset=\\'75\\'>\\n\\n\\t<div id=\\'full_slider_1\\' class=\\'avia-fullwidth-slider main_color avia-shadow  av-mini-hide  avia-builder-el-0  el_before_av_section  avia-builder-el-first  container_wrap fullsize\\' style=\\' \\'  ><div  data-size=\\'featured\\'  data-lightbox_size=\\'large\\'  data-animation=\\'slide\\'  data-conditional_play=\\'\\'  data-ids=\\'2200,4676,2318,1319,1338,492,1357,2669,880,6043\\'  data-video_counter=\\'0\\'  data-autoplay=\\'true\\'  data-bg_slider=\\'false\\'  data-slide_height=\\'\\'  data-handle=\\'av_slideshow_full\\'  data-interval=\\'8\\'  data-class=\\' \\'  data-css_id=\\'\\'  data-scroll_down=\\'\\'  data-control_layout=\\'av-control-minimal\\'  data-custom_markup=\\'\\'  data-perma_caption=\\'aviaTBperma_caption\\'  data-autoplay_stopper=\\'\\'  data-image_attachment=\\'\\'  data-min_height=\\'0px\\'  data-src=\\'\\'  data-position=\\'top left\\'  data-repeat=\\'no-repeat\\'  data-attach=\\'scroll\\'  data-stretch=\\'\\'  data-default-height=\\'28.666666666667\\'  class=\\'avia-slideshow avia-slideshow-1  av-control-minimal av-default-height-applied avia-slideshow-featured av_slideshow_full   avia-slide-slider \\'  itemprop=\"image\" itemscope=\"itemscope\" itemtype=\"https://schema.org/ImageObject\" ><ul class=\\'avia-slideshow-inner \\' style=\\'padding-bottom: 28.666666666667%;\\' ><li  class=\\' slide-1 \\' ><div data-rel=\\'slideshow-1\\' class=\\'avia-slide-wrap \\'   ><img src=\\'https://www.tanzsportkreis-sankt-augustin.de/wp-content/uploads/2020/05/Clubhaus-des-TSK-Sankt-Augustin-e.-V.-1500x430.jpg\\' width=\\'1500\\' height=\\'430\\' title=\\'Clubhaus des TSK Sankt Augustin e. V.\\' alt=\\'\\'  itemprop=\"thumbnailUrl\"   /></div></li><li  class=\\' slide-2 \\' ><div data-rel=\\'slideshow-1\\' class=\\'avia-slide-wrap \\'   ><img src=\\'https://www.tanzsportkreis-sankt-augustin.de/wp-content/uploads/2022/05/2022-04-22-TSK-Linedancer-Freitagsgruppe-1500x430.jpg\\' width=\\'1500\\' height=\\'430\\' title=\\'2022-04-22 - TSK Linedancer - Freitagsgruppe\\' alt=\\'\\'  itemprop=\"thumbnailUrl\"   /></div></li><li  class=\\' slide-3 \\' ><div data-rel=\\'slideshow-1\\' class=\\'avia-slide-wrap \\'   ><img src=\\'https://www.tanzsportkreis-sankt-augustin.de/wp-content/uploads/2020/06/DSC_0619-Zugeschnitten-1500x430.jpg\\' width=\\'1500\\' height=\\'430\\' title=\\'DSC_0619 - Zugeschnitten\\' alt=\\'\\'  itemprop=\"thumbnailUrl\"   /></div></li><li  class=\\' slide-4 \\' ><div data-rel=\\'slideshow-1\\' class=\\'avia-slide-wrap \\'   ><img src=\\'https://www.tanzsportkreis-sankt-augustin.de/wp-content/uploads/2020/04/TSK-Sommerfest-2019-2-1500x430.jpg\\' width=\\'1500\\' height=\\'430\\' title=\\'TSK Sommerfest 2019 (2)\\' alt=\\'\\'  itemprop=\"thumbnailUrl\"   /></div></li><li  class=\\' slide-5 \\' ><div data-rel=\\'slideshow-1\\' class=\\'avia-slide-wrap \\'   ><img src=\\'https://www.tanzsportkreis-sankt-augustin.de/wp-content/uploads/2020/04/TSK-Sommerfest-2019-20-1500x430.jpg\\' width=\\'1500\\' height=\\'430\\' title=\\'TSK Sommerfest 2019 (20)\\' alt=\\'\\'  itemprop=\"thumbnailUrl\"   /></div></li><li  class=\\' slide-6 \\' ><div data-rel=\\'slideshow-1\\' class=\\'avia-slide-wrap \\'   ><img src=\\'https://www.tanzsportkreis-sankt-augustin.de/wp-content/uploads/2019/05/Standard-Füße-blau-1500x430.jpg\\' width=\\'1500\\' height=\\'430\\' title=\\'Standard Füße blau\\' alt=\\'\\'  itemprop=\"thumbnailUrl\"   /><div class=\\'av-section-color-overlay\\' style=\\'opacity: 0.2; background-color: #000000; \\'></div></div></li><li  class=\\' slide-7 \\' ><div data-rel=\\'slideshow-1\\' class=\\'avia-slide-wrap \\'   ><img src=\\'https://www.tanzsportkreis-sankt-augustin.de/wp-content/uploads/2020/04/TSK-Sommerfest-2019-39-1500x430.jpg\\' width=\\'1500\\' height=\\'430\\' title=\\'TSK Sommerfest 2019 (39)\\' alt=\\'\\'  itemprop=\"thumbnailUrl\"   /></div></li><li  class=\\' slide-8 \\' ><div data-rel=\\'slideshow-1\\' class=\\'avia-slide-wrap \\'   ><img src=\\'https://www.tanzsportkreis-sankt-augustin.de/wp-content/uploads/2020/06/2014-12-07-Workshop-Fenn-DSC_0014-1500x430.jpg\\' width=\\'1500\\' height=\\'430\\' title=\\'2014-12-07 Workshop Fenn DSC_0014\\' alt=\\'\\'  itemprop=\"thumbnailUrl\"   /></div></li><li  class=\\' slide-9 \\' ><div data-rel=\\'slideshow-1\\' class=\\'avia-slide-wrap \\'   ><img src=\\'https://www.tanzsportkreis-sankt-augustin.de/wp-content/uploads/2020/03/Gesellschaftstanzen-2-Hut-Tanz-1500x430.jpg\\' width=\\'1500\\' height=\\'430\\' title=\\'Gesellschaftstanzen 2 - Hut-Tanz\\' alt=\\'\\'  itemprop=\"thumbnailUrl\"   /></div></li><li  class=\\' slide-10 \\' ><div data-rel=\\'slideshow-1\\' class=\\'avia-slide-wrap \\'   ><img src=\\'https://www.tanzsportkreis-sankt-augustin.de/wp-content/uploads/2023/09/RS-2023-scaled-e1693563989539-1500x430.jpg\\' width=\\'1500\\' height=\\'430\\' title=\\'RS 2023\\' alt=\\'\\'  itemprop=\"thumbnailUrl\"   /></div></li></ul><div class=\\'avia-slideshow-arrows avia-slideshow-controls\\'><a href=\\'#prev\\' class=\\'prev-slide\\' aria-hidden=\\'true\\' data-av_icon=\\'\\ue87c\\' data-av_iconfont=\\'entypo-fontello\\'>Zurück</a><a href=\\'#next\\' class=\\'next-slide\\' aria-hidden=\\'true\\' data-av_icon=\\'\\ue87d\\' data-av_iconfont=\\'entypo-fontello\\'>Weiter</a></div><div class=\\'avia-slideshow-dots avia-slideshow-controls\\'><a href=\\'#1\\' class=\\'goto-slide active\\' >1</a><a href=\\'#2\\' class=\\'goto-slide \\' >2</a><a href=\\'#3\\' class=\\'goto-slide \\' >3</a><a href=\\'#4\\' class=\\'goto-slide \\' >4</a><a href=\\'#5\\' class=\\'goto-slide \\' >5</a><a href=\\'#6\\' class=\\'goto-slide \\' >6</a><a href=\\'#7\\' class=\\'goto-slide \\' >7</a><a href=\\'#8\\' class=\\'goto-slide \\' >8</a><a href=\\'#9\\' class=\\'goto-slide \\' >9</a><a href=\\'#10\\' class=\\'goto-slide \\' >10</a></div><div class = \"caption_fullwidth av-slideshow-caption caption_bottom caption_bottom_framed caption_framed\"><div class = \"container caption_container\"><div class = \"slideshow_caption\"><div class = \"slideshow_inner_caption\"><div class = \"slideshow_align_caption\"><h2  style=\\'font-size:35px; \\' class=\\'avia-caption-title  \\'  itemprop=\"name\" >TSK Sankt Augustin e.V.</h2></div></div></div></div></div></div></div>\\n<div id=\\'av_section_1\\' class=\\'avia-section main_color avia-section-small avia-no-border-styling avia-bg-style-scroll  avia-builder-el-1  el_after_av_slideshow_full  el_before_av_partner   container_wrap fullsize\\' style=\\' \\'  ><div class=\\'container\\' ><div class=\\'template-page content  av-content-full alpha units\\'><div class=\\'post-entry post-entry-type-page post-entry-12\\'><div class=\\'entry-content-wrapper clearfix\\'>\\n<div class=\"flex_column av_one_third  avia-full-stretch no_margin flex_column_div first  avia-builder-el-2  el_before_av_one_third  avia-builder-el-first  \" style=\\'background:url(https://www.tanzsportkreis-sankt-augustin.de/wp-content/uploads/2019/05/schuhe-sw2-845x321.jpg) center center no-repeat  #ffffff; padding:30px; background-color:#ffffff; border-radius:0px; \\'><div style=\\'padding-bottom:0px; \\' class=\\'av-special-heading av-special-heading-h3  blockquote modern-quote modern-centered  avia-builder-el-3  el_before_av_hr  avia-builder-el-first   \\'><h3 class=\\'av-special-heading-tag \\'  itemprop=\"headline\"  >Heute</h3><div class=\\'special-heading-border\\'><div class=\\'special-heading-inner-border\\' ></div></div></div>\\n<div style=\\' margin-top:20px; margin-bottom:30px;\\'  class=\\'hr hr-custom hr-center hr-icon-yes   avia-builder-el-4  el_after_av_heading  el_before_av_hr \\'><span class=\\'hr-inner   inner-border-av-border-thin\\' style=\\' width:45%;\\' ><span class=\\'hr-inner-style\\'></span></span><span class=\\'av-seperator-icon\\' style=\\'color:#000000;\\' aria-hidden=\\'true\\' data-av_icon=\\'\\ue8bf\\' data-av_iconfont=\\'entypo-fontello\\'></span><span class=\\'hr-inner   inner-border-av-border-thin\\' style=\\' width:45%;\\' ><span class=\\'hr-inner-style\\'></span></span></div>\\n<div style=\\'height:1px\\' class=\\'hr hr-invisible   avia-builder-el-5  el_after_av_hr  el_before_av_codeblock \\'><span class=\\'hr-inner \\' ><span class=\\'hr-inner-style\\'></span></span></div>\\n<section class=\"avia_codeblock_section  avia_code_block_0\"  itemscope=\"itemscope\" itemtype=\"https://schema.org/CreativeWork\" ><div class=\\'avia_codeblock \\'  itemprop=\"text\" ><center > <div class=\"googleCalendar\"><iframe src=\"https://calendar.google.com/calendar/b/1/embed?height=500&wkst=1&bgcolor=%23ffffff&ctz=Europe%2FBerlin\\r\\n&src=dHNrLnNrdC5hdWdAZ21haWwuY29t&color=%23AD1457\\r\\n&src=MzRkZjg0ZjdhZWM4YTJhNTNkZjE3YThhYjQ5NWY5OTdkYzdjZWIxMWNhMTBlN2UxMGE5MTcwYWRhMDFmOGJmNEBncm91cC5jYWxlbmRhci5nb29nbGUuY29t&color=%23009688\\r\\n&src=aWFzM2Z2bGxzcWlvNm9tNm5zZDNqMzI5MmtAZ3JvdXAuY2FsZW5kYXIuZ29vZ2xlLmNvbQ&color=%23D81B60\\r\\n&src=am5ua3U2YWxubGNnbGQzMWJoZTFtczIxNG9AZ3JvdXAuY2FsZW5kYXIuZ29vZ2xlLmNvbQ&color=%23009688\\r\\n&src=NjBxamsxdmM4dDRiY3NxZzBpYmNpdjBjMHNAZ3JvdXAuY2FsZW5kYXIuZ29vZ2xlLmNvbQ&color=%233F51B5\\r\\n&src=ZGF2cHRnN2E5aGRrZHRkaDg3MzM3cGhicHNAZ3JvdXAuY2FsZW5kYXIuZ29vZ2xlLmNvbQ&color=%23EF6C00\\r\\n&src=ZDA2NHQ3YjJiYWM4MXA3ZG1hdGdkdWZlMDhAZ3JvdXAuY2FsZW5kYXIuZ29vZ2xlLmNvbQ&color=%23F6BF26\\r\\n&src=dGs1Y3BrbTNiczEwbWFwcHZ0bjA4ZTlkdGtAZ3JvdXAuY2FsZW5kYXIuZ29vZ2xlLmNvbQ&color=%239E69AF\\r\\n&src=M2IwMDJiNzlmNjZiZWUzODc2YzNjZDcwZWViMzI3NDRlMzcxOThlMGFjMTg3ZWUyNzFhYTJkMDZhZmU2NjU3MUBncm91cC5jYWxlbmRhci5nb29nbGUuY29t&color=%23C0CA33\\r\\n&src=NDI1MzU4ZjYxZTMwNGVlNGQzNWMyMmE3ZGY2ZWVjMjE1ZTc4ZGI2ZDM0YzQ1MzVhMmM1YjA0ZWQyZTc4YTBlN0Bncm91cC5jYWxlbmRhci5nb29nbGUuY29t&color=%23616161\\r\\n&src=bzNjdnJvYjBjNGFrMTB1ZDBubjZsNGFsNXNAZ3JvdXAuY2FsZW5kYXIuZ29vZ2xlLmNvbQ&color=%237CB342\\r\\n&src=anY5cGQxbWNrbHRtOG90dG1sam1mcWFyZDhAZ3JvdXAuY2FsZW5kYXIuZ29vZ2xlLmNvbQ&color=%23039BE5\\r\\n&src=cjR0Nm92MzhoazF0MmRpbXU1ZGdvNTNjcG9AZ3JvdXAuY2FsZW5kYXIuZ29vZ2xlLmNvbQ&color=%23A79B8E\\r\\n&src=ZGUuZ2VybWFuI2hvbGlkYXlAZ3JvdXAudi5jYWxlbmRhci5nb29nbGUuY29t&color=%23616161&\\r\\nmode=AGENDA&showCalendars=1&showTabs=0&showPrint=0&title=Alle%20Veranstaltungen%20im%20TSK&showTitle=0&showTz=0\" style=\"border-width:0\" width=\"400\" height=\"500\" frameborder=\"0\" scrolling=\"no\"></iframe></div> </center></div></section>\\n<section class=\"av_textblock_section \"  itemscope=\"itemscope\" itemtype=\"https://schema.org/CreativeWork\" ><div class=\\'avia_textblock  \\'   itemprop=\"text\" ><p>Um zum ausführlichen Hallenbelegungsplan zu gelangen klicken Sie bitte <a href=\"https://www.tanzsportkreis-sankt-augustin.de/hallenbelegung/\">hier</a>.</p>\\n</div></section>\\n<div style=\\'padding-bottom:10px; \\' class=\\'av-special-heading av-special-heading-h3    avia-builder-el-8  el_after_av_textblock  el_before_av_textblock   \\'><h3 class=\\'av-special-heading-tag \\'  itemprop=\"headline\"  >Nützliche Links für Mitglieder</h3><div class=\\'special-heading-border\\'><div class=\\'special-heading-inner-border\\' ></div></div></div>\\n<section class=\"av_textblock_section \"  itemscope=\"itemscope\" itemtype=\"https://schema.org/CreativeWork\" ><div class=\\'avia_textblock  \\'   itemprop=\"text\" ><p><em>HALLENZUGANG:</em></p>\\n<p><strong>Mitglieder</strong> können, um unabhängig frei zu trainieren, einen Transponder für den <strong>Hallenzugang</strong> beantragen.<br />\\nDies geschieht durch eine Anfrage an <a href=\"mailto:transponder@tsk-sankt-augustin.de\">transponder@tsk-sankt-augustin.de</a>.</p>\\n<p><em>HELFERSTUNDEN:</em></p>\\n<p><strong>Mitglieder</strong> werden gebeten, aktiv bei den geplanten Veranstaltungen mitzuhelfen: <strong><a href=\"https://www.tanzsportkreis-sankt-augustin.de/veranstaltungen/helferstunden/\">Helferstunden-Seite</a></strong></p>\\n</div></section>\\n<section class=\"av_textblock_section \"  itemscope=\"itemscope\" itemtype=\"https://schema.org/CreativeWork\" ><div class=\\'avia_textblock  \\'   itemprop=\"text\" ><p><em>TICKETSHOP:</em></p>\\n</div></section>\\n<div class=\\'avia-image-container  av-styling-    avia-builder-el-11  el_after_av_textblock  avia-builder-el-last  avia-align-center \\'  itemprop=\"image\" itemscope=\"itemscope\" itemtype=\"https://schema.org/ImageObject\"  ><div class=\\'avia-image-container-inner\\'><div class=\\'avia-image-overlay-wrap\\'><a href=\\'https://tanzsportkreis-sankt-augustin.vereinsticket.de/\\' class=\\'avia_image\\'   target=\"_blank\" ><img class=\\'avia_image \\' src=\\'https://www.tanzsportkreis-sankt-augustin.de/wp-content/uploads/2023/11/tsk-ticket.png\\' alt=\\'\\' title=\\'tsk ticket\\'  itemprop=\"thumbnailUrl\"  /></a></div></div></div></div><div class=\"flex_column av_one_third  no_margin flex_column_div   avia-builder-el-12  el_after_av_one_third  el_before_av_one_third  \" style=\\'padding:30px; background-color:#ffffff; border-radius:0px; \\'><div class=\\'avia-button-wrap avia-button-center  avia-builder-el-13  el_before_av_hr  avia-builder-el-first \\'><a href=\\'https://www.tanzsportkreis-sankt-augustin.de/aktuelles/\\' class=\\'avia-button avia-button-fullwidth   avia-icon_select-no avia-color-theme-color \\'  style=\\'color:#ffffff; \\' ><span class=\\'avia_iconbox_title\\' >  Aktuelles</span><span class=\\'avia_button_background avia-button avia-button-fullwidth avia-color-grey\\' ></span></a></div>\\n<div style=\\' margin-top:20px; margin-bottom:30px;\\'  class=\\'hr hr-custom hr-center hr-icon-yes   avia-builder-el-14  el_after_av_button_big  el_before_av_image  avia-builder-el-first \\'><span class=\\'hr-inner   inner-border-av-border-thin\\' style=\\' width:45%;\\' ><span class=\\'hr-inner-style\\'></span></span><span class=\\'av-seperator-icon\\' style=\\'color:#000000;\\' aria-hidden=\\'true\\' data-av_icon=\\'\\ue8bf\\' data-av_iconfont=\\'entypo-fontello\\'></span><span class=\\'hr-inner   inner-border-av-border-thin\\' style=\\' width:45%;\\' ><span class=\\'hr-inner-style\\'></span></span></div>\\n<div class=\\'avia-image-container  av-styling-    avia-builder-el-15  el_after_av_hr  el_before_av_image  avia-align-center \\'  itemprop=\"image\" itemscope=\"itemscope\" itemtype=\"https://schema.org/ImageObject\"  ><div class=\\'avia-image-container-inner\\'><div class=\\'avia-image-overlay-wrap\\'><img class=\\'avia_image\\' src=\\'https://www.tanzsportkreis-sankt-augustin.de/wp-content/uploads/2023/12/Neujahrsgruesse-2023.jpg\\' alt=\\'\\' title=\\'Neujahrsgrüße 2023\\' height=\"720\" width=\"1040\"  itemprop=\"thumbnailUrl\"  /></div></div></div>\\n<div class=\\'avia-image-container  av-styling-    avia-builder-el-16  el_after_av_image  el_before_av_textblock  avia-align-center \\'  itemprop=\"image\" itemscope=\"itemscope\" itemtype=\"https://schema.org/ImageObject\"  ><div class=\\'avia-image-container-inner\\'><div class=\\'avia-image-overlay-wrap\\'><img class=\\'avia_image\\' src=\\'https://www.tanzsportkreis-sankt-augustin.de/wp-content/uploads/2023/07/REACT-EU_LOGO_JPG_RGB.jpg\\' alt=\\'\\' title=\\'REACT-EU_LOGO_JPG_RGB\\' height=\"244\" width=\"1053\"  itemprop=\"thumbnailUrl\"  /></div></div></div>\\n<section class=\"av_textblock_section \"  itemscope=\"itemscope\" itemtype=\"https://schema.org/CreativeWork\" ><div class=\\'avia_textblock  \\'   itemprop=\"text\" ><p>Das Projekt <strong>REACT-EU</strong> ist Teil der Reaktion der Europäischen Union auf die Covid-19-Pandemie und fördert u. a. Digitalisierungsmaßnahmen in Sport-Vereinen.<br />\\nIn diesem Rahmen erhielt der TSK Sankt Augustin eine Förderung für die Anschaffung von neuen Laptops und einem leistungsstarken Drucker zur Verbesserung der Verwaltungsaufgaben des stetig wachsenden Tanzsportclubs.</p>\\n<p>Wir bedanken uns dafür sehr herzlich!</p>\\n</div></section>\\n<div style=\\' margin-top:20px; margin-bottom:30px;\\'  class=\\'hr hr-custom hr-center hr-icon-yes   avia-builder-el-18  el_after_av_textblock  el_before_av_heading \\'><span class=\\'hr-inner   inner-border-av-border-thin\\' style=\\' width:45%;\\' ><span class=\\'hr-inner-style\\'></span></span><span class=\\'av-seperator-icon\\' style=\\'color:#000000;\\' aria-hidden=\\'true\\' data-av_icon=\\'\\ue8bf\\' data-av_iconfont=\\'entypo-fontello\\'></span><span class=\\'hr-inner   inner-border-av-border-thin\\' style=\\' width:45%;\\' ><span class=\\'hr-inner-style\\'></span></span></div>\\n<div style=\\'padding-bottom:0px; \\' class=\\'av-special-heading av-special-heading-h3  blockquote modern-quote modern-centered  avia-builder-el-19  el_after_av_hr  el_before_av_hr   \\'><h3 class=\\'av-special-heading-tag \\'  itemprop=\"headline\"  >Letzte News</h3><div class=\\'special-heading-border\\'><div class=\\'special-heading-inner-border\\' ></div></div></div>\\n<div style=\\'height:25px\\' class=\\'hr hr-invisible   avia-builder-el-20  el_after_av_heading  el_before_av_magazine \\'><span class=\\'hr-inner \\' ><span class=\\'hr-inner-style\\'></span></span></div>\\n<div id=\\'av-magazine-1\\' class=\\'av-magazine   avia-builder-el-21  el_after_av_hr  avia-builder-el-last   \\' ><div class=\\'av-magazine-group sort_all\\'><article class=\\'hentry av-magazine-entry av-magazine-entry-id-6306 av-magazine-format-standard av-magazine-type-post av-magazine-entry-1 av-magazine-entry-small \\'  itemscope=\"itemscope\" itemtype=\"https://schema.org/CreativeWork\" ><div class=\\'av-magazine-thumbnail\\'><a href=\\'https://www.tanzsportkreis-sankt-augustin.de/2023/12/13/adventliche-tanzparty-mit-pokal-turnier-und-show-2/\\' title=\\'Link zu: Zeitplan für Christa-Fenn-Pokal Turniere ist online!\\' class=\\'av-magazine-thumbnail-link \\'><img width=\"80\" height=\"80\" src=\"https://www.tanzsportkreis-sankt-augustin.de/wp-content/uploads/2021/12/2021-12-11-TSK-Turnier-RollUp-80x80.jpeg\" class=\"attachment-thumbnail size-thumbnail wp-post-image\" alt=\"\" loading=\"lazy\" srcset=\"https://www.tanzsportkreis-sankt-augustin.de/wp-content/uploads/2021/12/2021-12-11-TSK-Turnier-RollUp-80x80.jpeg 80w, https://www.tanzsportkreis-sankt-augustin.de/wp-content/uploads/2021/12/2021-12-11-TSK-Turnier-RollUp-300x300.jpeg 300w, https://www.tanzsportkreis-sankt-augustin.de/wp-content/uploads/2021/12/2021-12-11-TSK-Turnier-RollUp-1030x1030.jpeg 1030w, https://www.tanzsportkreis-sankt-augustin.de/wp-content/uploads/2021/12/2021-12-11-TSK-Turnier-RollUp-768x768.jpeg 768w, https://www.tanzsportkreis-sankt-augustin.de/wp-content/uploads/2021/12/2021-12-11-TSK-Turnier-RollUp-36x36.jpeg 36w, https://www.tanzsportkreis-sankt-augustin.de/wp-content/uploads/2021/12/2021-12-11-TSK-Turnier-RollUp-180x180.jpeg 180w, https://www.tanzsportkreis-sankt-augustin.de/wp-content/uploads/2021/12/2021-12-11-TSK-Turnier-RollUp-705x705.jpeg 705w, https://www.tanzsportkreis-sankt-augustin.de/wp-content/uploads/2021/12/2021-12-11-TSK-Turnier-RollUp-120x120.jpeg 120w, https://www.tanzsportkreis-sankt-augustin.de/wp-content/uploads/2021/12/2021-12-11-TSK-Turnier-RollUp-450x450.jpeg 450w, https://www.tanzsportkreis-sankt-augustin.de/wp-content/uploads/2021/12/2021-12-11-TSK-Turnier-RollUp.jpeg 1100w\" sizes=\"(max-width: 80px) 100vw, 80px\" /></a></div><div class=\\'av-magazine-content-wrap\\'><header class=\\'entry-content-header\\'><time class=\\'av-magazine-time updated\\'  itemprop=\"datePublished\" datetime=\"2023-12-13T17:38:34+01:00\" >13. Dezember 2023</time><span class=\\'av-magazine-text-sep text-sep-date\\'>/</span><span class=\"av-magazine-author minor-meta\">von <span class=\"av-magazine-author-link\"  itemprop=\"author\" ><span class=\\'av-magazine-author meta-color vcard author\\'><span class=\\'fn\\'><a href=https://www.tanzsportkreis-sankt-augustin.de/author/anne/ title=\"von Anne Beaumont\" rel=\"author\">Anne Beaumont</a></span></span></span></span><h3 class=\\'av-magazine-title entry-title\\'  itemprop=\"headline\" ><a href=\\'https://www.tanzsportkreis-sankt-augustin.de/2023/12/13/adventliche-tanzparty-mit-pokal-turnier-und-show-2/\\' title=\\'Link zu: Zeitplan für Christa-Fenn-Pokal Turniere ist online!\\'>Zeitplan für Christa-Fenn-Pokal Turniere ist online!</a></h3></header></div><footer class=\\'entry-footer\\'></footer></article><article class=\\'hentry av-magazine-entry av-magazine-entry-id-6290 av-magazine-format-standard av-magazine-type-post av-magazine-entry-2 av-magazine-entry-small \\'  itemscope=\"itemscope\" itemtype=\"https://schema.org/CreativeWork\" ><div class=\\'av-magazine-thumbnail\\'><a href=\\'https://www.tanzsportkreis-sankt-augustin.de/2023/12/04/adventliche-tanzparty-mit-pokal-turnier-und-show/\\' title=\\'Link zu: Adventliche Tanzparty mit Pokal-Turnier und Show\\' class=\\'av-magazine-thumbnail-link \\'><img width=\"80\" height=\"80\" src=\"https://www.tanzsportkreis-sankt-augustin.de/wp-content/uploads/2021/12/2021-12-11-TSK-Turnier-RollUp-80x80.jpeg\" class=\"attachment-thumbnail size-thumbnail wp-post-image\" alt=\"\" loading=\"lazy\" srcset=\"https://www.tanzsportkreis-sankt-augustin.de/wp-content/uploads/2021/12/2021-12-11-TSK-Turnier-RollUp-80x80.jpeg 80w, https://www.tanzsportkreis-sankt-augustin.de/wp-content/uploads/2021/12/2021-12-11-TSK-Turnier-RollUp-300x300.jpeg 300w, https://www.tanzsportkreis-sankt-augustin.de/wp-content/uploads/2021/12/2021-12-11-TSK-Turnier-RollUp-1030x1030.jpeg 1030w, https://www.tanzsportkreis-sankt-augustin.de/wp-content/uploads/2021/12/2021-12-11-TSK-Turnier-RollUp-768x768.jpeg 768w, https://www.tanzsportkreis-sankt-augustin.de/wp-content/uploads/2021/12/2021-12-11-TSK-Turnier-RollUp-36x36.jpeg 36w, https://www.tanzsportkreis-sankt-augustin.de/wp-content/uploads/2021/12/2021-12-11-TSK-Turnier-RollUp-180x180.jpeg 180w, https://www.tanzsportkreis-sankt-augustin.de/wp-content/uploads/2021/12/2021-12-11-TSK-Turnier-RollUp-705x705.jpeg 705w, https://www.tanzsportkreis-sankt-augustin.de/wp-content/uploads/2021/12/2021-12-11-TSK-Turnier-RollUp-120x120.jpeg 120w, https://www.tanzsportkreis-sankt-augustin.de/wp-content/uploads/2021/12/2021-12-11-TSK-Turnier-RollUp-450x450.jpeg 450w, https://www.tanzsportkreis-sankt-augustin.de/wp-content/uploads/2021/12/2021-12-11-TSK-Turnier-RollUp.jpeg 1100w\" sizes=\"(max-width: 80px) 100vw, 80px\" /></a></div><div class=\\'av-magazine-content-wrap\\'><header class=\\'entry-content-header\\'><time class=\\'av-magazine-time updated\\'  itemprop=\"datePublished\" datetime=\"2023-12-04T17:43:48+01:00\" >4. Dezember 2023</time><span class=\\'av-magazine-text-sep text-sep-date\\'>/</span><span class=\"av-magazine-author minor-meta\">von <span class=\"av-magazine-author-link\"  itemprop=\"author\" ><span class=\\'av-magazine-author meta-color vcard author\\'><span class=\\'fn\\'><a href=https://www.tanzsportkreis-sankt-augustin.de/author/anne/ title=\"von Anne Beaumont\" rel=\"author\">Anne Beaumont</a></span></span></span></span><h3 class=\\'av-magazine-title entry-title\\'  itemprop=\"headline\" ><a href=\\'https://www.tanzsportkreis-sankt-augustin.de/2023/12/04/adventliche-tanzparty-mit-pokal-turnier-und-show/\\' title=\\'Link zu: Adventliche Tanzparty mit Pokal-Turnier und Show\\'>Adventliche Tanzparty mit Pokal-Turnier und Show</a></h3></header></div><footer class=\\'entry-footer\\'></footer></article><article class=\\'hentry av-magazine-entry av-magazine-entry-id-6260 av-magazine-format-standard av-magazine-type-post av-magazine-entry-3 av-magazine-entry-small \\'  itemscope=\"itemscope\" itemtype=\"https://schema.org/CreativeWork\" ><div class=\\'av-magazine-thumbnail\\'><a href=\\'https://www.tanzsportkreis-sankt-augustin.de/2023/12/04/tango-argentino-workshop/\\' title=\\'Link zu: Tango Argentino Workshop\\' class=\\'av-magazine-thumbnail-link \\'><img width=\"80\" height=\"80\" src=\"https://www.tanzsportkreis-sankt-augustin.de/wp-content/uploads/2023/12/Puro-Tango-B-80x80.jpg\" class=\"attachment-thumbnail size-thumbnail wp-post-image\" alt=\"\" loading=\"lazy\" srcset=\"https://www.tanzsportkreis-sankt-augustin.de/wp-content/uploads/2023/12/Puro-Tango-B-80x80.jpg 80w, https://www.tanzsportkreis-sankt-augustin.de/wp-content/uploads/2023/12/Puro-Tango-B-36x36.jpg 36w, https://www.tanzsportkreis-sankt-augustin.de/wp-content/uploads/2023/12/Puro-Tango-B-180x180.jpg 180w, https://www.tanzsportkreis-sankt-augustin.de/wp-content/uploads/2023/12/Puro-Tango-B-120x120.jpg 120w, https://www.tanzsportkreis-sankt-augustin.de/wp-content/uploads/2023/12/Puro-Tango-B-450x450.jpg 450w\" sizes=\"(max-width: 80px) 100vw, 80px\" /></a></div><div class=\\'av-magazine-content-wrap\\'><header class=\\'entry-content-header\\'><time class=\\'av-magazine-time updated\\'  itemprop=\"datePublished\" datetime=\"2023-12-04T17:19:03+01:00\" >4. Dezember 2023</time><span class=\\'av-magazine-text-sep text-sep-date\\'>/</span><span class=\"av-magazine-author minor-meta\">von <span class=\"av-magazine-author-link\"  itemprop=\"author\" ><span class=\\'av-magazine-author meta-color vcard author\\'><span class=\\'fn\\'><a href=https://www.tanzsportkreis-sankt-augustin.de/author/anne/ title=\"von Anne Beaumont\" rel=\"author\">Anne Beaumont</a></span></span></span></span><h3 class=\\'av-magazine-title entry-title\\'  itemprop=\"headline\" ><a href=\\'https://www.tanzsportkreis-sankt-augustin.de/2023/12/04/tango-argentino-workshop/\\' title=\\'Link zu: Tango Argentino Workshop\\'>Tango Argentino Workshop</a></h3></header></div><footer class=\\'entry-footer\\'></footer></article><article class=\\'hentry av-magazine-entry av-magazine-entry-id-6236 av-magazine-format-standard av-magazine-type-post av-magazine-entry-4 av-magazine-entry-small \\'  itemscope=\"itemscope\" itemtype=\"https://schema.org/CreativeWork\" ><div class=\\'av-magazine-thumbnail\\'><a href=\\'https://www.tanzsportkreis-sankt-augustin.de/2023/11/22/neu-tsk-ticketshop-auf-vereinsticket-ist-online/\\' title=\\'Link zu: Neu! TSK Ticketshop auf &#8222;Vereinsticket&#8220; ist online\\' class=\\'av-magazine-thumbnail-link \\'><img width=\"80\" height=\"80\" src=\"https://www.tanzsportkreis-sankt-augustin.de/wp-content/uploads/2023/11/2023-Pokale_purple_green-80x80.jpg\" class=\"attachment-thumbnail size-thumbnail wp-post-image\" alt=\"\" loading=\"lazy\" srcset=\"https://www.tanzsportkreis-sankt-augustin.de/wp-content/uploads/2023/11/2023-Pokale_purple_green-80x80.jpg 80w, https://www.tanzsportkreis-sankt-augustin.de/wp-content/uploads/2023/11/2023-Pokale_purple_green-36x36.jpg 36w, https://www.tanzsportkreis-sankt-augustin.de/wp-content/uploads/2023/11/2023-Pokale_purple_green-180x180.jpg 180w, https://www.tanzsportkreis-sankt-augustin.de/wp-content/uploads/2023/11/2023-Pokale_purple_green-120x120.jpg 120w, https://www.tanzsportkreis-sankt-augustin.de/wp-content/uploads/2023/11/2023-Pokale_purple_green-450x450.jpg 450w\" sizes=\"(max-width: 80px) 100vw, 80px\" /></a></div><div class=\\'av-magazine-content-wrap\\'><header class=\\'entry-content-header\\'><time class=\\'av-magazine-time updated\\'  itemprop=\"datePublished\" datetime=\"2023-11-22T18:34:44+01:00\" >22. November 2023</time><span class=\\'av-magazine-text-sep text-sep-date\\'>/</span><span class=\"av-magazine-author minor-meta\">von <span class=\"av-magazine-author-link\"  itemprop=\"author\" ><span class=\\'av-magazine-author meta-color vcard author\\'><span class=\\'fn\\'><a href=https://www.tanzsportkreis-sankt-augustin.de/author/anne/ title=\"von Anne Beaumont\" rel=\"author\">Anne Beaumont</a></span></span></span></span><h3 class=\\'av-magazine-title entry-title\\'  itemprop=\"headline\" ><a href=\\'https://www.tanzsportkreis-sankt-augustin.de/2023/11/22/neu-tsk-ticketshop-auf-vereinsticket-ist-online/\\' title=\\'Link zu: Neu! TSK Ticketshop auf &#8222;Vereinsticket&#8220; ist online\\'>Neu! TSK Ticketshop auf &#8222;Vereinsticket&#8220; ist online</a></h3></header></div><footer class=\\'entry-footer\\'></footer></article><article class=\\'hentry av-magazine-entry av-magazine-entry-id-6208 av-magazine-format-standard av-magazine-type-post av-magazine-entry-5 av-magazine-entry-small \\'  itemscope=\"itemscope\" itemtype=\"https://schema.org/CreativeWork\" ><div class=\\'av-magazine-thumbnail\\'><a href=\\'https://www.tanzsportkreis-sankt-augustin.de/2023/11/03/neustart-fuer-einsteiger-fit-fuer-den-abi-ball/\\' title=\\'Link zu: Neustart für Einsteiger: &#8222;Fit für den Abi-Ball&#8220;\\' class=\\'av-magazine-thumbnail-link \\'><img width=\"80\" height=\"80\" src=\"https://www.tanzsportkreis-sankt-augustin.de/wp-content/uploads/2023/11/2023-Fit-fuer-den-Abiball-80x80.jpg\" class=\"attachment-thumbnail size-thumbnail wp-post-image\" alt=\"\" loading=\"lazy\" srcset=\"https://www.tanzsportkreis-sankt-augustin.de/wp-content/uploads/2023/11/2023-Fit-fuer-den-Abiball-80x80.jpg 80w, https://www.tanzsportkreis-sankt-augustin.de/wp-content/uploads/2023/11/2023-Fit-fuer-den-Abiball-36x36.jpg 36w, https://www.tanzsportkreis-sankt-augustin.de/wp-content/uploads/2023/11/2023-Fit-fuer-den-Abiball-180x180.jpg 180w, https://www.tanzsportkreis-sankt-augustin.de/wp-content/uploads/2023/11/2023-Fit-fuer-den-Abiball-120x120.jpg 120w, https://www.tanzsportkreis-sankt-augustin.de/wp-content/uploads/2023/11/2023-Fit-fuer-den-Abiball-450x450.jpg 450w\" sizes=\"(max-width: 80px) 100vw, 80px\" /></a></div><div class=\\'av-magazine-content-wrap\\'><header class=\\'entry-content-header\\'><time class=\\'av-magazine-time updated\\'  itemprop=\"datePublished\" datetime=\"2023-11-03T13:35:45+01:00\" >3. November 2023</time><span class=\\'av-magazine-text-sep text-sep-date\\'>/</span><span class=\"av-magazine-author minor-meta\">von <span class=\"av-magazine-author-link\"  itemprop=\"author\" ><span class=\\'av-magazine-author meta-color vcard author\\'><span class=\\'fn\\'><a href=https://www.tanzsportkreis-sankt-augustin.de/author/anne/ title=\"von Anne Beaumont\" rel=\"author\">Anne Beaumont</a></span></span></span></span><h3 class=\\'av-magazine-title entry-title\\'  itemprop=\"headline\" ><a href=\\'https://www.tanzsportkreis-sankt-augustin.de/2023/11/03/neustart-fuer-einsteiger-fit-fuer-den-abi-ball/\\' title=\\'Link zu: Neustart für Einsteiger: &#8222;Fit für den Abi-Ball&#8220;\\'>Neustart für Einsteiger: &#8222;Fit für den Abi-Ball&#8220;</a></h3></header></div><footer class=\\'entry-footer\\'></footer></article></div></div></div><div class=\"flex_column av_one_third  avia-full-stretch no_margin flex_column_div   avia-builder-el-22  el_after_av_one_third  avia-builder-el-last  \" style=\\'background:url(https://www.tanzsportkreis-sankt-augustin.de/wp-content/uploads/2019/05/schuhe-sw2-845x321.jpg) center center no-repeat  #ffffff; padding:30px; background-color:#ffffff; border-radius:0px; \\'><div style=\\'padding-bottom:0px; \\' class=\\'av-special-heading av-special-heading-h3  blockquote modern-quote modern-centered  avia-builder-el-23  el_before_av_textblock  avia-builder-el-first   \\'><h3 class=\\'av-special-heading-tag \\'  itemprop=\"headline\"  >Anstehende Veranstaltungen</h3><div class=\\'special-heading-border\\'><div class=\\'special-heading-inner-border\\' ></div></div></div>\\n<section class=\"av_textblock_section \"  itemscope=\"itemscope\" itemtype=\"https://schema.org/CreativeWork\" ><div class=\\'avia_textblock  \\'   itemprop=\"text\" ></div></section>\\n<div style=\\' margin-top:20px; margin-bottom:30px;\\'  class=\\'hr hr-custom hr-center hr-icon-yes   avia-builder-el-25  el_after_av_textblock  el_before_av_upcoming_events \\'><span class=\\'hr-inner   inner-border-av-border-thin\\' style=\\' width:45%;\\' ><span class=\\'hr-inner-style\\'></span></span><span class=\\'av-seperator-icon\\' style=\\'color:#000000;\\' aria-hidden=\\'true\\' data-av_icon=\\'\\ue8bf\\' data-av_iconfont=\\'entypo-fontello\\'></span><span class=\\'hr-inner   inner-border-av-border-thin\\' style=\\' width:45%;\\' ><span class=\\'hr-inner-style\\'></span></span></div>\\n<div class=\\'av-upcoming-events  avia-builder-el-26  el_after_av_hr  el_before_av_hr \\'><a href=\\'https://www.tanzsportkreis-sankt-augustin.de/event/karnevalstanzparty-der-tanzschule-steps-im-tsk/\\' class=\\'av-upcoming-event-entry av-upcoming-event-with-image\\'><img width=\"180\" height=\"180\" src=\"https://www.tanzsportkreis-sankt-augustin.de/wp-content/uploads/2023/12/Plakat-Karneval-24-klein-180x180.jpg\" class=\"av-upcoming-event-image wp-post-image\" alt=\"\" loading=\"lazy\" srcset=\"https://www.tanzsportkreis-sankt-augustin.de/wp-content/uploads/2023/12/Plakat-Karneval-24-klein-180x180.jpg 180w, https://www.tanzsportkreis-sankt-augustin.de/wp-content/uploads/2023/12/Plakat-Karneval-24-klein-80x80.jpg 80w, https://www.tanzsportkreis-sankt-augustin.de/wp-content/uploads/2023/12/Plakat-Karneval-24-klein-36x36.jpg 36w, https://www.tanzsportkreis-sankt-augustin.de/wp-content/uploads/2023/12/Plakat-Karneval-24-klein-120x120.jpg 120w, https://www.tanzsportkreis-sankt-augustin.de/wp-content/uploads/2023/12/Plakat-Karneval-24-klein-450x450.jpg 450w\" sizes=\"(max-width: 180px) 100vw, 180px\" /><span class=\\'av-upcoming-event-data\\'><h4 class=\\'av-upcoming-event-title\\'>Karnevalstanzparty der Tanzschule STEPS im TSK</h4><span class=\\'av-upcoming-event-meta\\'><span class=\\'av-upcoming-event-schedule\\'><span class=\"tribe-event-date-start\">Januar 20 - 20:00</span> - <span class=\"tribe-event-time\">23:59</span></span><span class=\\'av-upcoming-event-venue\\'>Halle 1 &#038; 2</span></span></span></a><a href=\\'https://www.tanzsportkreis-sankt-augustin.de/event/ttt-tsk-tanz-treff-2/\\' class=\\'av-upcoming-event-entry av-upcoming-event-with-image\\'><img width=\"180\" height=\"180\" src=\"https://www.tanzsportkreis-sankt-augustin.de/wp-content/uploads/2023/12/2024-TTT-Termine-1.-Halbj1-180x180.jpg\" class=\"av-upcoming-event-image wp-post-image\" alt=\"\" loading=\"lazy\" srcset=\"https://www.tanzsportkreis-sankt-augustin.de/wp-content/uploads/2023/12/2024-TTT-Termine-1.-Halbj1-180x180.jpg 180w, https://www.tanzsportkreis-sankt-augustin.de/wp-content/uploads/2023/12/2024-TTT-Termine-1.-Halbj1-80x80.jpg 80w, https://www.tanzsportkreis-sankt-augustin.de/wp-content/uploads/2023/12/2024-TTT-Termine-1.-Halbj1-36x36.jpg 36w, https://www.tanzsportkreis-sankt-augustin.de/wp-content/uploads/2023/12/2024-TTT-Termine-1.-Halbj1-120x120.jpg 120w, https://www.tanzsportkreis-sankt-augustin.de/wp-content/uploads/2023/12/2024-TTT-Termine-1.-Halbj1-450x450.jpg 450w\" sizes=\"(max-width: 180px) 100vw, 180px\" /><span class=\\'av-upcoming-event-data\\'><h4 class=\\'av-upcoming-event-title\\'>TTT &#8211; TSK Tanz Treff</h4><span class=\\'av-upcoming-event-meta\\'><span class=\\'av-upcoming-event-schedule\\'><span class=\"tribe-event-date-start\">Januar 27 - 19:00</span> - <span class=\"tribe-event-time\">22:00</span></span><span class=\\'av-upcoming-event-venue\\'>Halle 1</span></span></span></a><a href=\\'https://www.tanzsportkreis-sankt-augustin.de/event/tsk-turnierwochenende-lm-nrw/\\' class=\\'av-upcoming-event-entry av-upcoming-event-with-image\\'><img width=\"180\" height=\"180\" src=\"https://www.tanzsportkreis-sankt-augustin.de/wp-content/uploads/2023/12/24-02-Tanzsport-Turniere-LM-NRW-e1703937914313-180x180.jpg\" class=\"av-upcoming-event-image wp-post-image\" alt=\"\" loading=\"lazy\" srcset=\"https://www.tanzsportkreis-sankt-augustin.de/wp-content/uploads/2023/12/24-02-Tanzsport-Turniere-LM-NRW-e1703937914313-180x180.jpg 180w, https://www.tanzsportkreis-sankt-augustin.de/wp-content/uploads/2023/12/24-02-Tanzsport-Turniere-LM-NRW-e1703937914313-80x80.jpg 80w, https://www.tanzsportkreis-sankt-augustin.de/wp-content/uploads/2023/12/24-02-Tanzsport-Turniere-LM-NRW-e1703937914313-36x36.jpg 36w, https://www.tanzsportkreis-sankt-augustin.de/wp-content/uploads/2023/12/24-02-Tanzsport-Turniere-LM-NRW-e1703937914313-120x120.jpg 120w, https://www.tanzsportkreis-sankt-augustin.de/wp-content/uploads/2023/12/24-02-Tanzsport-Turniere-LM-NRW-e1703937914313-450x450.jpg 450w\" sizes=\"(max-width: 180px) 100vw, 180px\" /><span class=\\'av-upcoming-event-data\\'><h4 class=\\'av-upcoming-event-title\\'>TSK Turniertag LM NRW</h4><span class=\\'av-upcoming-event-meta\\'><span class=\\'av-upcoming-event-schedule\\'><span class=\"tribe-event-date-start\">Februar 18</span></span><span class=\\'av-upcoming-event-venue\\'>Halle 1 &#038; 2</span></span></span></a><a href=\\'https://www.tanzsportkreis-sankt-augustin.de/event/ttt-tsk-tanz-treff-3/\\' class=\\'av-upcoming-event-entry av-upcoming-event-with-image\\'><img width=\"180\" height=\"180\" src=\"https://www.tanzsportkreis-sankt-augustin.de/wp-content/uploads/2023/12/2024-TTT-Termine-1.-Halbj1-180x180.jpg\" class=\"av-upcoming-event-image wp-post-image\" alt=\"\" loading=\"lazy\" srcset=\"https://www.tanzsportkreis-sankt-augustin.de/wp-content/uploads/2023/12/2024-TTT-Termine-1.-Halbj1-180x180.jpg 180w, https://www.tanzsportkreis-sankt-augustin.de/wp-content/uploads/2023/12/2024-TTT-Termine-1.-Halbj1-80x80.jpg 80w, https://www.tanzsportkreis-sankt-augustin.de/wp-content/uploads/2023/12/2024-TTT-Termine-1.-Halbj1-36x36.jpg 36w, https://www.tanzsportkreis-sankt-augustin.de/wp-content/uploads/2023/12/2024-TTT-Termine-1.-Halbj1-120x120.jpg 120w, https://www.tanzsportkreis-sankt-augustin.de/wp-content/uploads/2023/12/2024-TTT-Termine-1.-Halbj1-450x450.jpg 450w\" sizes=\"(max-width: 180px) 100vw, 180px\" /><span class=\\'av-upcoming-event-data\\'><h4 class=\\'av-upcoming-event-title\\'>TTT &#8211; TSK Tanz Treff</h4><span class=\\'av-upcoming-event-meta\\'><span class=\\'av-upcoming-event-schedule\\'><span class=\"tribe-event-date-start\">März 2 - 19:00</span> - <span class=\"tribe-event-time\">22:00</span></span><span class=\\'av-upcoming-event-venue\\'>Halle 1</span></span></span></a></div>\\n<div style=\\' margin-top:20px; margin-bottom:30px;\\'  class=\\'hr hr-custom hr-center hr-icon-yes   avia-builder-el-27  el_after_av_upcoming_events  el_before_av_image \\'><span class=\\'hr-inner   inner-border-av-border-thin\\' style=\\' width:45%;\\' ><span class=\\'hr-inner-style\\'></span></span><span class=\\'av-seperator-icon\\' style=\\'color:#000000;\\' aria-hidden=\\'true\\' data-av_icon=\\'\\ue8bf\\' data-av_iconfont=\\'entypo-fontello\\'></span><span class=\\'hr-inner   inner-border-av-border-thin\\' style=\\' width:45%;\\' ><span class=\\'hr-inner-style\\'></span></span></div>\\n<div class=\\'avia-image-container  av-styling-    avia-builder-el-28  el_after_av_hr  el_before_av_image  avia-align-center \\'  itemprop=\"image\" itemscope=\"itemscope\" itemtype=\"https://schema.org/ImageObject\"  ><div class=\\'avia-image-container-inner\\'><div class=\\'avia-image-overlay-wrap\\'><a href=\\'https://www.tanzsportkreis-sankt-augustin.de/wp-content/uploads/2023/12/2024-Fit-fuer-den-Abiball.jpg\\' class=\\'avia_image\\'  ><img class=\\'avia_image \\' src=\\'https://www.tanzsportkreis-sankt-augustin.de/wp-content/uploads/2023/12/2024-Fit-fuer-den-Abiball.jpg\\' alt=\\'\\' title=\\'2024 Fit für den Abiball\\'  itemprop=\"thumbnailUrl\"  /></a></div></div></div>\\n<div class=\\'avia-image-container  av-styling-    avia-builder-el-29  el_after_av_image  el_before_av_image  avia-align-center \\'  itemprop=\"image\" itemscope=\"itemscope\" itemtype=\"https://schema.org/ImageObject\"  ><div class=\\'avia-image-container-inner\\'><div class=\\'avia-image-overlay-wrap\\'><a href=\\'https://www.tanzsportkreis-sankt-augustin.de/wp-content/uploads/2023/12/2024-TTT-Termine-1.-Halbj.jpg\\' class=\\'avia_image\\'  ><img class=\\'avia_image \\' src=\\'https://www.tanzsportkreis-sankt-augustin.de/wp-content/uploads/2023/12/2024-TTT-Termine-1.-Halbj.jpg\\' alt=\\'\\' title=\\'\\'  itemprop=\"thumbnailUrl\"  /></a></div></div></div>\\n<div class=\\'avia-image-container  av-styling-    avia-builder-el-30  el_after_av_image  el_before_av_image  avia-align-center \\'  itemprop=\"image\" itemscope=\"itemscope\" itemtype=\"https://schema.org/ImageObject\"  ><div class=\\'avia-image-container-inner\\'><div class=\\'avia-image-overlay-wrap\\'><a href=\\'https://www.tanzsportkreis-sankt-augustin.de/wp-content/uploads/2023/11/CFP-2023-FLyer-Seite-1.jpg\\' class=\\'avia_image\\'  ><img class=\\'avia_image \\' src=\\'https://www.tanzsportkreis-sankt-augustin.de/wp-content/uploads/2023/11/CFP-2023-FLyer-Seite-1.jpg\\' alt=\\'\\' title=\\'CFP 2023 FLyer Seite 1\\'  itemprop=\"thumbnailUrl\"  /></a></div></div></div>\\n<div class=\\'avia-image-container  av-styling-    avia-builder-el-31  el_after_av_image  el_before_av_image  avia-align-center \\'  itemprop=\"image\" itemscope=\"itemscope\" itemtype=\"https://schema.org/ImageObject\"  ><div class=\\'avia-image-container-inner\\'><div class=\\'avia-image-overlay-wrap\\'><a href=\\'https://www.tanzsportkreis-sankt-augustin.de/wp-content/uploads/2023/11/2023-Tango-Argentino-Ahmad.jpg\\' class=\\'avia_image\\'  ><img class=\\'avia_image \\' src=\\'https://www.tanzsportkreis-sankt-augustin.de/wp-content/uploads/2023/11/2023-Tango-Argentino-Ahmad.jpg\\' alt=\\'\\' title=\\'2023 Tango Argentino Ahmad\\'  itemprop=\"thumbnailUrl\"  /></a></div></div></div>\\n<div class=\\'avia-image-container  av-styling-    avia-builder-el-32  el_after_av_image  el_before_av_image  avia-align-center \\'  itemprop=\"image\" itemscope=\"itemscope\" itemtype=\"https://schema.org/ImageObject\"  ><div class=\\'avia-image-container-inner\\'><div class=\\'avia-image-overlay-wrap\\'><a href=\\'https://www.tanzsportkreis-sankt-augustin.de/veranstaltungen/endrunden/\\' class=\\'avia_image\\'  ><img class=\\'avia_image \\' src=\\'https://www.tanzsportkreis-sankt-augustin.de/wp-content/uploads/2023/06/2023-TCT.jpg\\' alt=\\'\\' title=\\'2023 TCT\\'  itemprop=\"thumbnailUrl\"  /></a></div></div></div></div></div></div></div><!-- close content main div --></div></div><div id=\\'after_section_1\\' class=\\'main_color av_default_container_wrap container_wrap fullsize\\' style=\\' \\'  ><div class=\\'container\\' ><div class=\\'template-page content  av-content-full alpha units\\'><div class=\\'post-entry post-entry-type-page post-entry-12\\'><div class=\\'entry-content-wrapper clearfix\\'><div  data-autoplay=\\'true\\'  data-interval=\\'3\\'  data-animation=\\'slide\\'  class=\\'avia-logo-element-container  avia-logo-slider avia-content-slider avia-smallarrow-slider avia-content-slider-active noHover avia-content-slider1 avia-content-slider-odd  avia-builder-el-35  el_after_av_section  avia-builder-el-no-sibling  \\' ><div class=\\'avia-smallarrow-slider-heading  no-logo-slider-heading \\'><div class=\\'new-special-heading\\'>&nbsp;</div><div class=\\'avia-slideshow-arrows avia-slideshow-controls\\'><a href=\\'#prev\\' class=\\'prev-slide\\' aria-hidden=\\'true\\' data-av_icon=\\'\\ue87c\\' data-av_iconfont=\\'entypo-fontello\\'>Zurück</a><a href=\\'#next\\' class=\\'next-slide\\' aria-hidden=\\'true\\' data-av_icon=\\'\\ue87d\\' data-av_iconfont=\\'entypo-fontello\\'>Weiter</a></div></div><div class=\\'avia-content-slider-inner\\'><div class=\\'slide-entry-wrap\\' ><div  class=\\'slide-entry flex_column no_margin post-entry slide-entry-overview slide-loop-1 slide-parity-odd  av_one_third first real-thumbnail\\'><a href=\\'https://www.tanzsport.de/de/\\' data-rel=\\'slide-1\\' class=\\'slide-image\\' title=\\'\\'  target=\"_blank\"  ><img width=\"200\" height=\"200\" src=\"https://www.tanzsportkreis-sankt-augustin.de/wp-content/uploads/2020/04/DTV-LogoQuadrat-200x200.png\" class=\"attachment-no scaling size-no scaling\" alt=\"\" loading=\"lazy\" srcset=\"https://www.tanzsportkreis-sankt-augustin.de/wp-content/uploads/2020/04/DTV-LogoQuadrat-200x200.png 200w, https://www.tanzsportkreis-sankt-augustin.de/wp-content/uploads/2020/04/DTV-LogoQuadrat-200x200-80x80.png 80w, https://www.tanzsportkreis-sankt-augustin.de/wp-content/uploads/2020/04/DTV-LogoQuadrat-200x200-36x36.png 36w, https://www.tanzsportkreis-sankt-augustin.de/wp-content/uploads/2020/04/DTV-LogoQuadrat-200x200-180x180.png 180w, https://www.tanzsportkreis-sankt-augustin.de/wp-content/uploads/2020/04/DTV-LogoQuadrat-200x200-120x120.png 120w\" sizes=\"(max-width: 200px) 100vw, 200px\" /></a></div><div  class=\\'slide-entry flex_column no_margin post-entry slide-entry-overview slide-loop-2 slide-parity-even  av_one_third  real-thumbnail\\'><a href=\\'https://tnw.de/\\' data-rel=\\'slide-1\\' class=\\'slide-image\\' title=\\'\\'  target=\"_blank\"  ><img width=\"200\" height=\"200\" src=\"https://www.tanzsportkreis-sankt-augustin.de/wp-content/uploads/2020/04/TNW-LogoQuadrat-200x200.png\" class=\"attachment-no scaling size-no scaling\" alt=\"\" loading=\"lazy\" srcset=\"https://www.tanzsportkreis-sankt-augustin.de/wp-content/uploads/2020/04/TNW-LogoQuadrat-200x200.png 200w, https://www.tanzsportkreis-sankt-augustin.de/wp-content/uploads/2020/04/TNW-LogoQuadrat-200x200-80x80.png 80w, https://www.tanzsportkreis-sankt-augustin.de/wp-content/uploads/2020/04/TNW-LogoQuadrat-200x200-36x36.png 36w, https://www.tanzsportkreis-sankt-augustin.de/wp-content/uploads/2020/04/TNW-LogoQuadrat-200x200-180x180.png 180w, https://www.tanzsportkreis-sankt-augustin.de/wp-content/uploads/2020/04/TNW-LogoQuadrat-200x200-120x120.png 120w\" sizes=\"(max-width: 200px) 100vw, 200px\" /></a></div><div  class=\\'slide-entry flex_column no_margin post-entry slide-entry-overview slide-loop-3 slide-parity-odd  av_one_third  real-thumbnail\\'><a href=\\'http://www.worlddancesport.org/WDSF\\' data-rel=\\'slide-1\\' class=\\'slide-image\\' title=\\'\\'  target=\"_blank\"  ><img width=\"200\" height=\"200\" src=\"https://www.tanzsportkreis-sankt-augustin.de/wp-content/uploads/2020/04/WDSF-LogoQuadrat-200x200.png\" class=\"attachment-no scaling size-no scaling\" alt=\"\" loading=\"lazy\" srcset=\"https://www.tanzsportkreis-sankt-augustin.de/wp-content/uploads/2020/04/WDSF-LogoQuadrat-200x200.png 200w, https://www.tanzsportkreis-sankt-augustin.de/wp-content/uploads/2020/04/WDSF-LogoQuadrat-200x200-80x80.png 80w, https://www.tanzsportkreis-sankt-augustin.de/wp-content/uploads/2020/04/WDSF-LogoQuadrat-200x200-36x36.png 36w, https://www.tanzsportkreis-sankt-augustin.de/wp-content/uploads/2020/04/WDSF-LogoQuadrat-200x200-180x180.png 180w, https://www.tanzsportkreis-sankt-augustin.de/wp-content/uploads/2020/04/WDSF-LogoQuadrat-200x200-120x120.png 120w\" sizes=\"(max-width: 200px) 100vw, 200px\" /></a></div></div><div class=\\'slide-entry-wrap\\' ><div  class=\\'slide-entry flex_column no_margin post-entry slide-entry-overview slide-loop-4 slide-parity-odd  av_one_third first real-thumbnail\\'><a href=\\'https://www.taf-germany.de/taf2019/\\' data-rel=\\'slide-1\\' class=\\'slide-image\\' title=\\'\\'  target=\"_blank\"  ><img width=\"200\" height=\"200\" src=\"https://www.tanzsportkreis-sankt-augustin.de/wp-content/uploads/2020/04/TAF-LogoQuadrat-200x200.png\" class=\"attachment-no scaling size-no scaling\" alt=\"\" loading=\"lazy\" srcset=\"https://www.tanzsportkreis-sankt-augustin.de/wp-content/uploads/2020/04/TAF-LogoQuadrat-200x200.png 200w, https://www.tanzsportkreis-sankt-augustin.de/wp-content/uploads/2020/04/TAF-LogoQuadrat-200x200-80x80.png 80w, https://www.tanzsportkreis-sankt-augustin.de/wp-content/uploads/2020/04/TAF-LogoQuadrat-200x200-36x36.png 36w, https://www.tanzsportkreis-sankt-augustin.de/wp-content/uploads/2020/04/TAF-LogoQuadrat-200x200-180x180.png 180w, https://www.tanzsportkreis-sankt-augustin.de/wp-content/uploads/2020/04/TAF-LogoQuadrat-200x200-120x120.png 120w\" sizes=\"(max-width: 200px) 100vw, 200px\" /></a></div><div  class=\\'slide-entry flex_column no_margin post-entry slide-entry-overview slide-loop-5 slide-parity-even  av_one_third  real-thumbnail\\'><a href=\\'https://www.bfcw.com/home.html\\' data-rel=\\'slide-1\\' class=\\'slide-image\\' title=\\'\\'  target=\"_blank\"  ><img width=\"200\" height=\"200\" src=\"https://www.tanzsportkreis-sankt-augustin.de/wp-content/uploads/2020/04/BFCW-LogoQuadrat-200x200.png\" class=\"attachment-no scaling size-no scaling\" alt=\"\" loading=\"lazy\" srcset=\"https://www.tanzsportkreis-sankt-augustin.de/wp-content/uploads/2020/04/BFCW-LogoQuadrat-200x200.png 200w, https://www.tanzsportkreis-sankt-augustin.de/wp-content/uploads/2020/04/BFCW-LogoQuadrat-200x200-80x80.png 80w, https://www.tanzsportkreis-sankt-augustin.de/wp-content/uploads/2020/04/BFCW-LogoQuadrat-200x200-36x36.png 36w, https://www.tanzsportkreis-sankt-augustin.de/wp-content/uploads/2020/04/BFCW-LogoQuadrat-200x200-180x180.png 180w, https://www.tanzsportkreis-sankt-augustin.de/wp-content/uploads/2020/04/BFCW-LogoQuadrat-200x200-120x120.png 120w\" sizes=\"(max-width: 200px) 100vw, 200px\" /></a></div><div  class=\\'slide-entry flex_column no_margin post-entry slide-entry-overview slide-loop-6 slide-parity-odd  post-entry-last  av_one_third  real-thumbnail\\'><a href=\\'https://www.ssv-sanktaugustin.de/\\' data-rel=\\'slide-1\\' class=\\'slide-image\\' title=\\'\\'  target=\"_blank\"  ><img width=\"200\" height=\"200\" src=\"https://www.tanzsportkreis-sankt-augustin.de/wp-content/uploads/2020/04/SSV-LogoQuadrat-200x200.png\" class=\"attachment-no scaling size-no scaling\" alt=\"\" loading=\"lazy\" srcset=\"https://www.tanzsportkreis-sankt-augustin.de/wp-content/uploads/2020/04/SSV-LogoQuadrat-200x200.png 200w, https://www.tanzsportkreis-sankt-augustin.de/wp-content/uploads/2020/04/SSV-LogoQuadrat-200x200-80x80.png 80w, https://www.tanzsportkreis-sankt-augustin.de/wp-content/uploads/2020/04/SSV-LogoQuadrat-200x200-36x36.png 36w, https://www.tanzsportkreis-sankt-augustin.de/wp-content/uploads/2020/04/SSV-LogoQuadrat-200x200-180x180.png 180w, https://www.tanzsportkreis-sankt-augustin.de/wp-content/uploads/2020/04/SSV-LogoQuadrat-200x200-120x120.png 120w\" sizes=\"(max-width: 200px) 100vw, 200px\" /></a></div></div></div></div></p>\\n</div></div></div><!-- close content main div --> <!-- section close by builder template -->\\t\\t</div><!--end builder template--></div><!-- close default .container_wrap element -->\\t\\t\\t\\t\\t\\t<div class=\\'container_wrap footer_color\\' id=\\'footer\\'>\\n\\n\\t\\t\\t\\t\\t<div class=\\'container\\'>\\n\\n\\t\\t\\t\\t\\t\\t<div class=\\'flex_column av_one_third  first el_before_av_one_third\\'><section id=\"black-studio-tinymce-2\" class=\"widget clearfix widget_black_studio_tinymce\"><h3 class=\"widgettitle\">Tanzsportkreis Sankt Augustin e.V.</h3><div class=\"textwidget\"><p>Am Kreuzeck 2b<br />\\n53757 Sankt Augustin</p>\\n<p>Telefon: <a href=\"tel:00491705958315\">+49 170 59 58 315</a><br />\\nE-Mail: <a href=\"mailto:info@tsk-sankt-augustin.de\">info@tsk-sankt-augustin.de</a></p>\\n<p>Bankverbindung:<br />\\nIBAN: DE84 3705 0299 0025 0028 82<br />\\nBIC: COKSDE33XXX</p>\\n<p><a href=\"http://s654605630.online.de/kontakt/datenschutz/\"><strong>DATENSCHUTZERKLÄRUNG</strong></a></p>\\n</div><span class=\"seperator extralight-border\"></span></section></div><div class=\\'flex_column av_one_third  el_after_av_one_third  el_before_av_one_third \\'><section id=\"black-studio-tinymce-3\" class=\"widget clearfix widget_black_studio_tinymce\"><h3 class=\"widgettitle\">IMPRESSUM</h3><div class=\"textwidget\"><div class=\"n module-type-text diyfeLiveArea \">\\n<p>Vertretungsberechtigter Vorstand §26 BGB:</p>\\n<p>Anne-Gabriele Beaumont\\xa0 (1. Vorsitzende)<br />\\nKonrad Popiehn (2. Vorsitzender)</p></div>\\n<div class=\"n module-type-text diyfeLiveArea \">\\n<p>Vereinsregister:<br />\\nAmtsgericht Siegburg Nr. 920<br />\\nSteuer-Nr.: 222/5748/0155</p></div>\\n</div><span class=\"seperator extralight-border\"></span></section></div><div class=\\'flex_column av_one_third  el_after_av_one_third  el_before_av_one_third \\'><section id=\"black-studio-tinymce-4\" class=\"widget clearfix widget_black_studio_tinymce\"><h3 class=\"widgettitle\">Inhaltl. Verantwortl. gem. § 5 TMG</h3><div class=\"textwidget\"><p>Maria Vlekke (Pressewartin)<br />\\nFabrice Beaumont (Webmaster)</p>\\n<p><a href=\"mailto:webmaster@tsk-sankt-augustin.de\">webmaster@tsk-sankt-augustin.de</a></p>\\n<p>Haftungshinweis: Trotz sorgfältiger inhaltlicher Kontrolle übernehmen wir keine Haftung für die Inhalte externer Links. Für den Inhalt der verlinkten Seiten sind ausschließlich deren Betreiber verantwortlich.</p>\\n</div><span class=\"seperator extralight-border\"></span></section></div>\\n\\n\\t\\t\\t\\t\\t</div>\\n\\n\\n\\t\\t\\t\\t<!-- ####### END FOOTER CONTAINER ####### -->\\n\\t\\t\\t\\t</div>\\n\\n\\t\\n\\n\\n\\t\\t\\t\\n\\n\\t\\t\\t\\n\\t\\t\\t\\t<footer class=\\'container_wrap socket_color\\' id=\\'socket\\'  role=\"contentinfo\" itemscope=\"itemscope\" itemtype=\"https://schema.org/WPFooter\" >\\n                    <div class=\\'container\\'>\\n\\n                        <span class=\\'copyright\\'>© 2020 Copyright – Tanzsportkreis Sankt Augustin e.V. – alle Rechte vorbehalten </span>\\n\\n                        <ul class=\\'noLightbox social_bookmarks icon_count_1\\'></ul>\\n                    </div>\\n\\n\\t            <!-- ####### END SOCKET CONTAINER ####### -->\\n\\t\\t\\t\\t</footer>\\n\\n\\n\\t\\t\\t\\t\\t<!-- end main -->\\n\\t\\t</div>\\n\\t\\t\\n\\t\\t<!-- end wrap_all --></div>\\n\\n<a href=\\'#top\\' title=\\'Nach oben scrollen\\' id=\\'scroll-top-link\\' aria-hidden=\\'true\\' data-av_icon=\\'\\ue876\\' data-av_iconfont=\\'entypo-fontello\\'><span class=\"avia_hidden_link_text\">Nach oben scrollen</span></a>\\n\\n<div id=\"fb-root\"></div>\\n\\n\\t\\t<script>\\n\\t\\t( function ( body ) {\\n\\t\\t\\t\\'use strict\\';\\n\\t\\t\\tbody.className = body.className.replace( /\\\\btribe-no-js\\\\b/, \\'tribe-js\\' );\\n\\t\\t} )( document.body );\\n\\t\\t</script>\\n\\t\\t\\n <script type=\\'text/javascript\\'>\\n /* <![CDATA[ */  \\nvar avia_framework_globals = avia_framework_globals || {};\\n    avia_framework_globals.frameworkUrl = \\'https://www.tanzsportkreis-sankt-augustin.de/wp-content/themes/enfold/framework/\\';\\n    avia_framework_globals.installedAt = \\'https://www.tanzsportkreis-sankt-augustin.de/wp-content/themes/enfold/\\';\\n    avia_framework_globals.ajaxurl = \\'https://www.tanzsportkreis-sankt-augustin.de/wp-admin/admin-ajax.php\\';\\n/* ]]> */ \\n</script>\\n \\n <script> /* <![CDATA[ */var tribe_l10n_datatables = {\"aria\":{\"sort_ascending\":\": aktivieren, um Spalte aufsteigend zu sortieren\",\"sort_descending\":\": aktivieren, um Spalte absteigend zu sortieren\"},\"length_menu\":\"Show _MENU_ entries\",\"empty_table\":\"Keine Daten verf\\\\u00fcgbar in der Tabelle\",\"info\":\"Zeige von _START_ bis _END_ von ingesamt _TOTAL_ Eintr\\\\u00e4gen\",\"info_empty\":\"Zeige 0 bis 0 von 0 Eintr\\\\u00e4gen\",\"info_filtered\":\"(gefiltert von _MAX_ Gesamt Eintr\\\\u00e4gen)\",\"zero_records\":\"Keine Zeilen gefunden\",\"search\":\"Suche:\",\"all_selected_text\":\"Alle Objekte auf dieser Seite wurden selektiert. \",\"select_all_link\":\"Alle Seiten selektieren\",\"clear_selection\":\"Auswahl aufheben.\",\"pagination\":{\"all\":\"Alle\",\"next\":\"N\\\\u00e4chste\",\"previous\":\"Vorherige\"},\"select\":{\"rows\":{\"0\":\"\",\"_\":\": Ausgew\\\\u00e4hlte %d Zeilen\",\"1\":\": Ausgew\\\\u00e4hlte 1 Zeile\"}},\"datepicker\":{\"dayNames\":[\"Sonntag\",\"Montag\",\"Dienstag\",\"Mittwoch\",\"Donnerstag\",\"Freitag\",\"Samstag\"],\"dayNamesShort\":[\"So\",\"Mo\",\"Di\",\"Mi\",\"Do\",\"Fr\",\"Sa\"],\"dayNamesMin\":[\"S\",\"M\",\"D\",\"M\",\"D\",\"F\",\"S\"],\"monthNames\":[\"Januar\",\"Februar\",\"M\\\\u00e4rz\",\"April\",\"Mai\",\"Juni\",\"Juli\",\"August\",\"September\",\"Oktober\",\"November\",\"Dezember\"],\"monthNamesShort\":[\"Januar\",\"Februar\",\"M\\\\u00e4rz\",\"April\",\"Mai\",\"Juni\",\"Juli\",\"August\",\"September\",\"Oktober\",\"November\",\"Dezember\"],\"monthNamesMin\":[\"Jan\",\"Feb\",\"Mrz\",\"Apr\",\"Mai\",\"Jun\",\"Jul\",\"Aug\",\"Sep\",\"Okt\",\"Nov\",\"Dez\"],\"nextText\":\"Weiter\",\"prevText\":\"Zur\\\\u00fcck\",\"currentText\":\"Heute\",\"closeText\":\"Erledigt\",\"today\":\"Heute\",\"clear\":\"Leeren\"}};/* ]]> */ </script><script type=\\'text/javascript\\' src=\\'https://www.tanzsportkreis-sankt-augustin.de/wp-content/plugins/embed-any-document/js/pdfobject.min.js?ver=2.7.2\\' id=\\'awsm-ead-pdf-object-js\\'></script>\\n<script type=\\'text/javascript\\' id=\\'awsm-ead-public-js-extra\\'>\\n/* <![CDATA[ */\\nvar eadPublic = [];\\n/* ]]> */\\n</script>\\n<script type=\\'text/javascript\\' src=\\'https://www.tanzsportkreis-sankt-augustin.de/wp-content/plugins/embed-any-document/js/embed-public.min.js?ver=2.7.2\\' id=\\'awsm-ead-public-js\\'></script>\\n<script type=\\'text/javascript\\' id=\\'dlm-xhr-js-extra\\'>\\n/* <![CDATA[ */\\nvar dlmXHRtranslations = {\"error\":\"An error occurred while trying to download the file. Please try again.\"};\\n/* ]]> */\\n</script>\\n<script type=\\'text/javascript\\' id=\\'dlm-xhr-js-before\\'>\\nconst dlmXHR = {\"xhr_links\":{\"class\":[\"download-link\",\"download-button\"]},\"prevent_duplicates\":true,\"ajaxUrl\":\"https:\\\\/\\\\/www.tanzsportkreis-sankt-augustin.de\\\\/wp-admin\\\\/admin-ajax.php\"}; dlmXHRinstance = {}; const dlmXHRGlobalLinks = \"https://www.tanzsportkreis-sankt-augustin.de/download/\"; dlmXHRgif = \"https://www.tanzsportkreis-sankt-augustin.de/wp-includes/images/spinner.gif\"\\n</script>\\n<script type=\\'text/javascript\\' src=\\'https://www.tanzsportkreis-sankt-augustin.de/wp-content/plugins/download-monitor/assets/js/dlm-xhr.min.js?ver=4.7.78\\' id=\\'dlm-xhr-js\\'></script>\\n<script type=\\'text/javascript\\' id=\\'mediaelement-core-js-before\\'>\\nvar mejsL10n = {\"language\":\"de\",\"strings\":{\"mejs.download-file\":\"Datei herunterladen\",\"mejs.install-flash\":\"Du verwendest einen Browser, der nicht den Flash-Player aktiviert oder installiert hat. Bitte aktiviere dein Flash-Player-Plugin oder lade die neueste Version von https:\\\\/\\\\/get.adobe.com\\\\/flashplayer\\\\/ herunter\",\"mejs.fullscreen\":\"Vollbild\",\"mejs.play\":\"Abspielen\",\"mejs.pause\":\"Pause\",\"mejs.time-slider\":\"Zeit-Schieberegler\",\"mejs.time-help-text\":\"Benutze die Pfeiltasten Links\\\\/Rechts, um 1 Sekunde vorzuspringen, und die Pfeiltasten Hoch\\\\/Runter, um 10 Sekunden vorzuspringen.\",\"mejs.live-broadcast\":\"Live-\\\\u00dcbertragung\",\"mejs.volume-help-text\":\"Pfeiltasten Hoch\\\\/Runter benutzen, um die Lautst\\\\u00e4rke zu regeln.\",\"mejs.unmute\":\"Laut schalten\",\"mejs.mute\":\"Stumm\",\"mejs.volume-slider\":\"Lautst\\\\u00e4rkeregler\",\"mejs.video-player\":\"Video-Player\",\"mejs.audio-player\":\"Audio-Player\",\"mejs.captions-subtitles\":\"Beschriftungen\\\\/Untertitel\",\"mejs.captions-chapters\":\"Kapitel\",\"mejs.none\":\"Keine\",\"mejs.afrikaans\":\"Afrikaans\",\"mejs.albanian\":\"Albanisch\",\"mejs.arabic\":\"Arabisch\",\"mejs.belarusian\":\"Wei\\\\u00dfrussisch\",\"mejs.bulgarian\":\"Bulgarisch\",\"mejs.catalan\":\"Katalanisch\",\"mejs.chinese\":\"Chinesisch\",\"mejs.chinese-simplified\":\"Chinesisch (Vereinfacht)\",\"mejs.chinese-traditional\":\"Chinesisch (Traditionell)\",\"mejs.croatian\":\"Kroatisch\",\"mejs.czech\":\"Tschechisch\",\"mejs.danish\":\"D\\\\u00e4nisch\",\"mejs.dutch\":\"Niederl\\\\u00e4ndisch\",\"mejs.english\":\"Englisch\",\"mejs.estonian\":\"Estnisch\",\"mejs.filipino\":\"Filipino\",\"mejs.finnish\":\"Finnisch\",\"mejs.french\":\"Franz\\\\u00f6sisch\",\"mejs.galician\":\"Galicisch\",\"mejs.german\":\"Deutsch\",\"mejs.greek\":\"Griechisch\",\"mejs.haitian-creole\":\"Haitianisches Kreolisch\",\"mejs.hebrew\":\"Hebr\\\\u00e4isch\",\"mejs.hindi\":\"Hindi\",\"mejs.hungarian\":\"Ungarisch\",\"mejs.icelandic\":\"Isl\\\\u00e4ndisch\",\"mejs.indonesian\":\"Indonesisch\",\"mejs.irish\":\"Irisch\",\"mejs.italian\":\"Italienisch\",\"mejs.japanese\":\"Japanisch\",\"mejs.korean\":\"Koreanisch\",\"mejs.latvian\":\"Lettisch\",\"mejs.lithuanian\":\"Litauisch\",\"mejs.macedonian\":\"Mazedonisch\",\"mejs.malay\":\"Malaiisch\",\"mejs.maltese\":\"Maltesisch\",\"mejs.norwegian\":\"Norwegisch\",\"mejs.persian\":\"Persisch\",\"mejs.polish\":\"Polnisch\",\"mejs.portuguese\":\"Portugiesisch\",\"mejs.romanian\":\"Rum\\\\u00e4nisch\",\"mejs.russian\":\"Russisch\",\"mejs.serbian\":\"Serbisch\",\"mejs.slovak\":\"Slowakisch\",\"mejs.slovenian\":\"Slowenisch\",\"mejs.spanish\":\"Spanisch\",\"mejs.swahili\":\"Suaheli\",\"mejs.swedish\":\"Schwedisch\",\"mejs.tagalog\":\"Tagalog\",\"mejs.thai\":\"Thail\\\\u00e4ndisch\",\"mejs.turkish\":\"T\\\\u00fcrkisch\",\"mejs.ukrainian\":\"Ukrainisch\",\"mejs.vietnamese\":\"Vietnamesisch\",\"mejs.welsh\":\"Walisisch\",\"mejs.yiddish\":\"Jiddisch\"}};\\n</script>\\n<script type=\\'text/javascript\\' src=\\'https://www.tanzsportkreis-sankt-augustin.de/wp-includes/js/mediaelement/mediaelement-and-player.min.js?ver=4.2.16\\' id=\\'mediaelement-core-js\\'></script>\\n<script type=\\'text/javascript\\' src=\\'https://www.tanzsportkreis-sankt-augustin.de/wp-includes/js/mediaelement/mediaelement-migrate.min.js?ver=5.8.8\\' id=\\'mediaelement-migrate-js\\'></script>\\n<script type=\\'text/javascript\\' id=\\'mediaelement-js-extra\\'>\\n/* <![CDATA[ */\\nvar _wpmejsSettings = {\"pluginPath\":\"\\\\/wp-includes\\\\/js\\\\/mediaelement\\\\/\",\"classPrefix\":\"mejs-\",\"stretching\":\"responsive\"};\\n/* ]]> */\\n</script>\\n<script type=\\'text/javascript\\' src=\\'https://www.tanzsportkreis-sankt-augustin.de/wp-includes/js/mediaelement/wp-mediaelement.min.js?ver=5.8.8\\' id=\\'wp-mediaelement-js\\'></script>\\n<script type=\\'text/javascript\\' src=\\'https://www.tanzsportkreis-sankt-augustin.de/wp-includes/js/wp-embed.min.js?ver=5.8.8\\' id=\\'wp-embed-js\\'></script>\\n<script type=\\'text/javascript\\' src=\\'https://www.tanzsportkreis-sankt-augustin.de/wp-content/uploads/dynamic_avia/avia-footer-scripts-3a4e2f3096cabe82e57c72313b1df698.js\\' id=\\'avia-footer-scripts-js\\'></script>\\n</body>\\n</html>\\n'"
      ]
     },
     "execution_count": 54,
     "metadata": {},
     "output_type": "execute_result"
    }
   ],
   "source": [
    "session = requests.Session()\n",
    "retry = Retry(connect=3, backoff_factor=1.0)\n",
    "adapter = HTTPAdapter(max_retries=retry)\n",
    "session.mount(\"https://\", adapter)\n",
    "\n",
    "url = 'https://www.tanzsportkreis-sankt-augustin.de/'\n",
    "\n",
    "source_code = session.get(url)\n",
    "source_code.text"
   ]
  },
  {
   "cell_type": "code",
   "execution_count": 3,
   "metadata": {},
   "outputs": [],
   "source": [
    "# local_anchors = soup.find_all(\"a\")\n",
    "# local_links = list(set([a.attrs['href'] for a in local_anchors if \"href\" in a.attrs]))\n",
    "# local_links"
   ]
  },
  {
   "cell_type": "markdown",
   "metadata": {},
   "source": [
    "## Dev: Data management"
   ]
  },
  {
   "cell_type": "markdown",
   "metadata": {},
   "source": [
    "## 1. Crawl for club names\n",
    "Given a site that contains links to clubs, crawl links that may lead to them. These are links that do not contain the original site name in the url."
   ]
  },
  {
   "cell_type": "code",
   "execution_count": 4,
   "metadata": {},
   "outputs": [],
   "source": [
    "clubs = c.ClubsTable()\n",
    "# clubs.update_clubs_using_hints()"
   ]
  },
  {
   "cell_type": "markdown",
   "metadata": {},
   "source": [
    "## 2. Go through the crawled club names\n",
    "Try to find a collection of tournaments, if found, save the site to the clubs list and the original site."
   ]
  },
  {
   "cell_type": "code",
   "execution_count": null,
   "metadata": {},
   "outputs": [],
   "source": [
    "tournaments = c.TournamentsTable()\n",
    "clubs = c.ClubsTable()"
   ]
  },
  {
   "cell_type": "code",
   "execution_count": null,
   "metadata": {},
   "outputs": [
    {
     "name": "stdout",
     "output_type": "stream",
     "text": [
      "Crawling for new clubs on webpage 'https://tnw.de/verband/vereine/'...\n"
     ]
    },
    {
     "name": "stderr",
     "output_type": "stream",
     "text": [
      "Processing tnw.de...:: 100%|██████████| 232/232 [00:00<00:00, 1519.41 links/s]                                   \n"
     ]
    },
    {
     "name": "stdout",
     "output_type": "stream",
     "text": [
      "Links found: 174,\tAccepted 174                                                                                                    \n",
      "Runtime:  2.04 sec\t( 0.01 sec per link,  0.01 sec per accepted link)\n",
      "Found 0 new possible club websites here!\n",
      "\n",
      "Crawling for new clubs on webpage 'https://www.tbw.de/home/verband/vereine?tx_piidata_vereinssuche%5Baction%5D=search&tx_piidata_vereinssuche%5Bcontroller%5D=Verein&cHash=3d7c9572d9bcfa7b932c237a6f44fafc'...\n"
     ]
    },
    {
     "name": "stderr",
     "output_type": "stream",
     "text": [
      "Processing www.tbw.de...:: 100%|██████████| 73/73 [00:00<00:00, 1537.67 links/s, www.tbw.de]        \n"
     ]
    },
    {
     "name": "stdout",
     "output_type": "stream",
     "text": [
      "Links found: 5,\tAccepted 5                                                                                                    \n",
      "Runtime:  0.84 sec\t( 0.17 sec per link,  0.17 sec per accepted link)\n",
      "Found 0 new possible club websites here!\n",
      "\n",
      "Crawling for new clubs on webpage 'https://ltv-berlin.de/de/verband/vereine/vereinsliste'...\n"
     ]
    },
    {
     "name": "stderr",
     "output_type": "stream",
     "text": [
      "Processing ltv-berlin.de...:: 100%|██████████| 197/197 [00:00<00:00, 1507.91 links/s, zwe.ltv-berlin.de]                 \n"
     ]
    },
    {
     "name": "stdout",
     "output_type": "stream",
     "text": [
      "Links found: 56,\tAccepted 56                                                                                                    \n",
      "Runtime:  0.88 sec\t( 0.02 sec per link,  0.02 sec per accepted link)\n",
      "Found 0 new possible club websites here!\n",
      "\n",
      "Crawling for new clubs on webpage 'https://tanzsport-brandenburg.de/?page_id=392'...\n"
     ]
    },
    {
     "name": "stderr",
     "output_type": "stream",
     "text": [
      "Processing tanzsport-brandenburg.de...:: 100%|██████████| 56/56 [00:00<00:00, 1552.54 links/s, www.tsv-schoenwalde.de]         \n"
     ]
    },
    {
     "name": "stdout",
     "output_type": "stream",
     "text": [
      "Links found: 33,\tAccepted 33                                                                                                    \n",
      "Runtime:  1.59 sec\t( 0.05 sec per link,  0.05 sec per accepted link)\n",
      "Found 0 new possible club websites here!\n",
      "\n",
      "Crawling for new clubs on webpage 'https://ltvbremen.de/verband/vereine'...\n"
     ]
    },
    {
     "name": "stderr",
     "output_type": "stream",
     "text": [
      "Processing ltvbremen.de...:: 100%|██████████| 58/58 [00:00<00:00, 1427.77 links/s]                                     \n"
     ]
    },
    {
     "name": "stdout",
     "output_type": "stream",
     "text": [
      "Links found: 26,\tAccepted 26                                                                                                    \n",
      "Runtime:  1.34 sec\t( 0.05 sec per link,  0.05 sec per accepted link)\n",
      "Found 0 new possible club websites here!\n",
      "\n",
      "Crawling for new clubs on webpage 'https://www.hatv.de/index.php/verband/verband-vereine-verbaende'...\n"
     ]
    },
    {
     "name": "stderr",
     "output_type": "stream",
     "text": [
      "Processing www.hatv.de...:: 100%|██████████| 168/168 [00:00<00:00, 1605.41 links/s, zwe-tsh-hatv.de]              \n"
     ]
    },
    {
     "name": "stdout",
     "output_type": "stream",
     "text": [
      "Links found: 91,\tAccepted 91                                                                                                    \n",
      "Runtime:  0.61 sec\t( 0.01 sec per link,  0.01 sec per accepted link)\n",
      "Found 0 new possible club websites here!\n",
      "\n",
      "Crawling for new clubs on webpage 'https://htv.de/vereine/'...\n"
     ]
    },
    {
     "name": "stderr",
     "output_type": "stream",
     "text": [
      "Processing htv.de...:: 100%|██████████| 168/168 [00:00<00:00, 1539.65 links/s]                                   \n"
     ]
    },
    {
     "name": "stdout",
     "output_type": "stream",
     "text": [
      "Links found: 112,\tAccepted 112                                                                                                    \n",
      "Runtime:  1.20 sec\t( 0.01 sec per link,  0.01 sec per accepted link)\n",
      "Found 0 new possible club websites here!\n",
      "\n",
      "Crawling for new clubs on webpage 'https://www.tanzsport-mv.de/der-verband/'...\n"
     ]
    },
    {
     "name": "stderr",
     "output_type": "stream",
     "text": [
      "Processing www.tanzsport-mv.de...:: 100%|██████████| 31/31 [00:00<00:00, 1604.81 links/s]                               \n"
     ]
    },
    {
     "name": "stdout",
     "output_type": "stream",
     "text": [
      "Links found: 13,\tAccepted 13                                                                                                    \n",
      "Runtime:  0.51 sec\t( 0.04 sec per link,  0.04 sec per accepted link)\n",
      "Found 0 new possible club websites here!\n",
      "\n",
      "Crawling for new clubs on webpage 'https://www.tanzen-slt.de/public/verband/die-vereine.html'...\n"
     ]
    },
    {
     "name": "stderr",
     "output_type": "stream",
     "text": [
      "Processing www.tanzen-slt.de...:: 100%|██████████| 81/81 [00:00<00:00, 1616.82 links/s, www.schermscha.de]                  \n"
     ]
    },
    {
     "name": "stdout",
     "output_type": "stream",
     "text": [
      "Links found: 33,\tAccepted 33                                                                                                    \n",
      "Runtime:  1.19 sec\t( 0.04 sec per link,  0.04 sec per accepted link)\n",
      "Found 0 new possible club websites here!\n",
      "\n",
      "Crawling for new clubs on webpage 'https://www.faszination-tanzen.de/vereine-im-ltvs.html'...\n"
     ]
    },
    {
     "name": "stderr",
     "output_type": "stream",
     "text": [
      "Processing www.faszination-tanzen.de...:: 100%|██████████| 118/118 [00:00<00:00, 1657.98 links/s]                                    \n"
     ]
    },
    {
     "name": "stdout",
     "output_type": "stream",
     "text": [
      "Links found: 48,\tAccepted 48                                                                                                    \n",
      "Runtime:  0.52 sec\t( 0.01 sec per link,  0.01 sec per accepted link)\n",
      "Found 0 new possible club websites here!\n",
      "\n",
      "Crawling for new clubs on webpage 'https://www.ltvsa.de/verband/vereine'...\n"
     ]
    },
    {
     "name": "stderr",
     "output_type": "stream",
     "text": [
      "Processing www.ltvsa.de...:: 100%|██████████| 54/54 [00:00<00:00, 1492.98 links/s]                                  \n"
     ]
    },
    {
     "name": "stdout",
     "output_type": "stream",
     "text": [
      "Links found: 28,\tAccepted 28                                                                                                    \n",
      "Runtime:  0.38 sec\t( 0.01 sec per link,  0.01 sec per accepted link)\n",
      "Found 0 new possible club websites here!\n",
      "\n",
      "Crawling for new clubs on webpage 'https://www.tanzen-in-sh.de/verband/vereine'...\n"
     ]
    },
    {
     "name": "stderr",
     "output_type": "stream",
     "text": [
      "Processing www.tanzen-in-sh.de...:: 100%|██████████| 164/164 [00:00<00:00, 1651.32 links/s, zwe-tsh-hatv.de]                     \n"
     ]
    },
    {
     "name": "stdout",
     "output_type": "stream",
     "text": [
      "Links found: 76,\tAccepted 76                                                                                                    \n",
      "Runtime:  0.70 sec\t( 0.01 sec per link,  0.01 sec per accepted link)\n",
      "Found 0 new possible club websites here!\n",
      "\n",
      "Crawling for new clubs on webpage 'https://www.ttsv-tanzen.de/vereine-in-thueringen/'...\n"
     ]
    },
    {
     "name": "stderr",
     "output_type": "stream",
     "text": [
      "Processing www.ttsv-tanzen.de...:: 100%|██████████| 77/77 [00:00<00:00, 1774.20 links/s]                    "
     ]
    },
    {
     "name": "stdout",
     "output_type": "stream",
     "text": [
      "Links found: 4,\tAccepted 4                                                                                                    \n",
      "Runtime:  0.85 sec\t( 0.21 sec per link,  0.21 sec per accepted link)\n",
      "Found 0 new possible club websites here!\n",
      "\n",
      "Saving clubs dataframe (dict) to file: 'data/clubs.csv'\n",
      "Found 0 new possible club websites in total!\n"
     ]
    },
    {
     "name": "stderr",
     "output_type": "stream",
     "text": [
      "\n"
     ]
    },
    {
     "data": {
      "text/plain": [
       "0"
      ]
     },
     "execution_count": 6,
     "metadata": {},
     "output_type": "execute_result"
    }
   ],
   "source": [
    "clubs.update_clubs_using_hints()"
   ]
  },
  {
   "cell_type": "markdown",
   "metadata": {},
   "source": []
  },
  {
   "cell_type": "code",
   "execution_count": null,
   "metadata": {},
   "outputs": [],
   "source": [
    "clubs.add_sites_to_club('http://artofdance.koeln', clubs.cTOURNAMENT_SITES, )"
   ]
  },
  {
   "cell_type": "code",
   "execution_count": null,
   "metadata": {},
   "outputs": [
    {
     "data": {
      "text/plain": [
       "'https://www.tanzsportkreis-sankt-augustin.de/'"
      ]
     },
     "execution_count": 3,
     "metadata": {},
     "output_type": "execute_result"
    }
   ],
   "source": [
    "url = 'https://www.tanzsportkreis-sankt-augustin.de/' # clubs.df.iloc[0][c.ClubsTable.cURL]\n",
    "federal_state = clubs.df.iloc[0][c.ClubsTable.cFEDERAL_STATE]\n",
    "url"
   ]
  },
  {
   "cell_type": "code",
   "execution_count": null,
   "metadata": {},
   "outputs": [
    {
     "data": {
      "text/plain": [
       "'Nordrhein-Westfalen'"
      ]
     },
     "execution_count": 4,
     "metadata": {},
     "output_type": "execute_result"
    }
   ],
   "source": [
    "federal_state"
   ]
  },
  {
   "cell_type": "code",
   "execution_count": null,
   "metadata": {},
   "outputs": [
    {
     "name": "stdout",
     "output_type": "stream",
     "text": [
      "Processing link 'https://www.tanzsportkreis-sankt-augustin.de/'...\n"
     ]
    },
    {
     "name": "stderr",
     "output_type": "stream",
     "text": [
      "Processing https://ww...::   0%| | 0/100 [00:00<?,"
     ]
    },
    {
     "name": "stdout",
     "output_type": "stream",
     "text": [
      "Error: Could not completely process site 'https://www.tanzsportkreis-sankt-augustin.de/'\n",
      ">>>need more than 1 value to unpack\n",
      "Links found: 0,\tAccepted 0                                                                                                    \n",
      "Runtime:  1.45 sec\t( 1.45 sec per link,  1.45 sec per accepted link)\n",
      "Saved 0 possible candidates for competition result sites from website 'https://www.tanzsportkreis-sankt-augustin.de/'\n",
      "\n",
      "Saving clubs dataframe to file: 'data/clubs.csv'\n",
      "Saving clubs dataframe to file: 'data/find_tournaments.csv'\n",
      "Saved 0 tournament webpages links in total.\n"
     ]
    },
    {
     "name": "stderr",
     "output_type": "stream",
     "text": [
      "\n"
     ]
    }
   ],
   "source": []
  },
  {
   "cell_type": "markdown",
   "metadata": {},
   "source": [
    "## 3. Next, identify the tournament sites and crawl for the individual competitions\n",
    "Here we only crawl for results from the software `TopTurnier`. Thus the *tournament sites* and the *competition sites* can be identified by the key content:\n",
    "\n",
    "    `<meta name=\"GENERATOR\" content=\"TopTurnier\">`\n",
    "\n",
    "A competition site is found, on top of the content keyword its url ends with the anchor `\\index.hmt`."
   ]
  },
  {
   "cell_type": "markdown",
   "metadata": {},
   "source": [
    "## Test the already finished features"
   ]
  },
  {
   "cell_type": "markdown",
   "metadata": {},
   "source": [
    "## Use the `UrlHints` table to collect promising URLs to search for competition sites"
   ]
  },
  {
   "cell_type": "markdown",
   "metadata": {},
   "source": [
    "### Append to the `Url_hints` table by crawling for local club sites.\n",
    "Note that the `regional` and `national` will probably stay complete as it is (if the structure of federal states does not change)."
   ]
  }
 ],
 "metadata": {
  "kernelspec": {
   "display_name": "base",
   "language": "python",
   "name": "python3"
  },
  "language_info": {
   "codemirror_mode": {
    "name": "ipython",
    "version": 3
   },
   "file_extension": ".py",
   "mimetype": "text/x-python",
   "name": "python",
   "nbconvert_exporter": "python",
   "pygments_lexer": "ipython3",
   "version": "3.10.13"
  }
 },
 "nbformat": 4,
 "nbformat_minor": 2
}
